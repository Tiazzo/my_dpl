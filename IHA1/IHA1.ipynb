{
 "cells": [
  {
   "cell_type": "markdown",
   "metadata": {},
   "source": [
    "### Checklist for submission\n",
    "\n",
    "It is extremely important to make sure that:\n",
    "\n",
    "1. Everything runs as expected (no bugs when running cells);\n",
    "2. The output from each cell corresponds to its code (don't change any cell's contents without rerunning it afterwards);\n",
    "3. All outputs are present (don't delete any of the outputs);\n",
    "4. Fill in all the places that say `# YOUR CODE HERE`, or \"**Your answer:** (fill in here)\".\n",
    "5. Never copy/paste any notebook cells. Inserting new cells is allowed, but it should not be necessary.\n",
    "6. The notebook contains some hidden metadata which is important during our grading process. **Make sure not to corrupt any of this metadata!** The metadata may for example be corrupted if you copy/paste any notebook cells, or if you perform an unsuccessful git merge / git pull. It may also be pruned completely if using Google Colab, so watch out for this. Searching for \"nbgrader\" when opening the notebook in a text editor should take you to the important metadata entries.\n",
    "7. Although we will try our very best to avoid this, it may happen that bugs are found after an assignment is released, and that we will push an updated version of the assignment to GitHub. If this happens, it is important that you update to the new version, while making sure the notebook metadata is properly updated as well. The safest way to make sure nothing gets messed up is to start from scratch on a clean updated version of the notebook, copy/pasting your code from the cells of the previous version into the cells of the new version.\n",
    "8. If you need to have multiple parallel versions of this notebook, make sure not to move them to another directory.\n",
    "9. Although not forced to work exclusively in the course `conda` environment, you need to make sure that the notebook will run in that environment, i.e. that you have not added any additional dependencies.\n",
    "\n",
    "**FOR HA1, HA2 ONLY:** Failing to meet any of these requirements might lead to either a subtraction of points (at best) or a request for resubmission (at worst).\n",
    "\n",
    "We advise you to perform the following steps before submission to ensure that requirements 1, 2, and 3 are always met: **Restart the kernel** (in the menubar, select Kernel$\\rightarrow$Restart) and then **run all cells** (in the menubar, select Cell$\\rightarrow$Run All). This might require a bit of time, so plan ahead for this (and possibly use a cloud GPU in HA1 and HA2 for this step). Finally press the \"Save and Checkout\" button before handing in, to make sure that all your changes are saved to this .ipynb file."
   ]
  },
  {
   "cell_type": "markdown",
   "metadata": {},
   "source": [
    "### Fill in name of notebook file\n",
    "This might seem silly, but the version check below needs to know the filename of the current notebook, which is not trivial to find out programmatically.\n",
    "\n",
    "You might want to have several parallel versions of the notebook, and it is fine to rename the notebook as long as it stays in the same directory. **However**, if you do rename it, you also need to update its own filename below:"
   ]
  },
  {
   "cell_type": "code",
   "execution_count": 1,
   "metadata": {},
   "outputs": [],
   "source": [
    "nb_fname = \"IHA1.ipynb\""
   ]
  },
  {
   "cell_type": "markdown",
   "metadata": {},
   "source": [
    "### Fill in group number and member names (use NAME2 and GROUP only for HA1 and HA2):"
   ]
  },
  {
   "cell_type": "code",
   "execution_count": 2,
   "metadata": {},
   "outputs": [],
   "source": [
    "NAME1 = \"\"\n",
    "NAME2 = \"\"\n",
    "GROUP = \"\""
   ]
  },
  {
   "cell_type": "markdown",
   "metadata": {},
   "source": [
    "### Check Python version"
   ]
  },
  {
   "cell_type": "code",
   "execution_count": 3,
   "metadata": {},
   "outputs": [
    {
     "ename": "AssertionError",
     "evalue": "You are not running Python 3.11. Make sure to run Python through the course Conda environment.",
     "output_type": "error",
     "traceback": [
      "\u001b[0;31m---------------------------------------------------------------------------\u001b[0m",
      "\u001b[0;31mAssertionError\u001b[0m                            Traceback (most recent call last)",
      "Cell \u001b[0;32mIn[3], line 4\u001b[0m\n\u001b[1;32m      1\u001b[0m \u001b[38;5;28;01mfrom\u001b[39;00m \u001b[38;5;21;01mplatform\u001b[39;00m \u001b[38;5;28;01mimport\u001b[39;00m python_version_tuple\n\u001b[1;32m      3\u001b[0m \u001b[38;5;28;01massert\u001b[39;00m (\n\u001b[0;32m----> 4\u001b[0m     python_version_tuple()[:\u001b[38;5;241m2\u001b[39m] \u001b[38;5;241m==\u001b[39m (\u001b[38;5;124m\"\u001b[39m\u001b[38;5;124m3\u001b[39m\u001b[38;5;124m\"\u001b[39m, \u001b[38;5;124m\"\u001b[39m\u001b[38;5;124m11\u001b[39m\u001b[38;5;124m\"\u001b[39m)\n\u001b[1;32m      5\u001b[0m ), \u001b[38;5;124m\"\u001b[39m\u001b[38;5;124mYou are not running Python 3.11. Make sure to run Python through the course Conda environment.\u001b[39m\u001b[38;5;124m\"\u001b[39m\n",
      "\u001b[0;31mAssertionError\u001b[0m: You are not running Python 3.11. Make sure to run Python through the course Conda environment."
     ]
    }
   ],
   "source": [
    "from platform import python_version_tuple\n",
    "\n",
    "assert (\n",
    "    python_version_tuple()[:2] == (\"3\", \"11\")\n",
    "), \"You are not running Python 3.11. Make sure to run Python through the course Conda environment.\""
   ]
  },
  {
   "cell_type": "markdown",
   "metadata": {},
   "source": [
    "### Check that notebook server has access to all required resources, and that notebook has not moved"
   ]
  },
  {
   "cell_type": "code",
   "execution_count": null,
   "metadata": {},
   "outputs": [],
   "source": [
    "import os\n",
    "\n",
    "nb_dirname = os.path.abspath(\"\")\n",
    "assignment_name = os.path.basename(nb_dirname)\n",
    "assert assignment_name in [\n",
    "    \"IHA1\",\n",
    "    \"IHA2\",\n",
    "    \"HA1\",\n",
    "    \"HA2\",\n",
    "], \"[ERROR] The notebook appears to have been moved from its original directory\""
   ]
  },
  {
   "cell_type": "markdown",
   "metadata": {},
   "source": [
    "### Verify correct nb_fname"
   ]
  },
  {
   "cell_type": "code",
   "execution_count": null,
   "metadata": {},
   "outputs": [
    {
     "data": {
      "text/html": [
       "<script>if(\"IHA1.ipynb\" != IPython.notebook.notebook_name) { alert(\"You have filled in nb_fname = \\\"IHA1.ipynb\\\", but this does not seem to match the notebook filename \\\"\" + IPython.notebook.notebook_name + \"\\\".\"); }</script>"
      ],
      "text/plain": [
       "<IPython.core.display.HTML object>"
      ]
     },
     "metadata": {},
     "output_type": "display_data"
    }
   ],
   "source": [
    "from IPython.display import HTML, display\n",
    "\n",
    "try:\n",
    "    display(\n",
    "        HTML(\n",
    "            r'<script>if(\"{nb_fname}\" != IPython.notebook.notebook_name) {{ alert(\"You have filled in nb_fname = \\\"{nb_fname}\\\", but this does not seem to match the notebook filename \\\"\" + IPython.notebook.notebook_name + \"\\\".\"); }}</script>'.format(\n",
    "                nb_fname=nb_fname\n",
    "            )\n",
    "        )\n",
    "    )\n",
    "except NameError:\n",
    "    assert False, \"Make sure to fill in the nb_fname variable above!\""
   ]
  },
  {
   "cell_type": "markdown",
   "metadata": {},
   "source": [
    "### Verify that your notebook is up-to-date and not corrupted in any way"
   ]
  },
  {
   "cell_type": "code",
   "execution_count": null,
   "metadata": {},
   "outputs": [
    {
     "name": "stdout",
     "output_type": "stream",
     "text": [
      "Matching current notebook against the following URL:\n",
      "http://raw.githubusercontent.com/dml-cth/deep-machine-learning/master/home-assignments/IHA1/IHA1.ipynb\n",
      "[SUCCESS] No major notebook mismatch found when comparing to latest GitHub version. (There might be minor updates, but even that is the case, submitting your work based on this notebook version would be acceptable.)\n"
     ]
    }
   ],
   "source": [
    "import sys\n",
    "\n",
    "sys.path.append(\"..\")\n",
    "from ha_utils import check_notebook_uptodate_and_not_corrupted\n",
    "\n",
    "check_notebook_uptodate_and_not_corrupted(nb_dirname, nb_fname)"
   ]
  },
  {
   "cell_type": "markdown",
   "metadata": {},
   "source": [
    "# IHA1 - Assignment"
   ]
  },
  {
   "cell_type": "markdown",
   "metadata": {},
   "source": [
    "Welcome to the first individual home assignment!  \n",
    "\n",
    "This assignment consists of two parts:\n",
    " * Python and NumPy exercises;\n",
    " * Build a deep neural network for forward propagation.\n",
    "  \n",
    "The focus of this assignment is for you to gain practical knowledge with implementing forward and backward propagation of deep neural networks **without** using any deep learning framework. You will also gain practical knowledge in two of Python's scientific libraries, [NumPy](https://numpy.org/doc/1.26/) and [Matplotlib](https://matplotlib.org/devdocs/index.html). Note that NumPy and [PyTorch](https://pytorch.org/) (the deep learning framework used in this course) share a lot of similarities with how they handle arrays/tensors, so in the coming assignments, you can leverage on what you learn here.\n",
    "\n",
    "Skeleton code is provided for most tasks, and every part you are expected to implement is marked with **YOUR CODE HERE**. Throughout the assignment, you will also need to submit written answers to some questions. These questions are mainly to make you reflect on some particular topics, and your answers will not be graded in detail.\n",
    "\n",
    "We expect you to search and learn by yourself any commands you think are useful for these tasks. Don't limit yourself to what was taught in CL1. Use the help function, [stackoverflow](https://stackoverflow.com/), Google, the [Python documentation](https://docs.python.org/3.11/library/index.html) and the [NumPy](https://numpy.org/doc/2.0/index.html) documentation to your advantage.\n",
    "\n",
    "**IMPORTANT NOTE**: The tests available are not exhaustive, meaning that if you pass a test you have avoided the most common mistakes, but it is still not guaranteed that your solution is 100% correct. To pass this assignment, we expect you to pass all tests. \n",
    "\n",
    "While we use the tests for grading here, we encourage you to implement unit tests like these yourself when developing any code. Sanity-checking that your code behaves as expected can save you a lot of time down the road.\n",
    "\n",
    "Let's start by importing the necessary libraries below."
   ]
  },
  {
   "cell_type": "code",
   "execution_count": null,
   "metadata": {},
   "outputs": [],
   "source": [
    "import matplotlib.pyplot as plt\n",
    "import numpy as np\n",
    "import utils.tests.iha1_tests as iha1_tests\n",
    "from sklearn.datasets import fetch_openml"
   ]
  },
  {
   "cell_type": "markdown",
   "metadata": {},
   "source": [
    "## 1. Lists and arrays introduction\n",
    "First, we will warm up with a Python exercise and few NumPy exercises."
   ]
  },
  {
   "cell_type": "markdown",
   "metadata": {},
   "source": [
    "### 1.1 List comprehensions\n",
    "Examine the code snippet provided below."
   ]
  },
  {
   "cell_type": "code",
   "execution_count": null,
   "metadata": {},
   "outputs": [
    {
     "name": "stdout",
     "output_type": "stream",
     "text": [
      "[0, 4, 16, 36, 64, 100, 144, 196, 256, 324, 400, 484, 576]\n"
     ]
    }
   ],
   "source": [
    "def square_even_numbers(max_num=24):\n",
    "    my_list = []\n",
    "    for i in range(max_num + 1):\n",
    "        if i % 2 == 0:\n",
    "            my_list.append(i**2)\n",
    "    return my_list\n",
    "\n",
    "\n",
    "print(square_even_numbers(24))"
   ]
  },
  {
   "cell_type": "markdown",
   "metadata": {},
   "source": [
    "This is not a very \"[pythonic](http://docs.python-guide.org/en/latest/writing/style/)\" way of writing. Lets re-write the code above using a [list comprehension](https://docs.python.org/2/tutorial/datastructures.html#list-comprehensions). The result will be less code, more readable and elegant. Your solution should be able to fit into one line of code."
   ]
  },
  {
   "cell_type": "code",
   "execution_count": null,
   "metadata": {},
   "outputs": [
    {
     "name": "stdout",
     "output_type": "stream",
     "text": [
      "[0, 4, 16, 36, 64, 100, 144, 196, 256, 324, 400, 484, 576]\n"
     ]
    }
   ],
   "source": [
    "def square_even_numbers(max_num=24):\n",
    "    my_list = [i**2 for i in range(max_num+1) if i%2==0]\n",
    "    return my_list\n",
    "\n",
    "\n",
    "print(square_even_numbers())"
   ]
  },
  {
   "cell_type": "code",
   "execution_count": null,
   "metadata": {},
   "outputs": [],
   "source": [
    "assert square_even_numbers(1) == [0]\n",
    "assert square_even_numbers(24) == [\n",
    "    0,\n",
    "    4,\n",
    "    16,\n",
    "    36,\n",
    "    64,\n",
    "    100,\n",
    "    144,\n",
    "    196,\n",
    "    256,\n",
    "    324,\n",
    "    400,\n",
    "    484,\n",
    "    576,\n",
    "]\n",
    "assert len(square_even_numbers(-1)) == 0\n",
    "assert len(square_even_numbers(100)) == 51\n",
    "assert sorted(square_even_numbers(123)) == square_even_numbers(123)"
   ]
  },
  {
   "cell_type": "markdown",
   "metadata": {},
   "source": [
    "### 1.2 Arrays, vectors, matrices, and tensors\n",
    "Many operations in deep learning revolve around handling and modifying data structures such as vectors (1D), matrices (2D), and tensors (N-D). In NumPy, all of these can be represented using arrays (in PyTorch, we'll use torch.Tensor's instead). Thus, it is important for you to understand these structures and the effects of applying different operations (matrix multiplications, reshaping, etc.).\n",
    "\n",
    "Run the cell below to create a numpy array.   "
   ]
  },
  {
   "cell_type": "code",
   "execution_count": null,
   "metadata": {},
   "outputs": [
    {
     "name": "stdout",
     "output_type": "stream",
     "text": [
      "[ 1  9 25 49]\n",
      "(4,)\n",
      "1\n"
     ]
    }
   ],
   "source": [
    "my_arr = np.array([1, 9, 25, 49])\n",
    "print(my_arr)\n",
    "print(my_arr.shape)\n",
    "print(my_arr.ndim)"
   ]
  },
  {
   "cell_type": "markdown",
   "metadata": {},
   "source": [
    "The above result indicates that **my_arr** is an array of 4 elements with shape (4,) and one dimension. You might be temped to think of this as a vector, but the behavior of this array and a vector in the linear algebra sense can be very different. It is important to separate the two types because it will save a lot of debugging time later on. Read more about numpy shapes [here](https://stackoverflow.com/a/22074424).\n",
    "\n",
    "Run the code below to see how the transpose operation behaves differently between an array and vector."
   ]
  },
  {
   "cell_type": "code",
   "execution_count": null,
   "metadata": {},
   "outputs": [
    {
     "name": "stdout",
     "output_type": "stream",
     "text": [
      "my_arr is an array of shape:\n",
      "(4,)\n",
      "The transpose of my_arr has the shape:\n",
      "(4,)\n",
      "my_col_vec is a vector of shape:\n",
      "(4, 1)\n",
      "The transpose of my_col_vec has the shape:\n",
      "(1, 4)\n"
     ]
    }
   ],
   "source": [
    "# print the shape of an array and the shape of a transposed array\n",
    "print(\"my_arr is an array of shape:\")\n",
    "print(my_arr.shape)\n",
    "print(\"The transpose of my_arr has the shape:\")\n",
    "print(my_arr.T.shape)\n",
    "\n",
    "# print the shape of a column vector and the transpose of a column vector\n",
    "my_col_vec = my_arr.reshape(4, 1)\n",
    "print(\"my_col_vec is a vector of shape:\")\n",
    "print(my_col_vec.shape)\n",
    "print(\"The transpose of my_col_vec has the shape:\")\n",
    "print(my_col_vec.T.shape)"
   ]
  },
  {
   "cell_type": "markdown",
   "metadata": {},
   "source": [
    "As an effect, matrix multiplication between arrays of different shape can give very different results."
   ]
  },
  {
   "cell_type": "code",
   "execution_count": null,
   "metadata": {},
   "outputs": [
    {
     "name": "stdout",
     "output_type": "stream",
     "text": [
      "The matrix multiplication between my_arr and my_arr has shape:\n",
      "()\n",
      "The matrix multiplication between my_arr and my_col_vec has shape:\n",
      "(1,)\n",
      "The matrix multiplication between my_col_vec.T and my_col_vec has shape:\n",
      "(1, 1)\n",
      "The matrix multiplication between my_col_vec and my_col_vec.T has shape:\n",
      "(4, 4)\n",
      "The matrix multiplication between my_col_vec and my_col_vec raises an error:\n",
      "matmul: Input operand 1 has a mismatch in its core dimension 0, with gufunc signature (n?,k),(k,m?)->(n?,m?) (size 4 is different from 1)\n",
      "The matrix multiplication between my_col_vec and my_arr raises an error:\n",
      "matmul: Input operand 1 has a mismatch in its core dimension 0, with gufunc signature (n?,k),(k,m?)->(n?,m?) (size 4 is different from 1)\n"
     ]
    }
   ],
   "source": [
    "print(\"The matrix multiplication between my_arr and my_arr has shape:\")\n",
    "print((my_arr @ my_arr).shape)\n",
    "\n",
    "print(\"The matrix multiplication between my_arr and my_col_vec has shape:\")\n",
    "print((my_arr @ my_col_vec).shape)\n",
    "\n",
    "print(\"The matrix multiplication between my_col_vec.T and my_col_vec has shape:\")\n",
    "print((my_col_vec.T @ my_col_vec).shape)\n",
    "\n",
    "print(\"The matrix multiplication between my_col_vec and my_col_vec.T has shape:\")\n",
    "print((my_col_vec @ my_col_vec.T).shape)\n",
    "\n",
    "print(\"The matrix multiplication between my_col_vec and my_col_vec raises an error:\")\n",
    "try:\n",
    "    print(my_col_vec @ my_col_vec)\n",
    "except ValueError as e:\n",
    "    print(e)\n",
    "\n",
    "print(\"The matrix multiplication between my_col_vec and my_arr raises an error:\")\n",
    "try:\n",
    "    print(my_col_vec @ my_arr)\n",
    "except ValueError as e:\n",
    "    print(e)"
   ]
  },
  {
   "cell_type": "markdown",
   "metadata": {},
   "source": [
    "This, then has implications for multiplications with a matrix. One dimensional arrays can be both left-, and right multiplied with matrices."
   ]
  },
  {
   "cell_type": "code",
   "execution_count": null,
   "metadata": {},
   "outputs": [
    {
     "name": "stdout",
     "output_type": "stream",
     "text": [
      "my_matrix is a matrix with the following values and shape:\n",
      "[[0.68 0.3  0.65 0.  ]\n",
      " [0.98 0.81 0.09 0.31]\n",
      " [0.52 0.13 0.6  0.72]\n",
      " [0.48 0.68 0.09 0.01]]\n",
      "(4, 4)\n",
      "The matrix multiplication between my_matrix and my_arr has shape:\n",
      "(4,)\n",
      "The matrix multiplication between my_arr and my_matrix has shape:\n",
      "(4,)\n",
      "But their results are not the same:\n",
      "arr_times_matrix: [46.02 44.16 20.87 21.28]\n",
      "matrix_times_arr: [19.63 25.71 51.97  9.34]\n"
     ]
    }
   ],
   "source": [
    "my_matrix = np.random.rand(4, 4).round(2)  # We round for readability\n",
    "print(\"my_matrix is a matrix with the following values and shape:\")\n",
    "print(my_matrix)\n",
    "print(my_matrix.shape)\n",
    "\n",
    "arr_times_matrix = my_arr @ my_matrix\n",
    "matrix_times_arr = my_matrix @ my_arr\n",
    "print(\"The matrix multiplication between my_matrix and my_arr has shape:\")\n",
    "print((arr_times_matrix).shape)\n",
    "\n",
    "print(\"The matrix multiplication between my_arr and my_matrix has shape:\")\n",
    "print((matrix_times_arr).shape)\n",
    "\n",
    "print(\"But their results are not the same:\")\n",
    "print(f\"arr_times_matrix: {arr_times_matrix}\")\n",
    "print(f\"matrix_times_arr: {matrix_times_arr}\")"
   ]
  },
  {
   "cell_type": "markdown",
   "metadata": {},
   "source": [
    "Wheras the reshaped version behaves like a column vector as expected."
   ]
  },
  {
   "cell_type": "code",
   "execution_count": null,
   "metadata": {},
   "outputs": [
    {
     "name": "stdout",
     "output_type": "stream",
     "text": [
      "The matrix multiplication between my_matrix (4, 4) and my_col_vec (4, 1) has shape:\n",
      "(4, 1)\n",
      "Matrix times column vector gives the same values as the matrix times the array:\n",
      "True\n",
      "The matrix multiplication between my_col_vec.T (1, 4) and my_matrix (4, 4) has shape:\n",
      "(1, 4)\n",
      "Row vector times matrix gives the same values as the array times the matrix:\n",
      "True\n"
     ]
    }
   ],
   "source": [
    "matrix_times_col_vec = my_matrix @ my_col_vec\n",
    "print(\n",
    "    f\"The matrix multiplication between my_matrix {my_matrix.shape} and my_col_vec {my_col_vec.shape} has shape:\"\n",
    ")\n",
    "print((matrix_times_col_vec).shape)\n",
    "print(\n",
    "    f\"Matrix times column vector gives the same values as the matrix times the array:\"\n",
    ")\n",
    "print((matrix_times_col_vec.flatten() == matrix_times_arr).all())\n",
    "\n",
    "row_vec_times_matrix = my_col_vec.T @ my_matrix\n",
    "print(\n",
    "    f\"The matrix multiplication between my_col_vec.T {my_col_vec.T.shape} and my_matrix {my_matrix.shape} has shape:\"\n",
    ")\n",
    "print((row_vec_times_matrix).shape)\n",
    "print(f\"Row vector times matrix gives the same values as the array times the matrix:\")\n",
    "print((row_vec_times_matrix.flatten() == arr_times_matrix).all())"
   ]
  },
  {
   "cell_type": "markdown",
   "metadata": {},
   "source": [
    "To check your understanding, implement the following function which caluclates the resulting shape when multiplying two arrays of shape `(a, b)` and `(c, d)`. If the operation is not possible, return `None`."
   ]
  },
  {
   "cell_type": "code",
   "execution_count": null,
   "metadata": {},
   "outputs": [],
   "source": [
    "def out_shape(shape1, shape2):\n",
    "    \"\"\"\n",
    "    Calculate the shape of the resulting matrix when multiplying two arrays.\n",
    "\n",
    "    Arguments:\n",
    "    shape1 -- a tuple of 2 positive integers representing the shape of the first array\n",
    "    shape2 -- a tuple of 2 positive integers representing the shape of the second array\n",
    "\n",
    "    Returns:\n",
    "    A tuple of integers representing the shape of the resulting matrix\n",
    "    Returns None if the shapes are not compatible for matrix multiplication\n",
    "    \"\"\"\n",
    "    a,b = shape1[0], shape1[1]\n",
    "    c,d = shape2[0], shape2[1]\n",
    "    first_array = np.random.rand(a,b)\n",
    "    second_array = np.random.rand(c,d)\n",
    "    try:\n",
    "        return (first_array @ second_array).shape\n",
    "    except: \n",
    "        return None"
   ]
  },
  {
   "cell_type": "code",
   "execution_count": null,
   "metadata": {},
   "outputs": [],
   "source": [
    "assert isinstance(out_shape((1, 4), (4, 1)), tuple)\n",
    "assert out_shape((1, 4), (4, 1)) == (1, 1)\n",
    "assert out_shape((1, 1), (1, 1)) == (1, 1)\n",
    "assert out_shape((4, 1), (4, 1)) == None\n"
   ]
  },
  {
   "cell_type": "markdown",
   "metadata": {},
   "source": [
    "As a side-note, there are multiple different types of multiplication in NumPy such as [matmul](https://numpy.org/doc/stable/reference/generated/numpy.matmul.html) (@), [multiply](https://numpy.org/doc/stable/reference/generated/numpy.multiply.html) (*), and [dot](https://numpy.org/doc/stable/reference/generated/numpy.dot.html). Make sure to use the right one for each task."
   ]
  },
  {
   "cell_type": "markdown",
   "metadata": {},
   "source": [
    "### 1.3 Numpy exercises\n",
    "Now run the cell below to create the numpy array `numbers` and then complete the exercises sequentially."
   ]
  },
  {
   "cell_type": "code",
   "execution_count": null,
   "metadata": {},
   "outputs": [
    {
     "name": "stdout",
     "output_type": "stream",
     "text": [
      "[ 0  1  2  3  4  5  6  7  8  9 10 11 12 13 14 15 16 17 18 19 20 21 22 23]\n"
     ]
    }
   ],
   "source": [
    "numbers = np.arange(24)\n",
    "print(numbers)"
   ]
  },
  {
   "cell_type": "code",
   "execution_count": null,
   "metadata": {},
   "outputs": [
    {
     "name": "stdout",
     "output_type": "stream",
     "text": [
      "[[ 0  1  2  3]\n",
      " [ 4  5  6  7]\n",
      " [ 8  9 10 11]\n",
      " [12 13 14 15]\n",
      " [16 17 18 19]\n",
      " [20 21 22 23]]\n"
     ]
    }
   ],
   "source": [
    "# TODO: reshape numbers into a 6x4 matrix\n",
    "numbers = numbers.reshape(6,4)\n",
    "print(numbers)"
   ]
  },
  {
   "cell_type": "code",
   "execution_count": null,
   "metadata": {},
   "outputs": [],
   "source": [
    "# sample output from cell above for reference\n",
    "#  [[ 0  1  2  3]\n",
    "#   [ 4  5  6  7]\n",
    "#   [ 8  9 10 11]\n",
    "#   [12 13 14 15]\n",
    "#   [16 17 18 19]\n",
    "#   [20 21 22 23]]"
   ]
  },
  {
   "cell_type": "code",
   "execution_count": null,
   "metadata": {},
   "outputs": [
    {
     "name": "stdout",
     "output_type": "stream",
     "text": [
      "Test passed\n"
     ]
    }
   ],
   "source": [
    "# test case\n",
    "iha1_tests.test_numpy_reshape(numbers)"
   ]
  },
  {
   "cell_type": "code",
   "execution_count": null,
   "metadata": {},
   "outputs": [
    {
     "name": "stdout",
     "output_type": "stream",
     "text": [
      "[[ 0  1  2  3]\n",
      " [ 4  5  6  7]\n",
      " [ 8  9 10 11]\n",
      " [12 13 14 15]\n",
      " [16 17 18 19]\n",
      " [20 21 22  0]]\n"
     ]
    }
   ],
   "source": [
    "# TODO: set the element of the last row of the last column to zero\n",
    "# Hint: Try what happends when indices are negative\n",
    "numbers[-1,-1] = 0\n",
    "print(numbers)"
   ]
  },
  {
   "cell_type": "code",
   "execution_count": null,
   "metadata": {},
   "outputs": [],
   "source": [
    "# sample output from cell above for reference\n",
    "#  [[ 0  1  2  3]\n",
    "#   [ 4  5  6  7]\n",
    "#   [ 8  9 10 11]\n",
    "#   [12 13 14 15]\n",
    "#   [16 17 18 19]\n",
    "#   [20 21 22  0]]"
   ]
  },
  {
   "cell_type": "code",
   "execution_count": null,
   "metadata": {},
   "outputs": [
    {
     "name": "stdout",
     "output_type": "stream",
     "text": [
      "Test passed\n"
     ]
    }
   ],
   "source": [
    "# test case\n",
    "iha1_tests.test_numpy_neg_ix(numbers)"
   ]
  },
  {
   "cell_type": "code",
   "execution_count": null,
   "metadata": {},
   "outputs": [
    {
     "name": "stdout",
     "output_type": "stream",
     "text": [
      "[[ 0  0  0  0]\n",
      " [ 4  5  6  7]\n",
      " [ 8  9 10 11]\n",
      " [12 13 14 15]\n",
      " [16 17 18 19]\n",
      " [20 21 22  0]]\n"
     ]
    }
   ],
   "source": [
    "# TODO: set every element of the first row to 0\n",
    "numbers[0, ::] = 0\n",
    "print(numbers)"
   ]
  },
  {
   "cell_type": "code",
   "execution_count": null,
   "metadata": {},
   "outputs": [],
   "source": [
    "# sample output from cell above for reference\n",
    "#  [[ 0  0  0  0]\n",
    "#   [ 4  5  6  7]\n",
    "#   [ 8  9 10 11]\n",
    "#   [12 13 14 15]\n",
    "#   [16 17 18 19]\n",
    "#   [20 21 22  0]]"
   ]
  },
  {
   "cell_type": "code",
   "execution_count": null,
   "metadata": {},
   "outputs": [
    {
     "name": "stdout",
     "output_type": "stream",
     "text": [
      "Test passed\n"
     ]
    }
   ],
   "source": [
    "# test case\n",
    "iha1_tests.test_numpy_row_ix(numbers)"
   ]
  },
  {
   "cell_type": "code",
   "execution_count": null,
   "metadata": {},
   "outputs": [
    {
     "name": "stdout",
     "output_type": "stream",
     "text": [
      "[[ 0  0  0  0]\n",
      " [ 4  5  6  7]\n",
      " [ 8  9 10 11]\n",
      " [12 13 14 15]\n",
      " [16 17 18 19]\n",
      " [20 21 22  0]\n",
      " [ 0  0  0  0]]\n",
      "(7, 4)\n"
     ]
    }
   ],
   "source": [
    "# TODO: append a 1x4 row vector of zeros to `numbers`,\n",
    "# resulting in a 7x4 matrix where the new row of zeros is the last row\n",
    "# Hint: A new matrix must be created in the procedure. Numpy arrays are not dynamic.\n",
    "zeros_arrays = np.zeros((1,4), dtype=int)\n",
    "numbers = np.vstack((numbers,zeros_arrays))\n",
    "print(numbers)\n",
    "print(numbers.shape)"
   ]
  },
  {
   "cell_type": "code",
   "execution_count": null,
   "metadata": {},
   "outputs": [],
   "source": [
    "# sample output from cell above for reference\n",
    "#   [[ 0  0  0  0]\n",
    "#    [ 4  5  6  7]\n",
    "#    [ 8  9 10 11]\n",
    "#    [12 13 14 15]\n",
    "#    [16 17 18 19]\n",
    "#    [20 21 22  0]\n",
    "#    [ 0  0  0  0]]\n",
    "#  (7, 4)"
   ]
  },
  {
   "cell_type": "code",
   "execution_count": null,
   "metadata": {},
   "outputs": [
    {
     "name": "stdout",
     "output_type": "stream",
     "text": [
      "Test passed\n"
     ]
    }
   ],
   "source": [
    "# test case\n",
    "iha1_tests.test_numpy_append_row(numbers)"
   ]
  },
  {
   "cell_type": "code",
   "execution_count": null,
   "metadata": {},
   "outputs": [
    {
     "name": "stdout",
     "output_type": "stream",
     "text": [
      "[[ 0  0  0  0]\n",
      " [ 4  5  6  7]\n",
      " [ 8  9 10  1]\n",
      " [ 1  1  1  1]\n",
      " [ 1  1  1  1]\n",
      " [ 1  1  1  0]\n",
      " [ 0  0  0  0]]\n"
     ]
    }
   ],
   "source": [
    "# TODO: set all elements with a value greater than 10 to the value 1\n",
    "numbers[(numbers>10)] = 1\n",
    "print(numbers)"
   ]
  },
  {
   "cell_type": "code",
   "execution_count": null,
   "metadata": {},
   "outputs": [],
   "source": [
    "# sample output from cell above for reference\n",
    "#  [[ 0  0  0  0]\n",
    "#   [ 4  5  6  7]\n",
    "#   [ 8  9 10  1]\n",
    "#   [ 1  1  1  1]\n",
    "#   [ 1  1  1  1]\n",
    "#   [ 1  1  1  0]\n",
    "#   [ 0  0  0  0]]"
   ]
  },
  {
   "cell_type": "code",
   "execution_count": null,
   "metadata": {},
   "outputs": [
    {
     "name": "stdout",
     "output_type": "stream",
     "text": [
      "Test passed\n"
     ]
    }
   ],
   "source": [
    "# test case\n",
    "iha1_tests.test_numpy_bool_matrix(numbers)"
   ]
  },
  {
   "cell_type": "code",
   "execution_count": null,
   "metadata": {},
   "outputs": [
    {
     "name": "stdout",
     "output_type": "stream",
     "text": [
      "(7,)\n",
      "[ 0 22 28  4  4  3  0]\n"
     ]
    }
   ],
   "source": [
    "# TODO: compute the sum of every row and replace `numbers` with the answer\n",
    "numbers = numbers.sum(axis=1)\n",
    "print(numbers.shape)\n",
    "print(numbers)"
   ]
  },
  {
   "cell_type": "code",
   "execution_count": null,
   "metadata": {},
   "outputs": [],
   "source": [
    "# sample output from cell above for reference\n",
    "#   (7,)\n",
    "#   [ 0 22 28  4  4  3  0]"
   ]
  },
  {
   "cell_type": "code",
   "execution_count": null,
   "metadata": {},
   "outputs": [
    {
     "name": "stdout",
     "output_type": "stream",
     "text": [
      "Test passed\n"
     ]
    }
   ],
   "source": [
    "# test case\n",
    "iha1_tests.test_numpy_sum(numbers)"
   ]
  },
  {
   "cell_type": "markdown",
   "metadata": {},
   "source": [
    "## 2 Building your first neural network\n",
    "It is time to start implementing your first neural network. In this lab youw will focus on the fundamentals of forward and backpropagation. As the main goal is for you to proper learn the fundamentals and get a solid understanding, the neural networks in this lab are kept very simple. In upcoming labs you will build more advanced networks, but the principles learned in this lab still holds true for more complex problems and network architectures."
   ]
  },
  {
   "cell_type": "markdown",
   "metadata": {},
   "source": [
    "### 2.1 Your first simple function (forward propagation)\n",
    "\n",
    "To start things off, we will begin with a simple scalar and linear function\n",
    "\\begin{equation}\n",
    "    y = w * x + b\n",
    "\\end{equation}\n",
    "where $x$ is some scalar input. As you might recall, this is very similar to the function represented by a single neuron in a network. Here we have left out the activation function for now, and only focus on the scalar case for simplicity.\n",
    "\n",
    "Start by implementing this function in the cell below. We call it forward as it's comparable to doing forward propagation for a single neuron (without any activation function)."
   ]
  },
  {
   "cell_type": "code",
   "execution_count": null,
   "metadata": {},
   "outputs": [],
   "source": [
    "def forward(x, w, b):\n",
    "    \"\"\"Implement the forward pass of a linear neuron.\n",
    "\n",
    "    Arguments:\n",
    "    x - a scalar input of type 'float'\n",
    "    w - a scalar weight of type 'float'\n",
    "    b - a scalar bias of type 'float'\n",
    "\n",
    "    Returns:\n",
    "    y - the output of the neuron, a scalar of type 'float'\n",
    "    \"\"\"\n",
    "    y = None\n",
    "    y = w * x + b\n",
    "    return y"
   ]
  },
  {
   "cell_type": "markdown",
   "metadata": {},
   "source": [
    "We can visualize the function for some chosen input interval, and some choice of the weight $w$ and the bias $b$."
   ]
  },
  {
   "cell_type": "code",
   "execution_count": null,
   "metadata": {},
   "outputs": [
    {
     "data": {
      "image/png": "[encoded data removed]",
      "text/plain": [
       "<Figure size 640x480 with 1 Axes>"
      ]
     },
     "metadata": {},
     "output_type": "display_data"
    }
   ],
   "source": [
    "xs = np.linspace(-3, 3, 1000)\n",
    "w = 5.0\n",
    "b = 2.0\n",
    "ys = []\n",
    "for x_ in xs:\n",
    "    ys.append(forward(x_, w, b))\n",
    "plt.plot(xs, ys, label=f\"y = {w}x + {b}\")\n",
    "plt.xlabel(\"x\")\n",
    "plt.ylabel(\"y\")\n",
    "plt.legend()\n",
    "plt.show()"
   ]
  },
  {
   "cell_type": "markdown",
   "metadata": {},
   "source": [
    "Let's also add a data point $(x, y) = (1.5, 14.0)$ and visualize that in the same plot as our line."
   ]
  },
  {
   "cell_type": "code",
   "execution_count": null,
   "metadata": {},
   "outputs": [
    {
     "data": {
      "image/png": "[encoded data removed]",
      "text/plain": [
       "<Figure size 640x480 with 1 Axes>"
      ]
     },
     "metadata": {},
     "output_type": "display_data"
    }
   ],
   "source": [
    "data = np.array([1.5, 14.0])  # x, y\n",
    "w = 5.0\n",
    "b = 2.0\n",
    "xs = np.linspace(-3, 3, 1000)\n",
    "ys = []\n",
    "for x_ in xs:\n",
    "    ys.append(forward(x_, w, b))\n",
    "plt.plot(xs, ys, label=f\"y = {w}x + {b}\")\n",
    "plt.plot(data[0], data[1], \"ro\", label=f\"({data[0]}, {data[1]})\")\n",
    "plt.xlabel(\"x\")\n",
    "plt.ylabel(\"y\")\n",
    "plt.legend()\n",
    "plt.show()"
   ]
  },
  {
   "cell_type": "markdown",
   "metadata": {},
   "source": [
    "As you can see in the plot, our line doesn't quite go through the data point.\n",
    "\n",
    "Manually find some parameters for $w$ and $b$ such that your line fits the data point. "
   ]
  },
  {
   "cell_type": "code",
   "execution_count": null,
   "metadata": {},
   "outputs": [
    {
     "data": {
      "image/png": "[encoded data removed]",
      "text/plain": [
       "<Figure size 640x480 with 1 Axes>"
      ]
     },
     "metadata": {},
     "output_type": "display_data"
    }
   ],
   "source": [
    "w = 8\n",
    "data = np.array([1.5, 14.0])  # x, y\n",
    "xs = np.linspace(-3, 3, 1000)\n",
    "ys = []\n",
    "for x_ in xs:\n",
    "    ys.append(forward(x_, w, b))\n",
    "plt.plot(xs, ys, label=f\"y = {w}x + {b}\")\n",
    "plt.plot(data[0], data[1], \"ro\", label=f\"({data[0]}, {data[1]})\")\n",
    "plt.xlabel(\"x\")\n",
    "plt.ylabel(\"y\")\n",
    "plt.legend()\n",
    "plt.show()"
   ]
  },
  {
   "cell_type": "code",
   "execution_count": null,
   "metadata": {},
   "outputs": [],
   "source": [
    "assert forward(data[0], w, b) == data[1]"
   ]
  },
  {
   "cell_type": "markdown",
   "metadata": {},
   "source": [
    "### 2.2 Using the derivative of the error\n",
    "\n",
    "We can also do something a bit more general and use the derivative of the error between our line and the point to find better parameters for our function.\n",
    "First, we will need to define some function that describes the error between our line and the point.\n",
    "Implement an error function that returns the squared error between some prediction from our function, $y_{pred}$, and some true value $y_{true}$."
   ]
  },
  {
   "cell_type": "code",
   "execution_count": null,
   "metadata": {},
   "outputs": [],
   "source": [
    "def error_function(y_pred, y_true):\n",
    "    \"\"\"Implement the error function as the squared error between the true and predicted value.\n",
    "\n",
    "    Arguments:\n",
    "    y_pred - a scalar value, the predicted value\n",
    "    y_true - a scalar value, the true value\n",
    "\n",
    "    Returns:\n",
    "    error - a scalar value, the squared error between the true and predicted value\n",
    "    \"\"\"\n",
    "    error = None\n",
    "    error = (y_true - y_pred) ** 2\n",
    "    return error"
   ]
  },
  {
   "cell_type": "code",
   "execution_count": null,
   "metadata": {},
   "outputs": [],
   "source": [
    "assert (\n",
    "    np.abs(error_function(np.array(13.37), np.array(0.0)) - 178.75689999999997) < 0.01\n",
    ")"
   ]
  },
  {
   "cell_type": "markdown",
   "metadata": {},
   "source": [
    "Next, we need to know how the error changes when our function changes. In other words, we need to know the derivative of the error function with respect to our function, $\\frac{\\partial e}{\\partial y}$.\n",
    "\n",
    "Implement $\\frac{\\partial e}{\\partial y}$ in the cell below."
   ]
  },
  {
   "cell_type": "code",
   "execution_count": null,
   "metadata": {},
   "outputs": [],
   "source": [
    "def de_dy(y_pred, y_true):\n",
    "    \"\"\"Implement the derivative of the error function with respect to the predicted value.\n",
    "\n",
    "    Arguments:\n",
    "    y_pred - a scalar value, the predicted value\n",
    "    y_true - a scalar value, the true value\n",
    "\n",
    "    Returns:\n",
    "    derivative - a scalar value, the derivative of the error with respect to the predicted value\n",
    "    \"\"\"\n",
    "    derivative = None\n",
    "    derivative = -2 * (y_true - y_pred)\n",
    "    return derivative"
   ]
  },
  {
   "cell_type": "code",
   "execution_count": null,
   "metadata": {},
   "outputs": [
    {
     "name": "stdout",
     "output_type": "stream",
     "text": [
      "The error for the original parameters:  20.25\n",
      "The derivative of the error with respect to y:  -9.0\n"
     ]
    }
   ],
   "source": [
    "# Test the derivative function for our original parameters w = 5.0, b = 2.0\n",
    "w, b = 5.0, 2.0\n",
    "data = np.array([1.5, 14.0])  # x, y\n",
    "x, y_true = data\n",
    "y_pred = forward(x, w, b)\n",
    "print(\"The error for the original parameters: \", error_function(y_pred, y_true))\n",
    "print(\"The derivative of the error with respect to y: \", de_dy(y_pred, y_true))"
   ]
  },
  {
   "cell_type": "code",
   "execution_count": null,
   "metadata": {},
   "outputs": [],
   "source": [
    "assert error_function(y_pred, y_true) == 20.25\n",
    "assert de_dy(y_pred, y_true) == -9.0"
   ]
  },
  {
   "cell_type": "markdown",
   "metadata": {},
   "source": [
    "What can you tell from this derivative? How can it guide you in moving your line? In particular, what does the sign of the derivative tell you? "
   ]
  },
  {
   "cell_type": "markdown",
   "metadata": {},
   "source": [
    "**Your answer:** (Since the derivative is relatively large, it suggests that the prediction is far from the true value and that the model is overstimeting the target value. The negative sign of the derivative indicates that the predicted value is greater than the true value, so it's necessary to decrease the predicted value to reduce the error)"
   ]
  },
  {
   "cell_type": "markdown",
   "metadata": {},
   "source": [
    "What we are really interested in is how the error changes with respect to the parameters w and b. In the end, those are the parameters that we can change to reduce the error.\n",
    "\n",
    "We already know how the error changes with the output of our function from the exercise above. If we also manage to find out how our output changes with respect to our parameters $w$ and $b$, then we should in some magical way be able to finally compute how the error changes with respect to our parameters.\n",
    "\n",
    "In the cell below, implement the derivative of our function with respect to the parameters $w$ and $b$."
   ]
  },
  {
   "cell_type": "code",
   "execution_count": null,
   "metadata": {},
   "outputs": [],
   "source": [
    "def dy_dw(x):\n",
    "    \"\"\"Implement the derivative of the function with respect to the parameter w.\n",
    "\n",
    "    Arguments:\n",
    "    x - a scalar value, the input to the function\n",
    "\n",
    "    Returns:\n",
    "    derivative - a scalar value, the derivative of the function with respect to w\n",
    "    \"\"\"\n",
    "    derivative = None\n",
    "    derivative = x\n",
    "    return derivative\n",
    "\n",
    "\n",
    "def dy_db():\n",
    "    \"\"\"Implement the derivative of the function with respect to the parameter b.\n",
    "\n",
    "    Arguments:\n",
    "    x - a scalar value, the input to the function\n",
    "\n",
    "    Returns:\n",
    "    derivative - a scalar value, the derivative of the function with respect to b\n",
    "    \"\"\"\n",
    "    derivative = None\n",
    "    derivative = 1\n",
    "    return derivative"
   ]
  },
  {
   "cell_type": "markdown",
   "metadata": {},
   "source": [
    "Why doesn't the derivative of the function with respect to $b$ include $x$ as an input? "
   ]
  },
  {
   "cell_type": "markdown",
   "metadata": {},
   "source": [
    "**Your answer:** (The derivative of the function with respect to b doesn't include x as input because b is a constant and indipendent from x, and its derivative with respect to itself is always 1)"
   ]
  },
  {
   "cell_type": "markdown",
   "metadata": {},
   "source": [
    "Now that we know how the error changes with respect to the function, and how the function changes with respect to it's parameters, we should be able to somehow combine these results to compute how the error changes with respect to the parameters of our function.\n",
    "\n",
    "Implement the derivative of the error function with respect to the parameters $w$ and $b$ by using the results from the exercises above.\n",
    "\n",
    "HINT: The [chain rule](https://en.wikipedia.org/wiki/Chain_rule) from your old calculus class is your friend here."
   ]
  },
  {
   "cell_type": "code",
   "execution_count": null,
   "metadata": {},
   "outputs": [],
   "source": [
    "def de_dw(x, y_pred, y_true):\n",
    "    \"\"\"Implement the derivative of the error function with respect to the parameter w.\n",
    "\n",
    "    Arguments:\n",
    "    x - a scalar value, the input to the function\n",
    "    y_pred - a scalar value, the predicted value\n",
    "    y_true - a scalar value, the true value\n",
    "\n",
    "    Returns:\n",
    "    derivative - a scalar value, the derivative of the function with respect to b\n",
    "    \"\"\"\n",
    "    derivative = None\n",
    "    derivative = -2 * (y_true - y_pred) * x\n",
    "    return derivative\n",
    "\n",
    "\n",
    "def de_db(y_pred, y_true):\n",
    "    \"\"\"Implement the derivative of the error function with respect to the parameter b.\n",
    "\n",
    "    Arguments:\n",
    "    y_pred - a scalar value, the predicted value\n",
    "    y_true - a scalar value, the true value\n",
    "\n",
    "    Returns:\n",
    "    derivative - a scalar value, the derivative of the function with respect to b\n",
    "    \"\"\"\n",
    "    derivative = None\n",
    "    derivative = -2 * (y_true - y_pred) * 1\n",
    "    return derivative"
   ]
  },
  {
   "cell_type": "code",
   "execution_count": null,
   "metadata": {},
   "outputs": [
    {
     "name": "stdout",
     "output_type": "stream",
     "text": [
      "The error for the original parameters:  20.25\n",
      "The derivative of the error with respect to w:  -13.5\n",
      "The derivative of the error with respect to b:  -9.0\n"
     ]
    }
   ],
   "source": [
    "print(\"The error for the original parameters: \", error_function(y_pred, y_true))\n",
    "print(\"The derivative of the error with respect to w: \", de_dw(x, y_pred, y_true))\n",
    "print(\"The derivative of the error with respect to b: \", de_db(y_pred, y_true))"
   ]
  },
  {
   "cell_type": "code",
   "execution_count": null,
   "metadata": {},
   "outputs": [],
   "source": [
    "assert de_dw(x, y_pred, y_true) == -13.5\n",
    "assert de_db(y_pred, y_true) == -9.0"
   ]
  },
  {
   "cell_type": "markdown",
   "metadata": {},
   "source": [
    "What does these derivatives tell you? How would you use them to update the parameters $w$ and $b$ such that the error is reduced?"
   ]
  },
  {
   "cell_type": "markdown",
   "metadata": {},
   "source": [
    "**Your answer:** (The derivatives tell how the error changes with respect w and b and since both derivatives are negative, increasing the value of b and w will reduce the error)"
   ]
  },
  {
   "cell_type": "markdown",
   "metadata": {},
   "source": [
    "We will now implement a function for updating the parameters based on the derivatives you calculated in the previous cell. Move the parameters in the direction, such that the error is decreased. The function includes a step size as an input, which scales the size of the update step. You can keep this as the default value."
   ]
  },
  {
   "cell_type": "code",
   "execution_count": null,
   "metadata": {},
   "outputs": [],
   "source": [
    "def update_params(w, b, de_dw, de_db, step_size=0.1):\n",
    "    \"\"\"Implement the update step of parameters w and b, based on the derivatives of the error function with respect to these parameters.\n",
    "\n",
    "    Arguments:\n",
    "    w - a scalar value, the weight parameter\n",
    "    b - a scalar value, the bias parameter\n",
    "    de_dw - a scalar value, the derivative of the error with respect to w\n",
    "    de_db - a scalar value, the derivative of the error with respect to b\n",
    "    step_size - a scalar value, the step size for the update step\n",
    "\n",
    "    Returns:\n",
    "    w - a scalar value, the updated weight parameter\n",
    "    b - a scalar value, the updated bias parameter\n",
    "    \"\"\"\n",
    "    w = w - step_size * (de_dw)\n",
    "    b = b - step_size * (de_db)\n",
    "    return w, b"
   ]
  },
  {
   "cell_type": "markdown",
   "metadata": {},
   "source": [
    "If implemented correctly, we should see a decrease in the error after one update step."
   ]
  },
  {
   "cell_type": "code",
   "execution_count": null,
   "metadata": {},
   "outputs": [
    {
     "name": "stdout",
     "output_type": "stream",
     "text": [
      "The original parameters:  5.0 2.0\n",
      "The error for the original parameters:  20.25\n",
      "The updated parameters:  6.35 2.9\n",
      "The error for the updated parameters:  2.4806250000000034\n"
     ]
    }
   ],
   "source": [
    "print(\"The original parameters: \", w, b)\n",
    "print(\"The error for the original parameters: \", error_function(y_pred, y_true))\n",
    "\n",
    "w_updated, b_updated = update_params(\n",
    "    w, b, de_dw(x, y_pred, y_true), de_db(y_pred, y_true)\n",
    ")\n",
    "print(\"The updated parameters: \", w_updated, b_updated)\n",
    "y_pred_updated = forward(x, w_updated, b_updated)\n",
    "print(\"The error for the updated parameters: \", error_function(y_pred_updated, y_true))"
   ]
  },
  {
   "cell_type": "code",
   "execution_count": null,
   "metadata": {},
   "outputs": [],
   "source": [
    "assert error_function(y_pred_updated, y_true) < error_function(y_pred, y_true)"
   ]
  },
  {
   "cell_type": "markdown",
   "metadata": {},
   "source": [
    "Why do we use a step size when updating the parameters instead of using the gradients directly?"
   ]
  },
  {
   "cell_type": "markdown",
   "metadata": {},
   "source": [
    "**Your answer:** (The step size controls how much adjust w and b each update that w and b. Without the step size and using the gradients directly, updates could be excessively big, which could result to the model failing to converge or exceeding the best answer)"
   ]
  },
  {
   "cell_type": "markdown",
   "metadata": {},
   "source": [
    "As you might have noticed, a single update step was not enough to find a good fit. Instead, let us iteratively update our parameters, where each iteration uses the updated parameters from the last iteration to compute a new error and derivatives.\n",
    "\n",
    "Implement a function that iteratively updates your parameters, using the functions you have implemented earlier in the lab. Use the default values for `iterations` and `step_size`."
   ]
  },
  {
   "cell_type": "code",
   "execution_count": null,
   "metadata": {},
   "outputs": [],
   "source": [
    "def optimize_parameters(x, y_true, w, b, iterations=10, step_size=0.1):\n",
    "    \"\"\"Implement a function that iteratively updates the parameters w and b.\n",
    "\n",
    "    Arguments:\n",
    "    x - a scalar value, the input to the function\n",
    "    y_true - a scalar value, the true value\n",
    "    w - a scalar value, the weight parameter\n",
    "    b - a scalar value, the bias parameter\n",
    "    iterations - a scalar value, the number of iterations for the optimization\n",
    "    step_size - a scalar value, the step size for the update step\n",
    "\n",
    "    Returns:\n",
    "    w - a scalar value, the updated weight parameter\n",
    "    b - a scalar value, the updated bias parameter\n",
    "    \"\"\"\n",
    "    for i in range(iterations):\n",
    "        y_pred = w * x + b\n",
    "        w = w - step_size * (-2 * (y_true - y_pred) * x)\n",
    "        b = b - step_size * (-2 * (y_true - y_pred) * 1)\n",
    "        print(f\"Iteration {i} | Error: \", error_function(y_pred, y_true))\n",
    "    return w, b"
   ]
  },
  {
   "cell_type": "markdown",
   "metadata": {},
   "source": [
    "Test your iterative optimizer on the initial parameters from before."
   ]
  },
  {
   "cell_type": "code",
   "execution_count": null,
   "metadata": {},
   "outputs": [
    {
     "name": "stdout",
     "output_type": "stream",
     "text": [
      "Iteration 0 | Error:  20.25\n",
      "Iteration 1 | Error:  2.4806250000000034\n",
      "Iteration 2 | Error:  0.3038765624999995\n",
      "Iteration 3 | Error:  0.03722487890624974\n",
      "Iteration 4 | Error:  0.004560047666015977\n",
      "Iteration 5 | Error:  0.0005586058390868731\n",
      "Iteration 6 | Error:  6.842921528815078e-05\n",
      "Iteration 7 | Error:  8.382578872794356e-06\n",
      "Iteration 8 | Error:  1.0268659119201886e-06\n",
      "Iteration 9 | Error:  1.2579107421066413e-07\n"
     ]
    },
    {
     "data": {
      "image/png": "[encoded data removed]",
      "text/plain": [
       "<Figure size 640x480 with 1 Axes>"
      ]
     },
     "metadata": {},
     "output_type": "display_data"
    }
   ],
   "source": [
    "data = np.array([1.5, 14.0])  # x, y\n",
    "w_optimized, b_optimized = optimize_parameters(data[0], data[1], 5.0, 2.0)\n",
    "xs = np.linspace(-3, 3, 1000)\n",
    "ys = []\n",
    "for x_ in xs:\n",
    "    ys.append(forward(x_, w_optimized, b_optimized))\n",
    "plt.plot(\n",
    "    xs,\n",
    "    ys,\n",
    "    label=f\"y = {round(w_optimized, 3)}x + {round(b_optimized, 3)}\",\n",
    ")\n",
    "plt.plot(data[0], data[1], \"ro\", label=f\"({data[0]}, {data[1]})\")\n",
    "plt.xlabel(\"x\")\n",
    "plt.ylabel(\"y\")\n",
    "plt.legend()\n",
    "plt.show()"
   ]
  },
  {
   "cell_type": "markdown",
   "metadata": {},
   "source": [
    "Hopefully, you should see a rapid decrease of the error in the first few iterations, and the resulting error should be close to zero after 10 iterations.\n",
    "\n",
    "How would a different step size affect the optimization? Why?"
   ]
  },
  {
   "cell_type": "markdown",
   "metadata": {},
   "source": [
    "**Your answer:** (fill in here)"
   ]
  },
  {
   "cell_type": "markdown",
   "metadata": {},
   "source": [
    "The process we have just implemented is called gradient descent. It is a simple optimization algorithm that is used to minimize a function by iteratively moving in the direction of steepest descent.\n",
    "In our case, the function we are trying to minimize is the error between our line and the point, and the parameters we are optimizing are w and b.\n",
    "The way we propagate the derivative of the error throughout the function to update the parameters is called backpropagation. It is a key concept in neural networks and deep learning, but is as simple as the chain rule in calculus at its core.\n",
    "In deep learning, we usually refer to the error function as the loss function, and the derivatives that we have propagated from our loss function to our parameters are referred to as gradients."
   ]
  },
  {
   "cell_type": "markdown",
   "metadata": {},
   "source": [
    "### 2.3 Activation functions\n",
    "The function we have used so far is not very exciting, and only lets us describe the rather boring family of linear functions. As you have already seen in the video and lecture material, we add an activation function to our otherwise linear neuron to be able to also model non-linear functions.\n",
    "\n",
    "In the coming part of the lab we will use the notation that you might find familiar from the lectures, where $z = w*x + b$ denotes the output before activation, and $a = g(z)$ denotes the output after activation.\n",
    "\n",
    "Lets start with implementing some common activation functions. To make them slightly more useful, we ask you to implement them such that they can handle vectorized input."
   ]
  },
  {
   "cell_type": "markdown",
   "metadata": {},
   "source": [
    "Due to the change of notation, we can make the following alias to simplify things:"
   ]
  },
  {
   "cell_type": "code",
   "execution_count": null,
   "metadata": {},
   "outputs": [],
   "source": [
    "de_dz = de_dy\n",
    "dz_dw = dy_dw\n",
    "dz_db = dy_db"
   ]
  },
  {
   "cell_type": "markdown",
   "metadata": {},
   "source": [
    "#### 2.3.1 ReLU\n",
    "The neural network will use the ReLU activation function in every layer except for the last. ReLU does element-wise comparison of the input matrix. For example, if the input is `X`, and `X[i,j] == 2` and `X[k,l] == -1`, then after applying ReLU, `X[i,j] == 2` and `X[k,l] == 0` should be true.  \n",
    "\n",
    "The formula for implementing ReLU for a single neuron $i$ is:\n",
    "\\begin{equation}\n",
    "relu(z_i) = \n",
    "    \\begin{cases}\n",
    "      0, & \\text{if}\\ z_i \\leq 0 \\\\\n",
    "      z_i, & \\text{otherwise}\n",
    "    \\end{cases}\n",
    "\\end{equation}\n",
    "\n",
    "Implement `relu` such that it supports both scalar and array input"
   ]
  },
  {
   "cell_type": "code",
   "execution_count": null,
   "metadata": {},
   "outputs": [],
   "source": [
    "def relu(z):\n",
    "    \"\"\"Implement the ReLU activation function.\n",
    "\n",
    "    Arguments:\n",
    "    z - the input of the activation function. Has a type of 'float' or 'numpy.ndarray'\n",
    "\n",
    "    Returns:\n",
    "    a - the output of the activation function. Has the same type and shape as 'z'\n",
    "    \"\"\"\n",
    "\n",
    "    a = None  # TODO\n",
    "    a = np.maximum(0, z)\n",
    "    return a"
   ]
  },
  {
   "cell_type": "code",
   "execution_count": null,
   "metadata": {},
   "outputs": [
    {
     "name": "stdout",
     "output_type": "stream",
     "text": [
      "Test passed\n"
     ]
    }
   ],
   "source": [
    "# test case\n",
    "iha1_tests.test_relu_forward(relu)"
   ]
  },
  {
   "cell_type": "markdown",
   "metadata": {},
   "source": [
    "Can you name some of the advantages of the ReLU activation function? (We will not grade this answer in detail.)"
   ]
  },
  {
   "cell_type": "markdown",
   "metadata": {},
   "source": [
    "**Your answer:** (fill in here)"
   ]
  },
  {
   "cell_type": "markdown",
   "metadata": {},
   "source": [
    "#### 2.3.2 Sigmoid\n",
    "The sigmoid activation function is common for binary classification. This is because it squashes its input to the range [0,1].  \n",
    "Implement the activation function `sigmoid` using the formula:  \n",
    "\\begin{equation}\n",
    "    \\sigma(z) = \\frac{1}{1 + e^{-z}}\n",
    "\\end{equation}\n",
    "\n",
    "Your implementation of `sigmoid` should support both scalar and array input."
   ]
  },
  {
   "cell_type": "code",
   "execution_count": null,
   "metadata": {},
   "outputs": [],
   "source": [
    "def sigmoid(z):\n",
    "    \"\"\"Implement the sigmoid activation function\n",
    "\n",
    "    Arguments:\n",
    "    z - the input of the activation function. Has a type of 'float' or 'numpy.ndarray'\n",
    "\n",
    "    Returns:\n",
    "    a - the output of the activation function. Has the same type and shape as 'z'\n",
    "    \"\"\"\n",
    "\n",
    "    a = None  # TODO\n",
    "    if isinstance(a, float):\n",
    "        a = 1 / (1 + np.exp(-z))\n",
    "    else:\n",
    "        a = np.copy(z)\n",
    "        for i, value in np.ndenumerate(z):\n",
    "            a[i] = 1 / (1+ np.exp(-value))\n",
    "    return a"
   ]
  },
  {
   "cell_type": "code",
   "execution_count": null,
   "metadata": {},
   "outputs": [
    {
     "name": "stdout",
     "output_type": "stream",
     "text": [
      "Test passed\n"
     ]
    }
   ],
   "source": [
    "# test case\n",
    "iha1_tests.test_sigmoid(sigmoid)"
   ]
  },
  {
   "cell_type": "markdown",
   "metadata": {},
   "source": [
    "Why is the sigmoid activation function useful for binary classification? Feel free to use some numerical examples to show how the magnitudes of the variable $z$ affect the output of the sigmoid layer. (We will not grade this answer in detail.)"
   ]
  },
  {
   "cell_type": "markdown",
   "metadata": {},
   "source": [
    "**Your answer:** (fill in here)"
   ]
  },
  {
   "cell_type": "markdown",
   "metadata": {},
   "source": [
    "#### 2.3.3 Visualization\n",
    "Make a plot using matplotlib to visualize the activation functions between the input interval [-3,3]. The plot should have the following properties\n",
    " * one plot should contain a visualization of both `ReLU` and `sigmoid`;\n",
    " * x-axis: range of values between [-3,3], **hint**: np.linspace;\n",
    " * y-axis: the value of the activation functions at a given input `x`;\n",
    " * a legend explaining which line represents which activation function."
   ]
  },
  {
   "cell_type": "code",
   "execution_count": null,
   "metadata": {},
   "outputs": [
    {
     "data": {
      "image/png": "[encoded data removed]",
      "text/plain": [
       "<Figure size 640x480 with 1 Axes>"
      ]
     },
     "metadata": {},
     "output_type": "display_data"
    }
   ],
   "source": [
    "# TODO: make a plot of ReLU and sigmoid values in the interval [-3,3]\n",
    "\n",
    "x_values = np.linspace(-3, 3, 100)\n",
    "relu_values = relu(x_values)\n",
    "sigmoid_values = sigmoid(x_values)\n",
    "\n",
    "plt.plot(x_values, relu_values, label='ReLU', color='blue')\n",
    "plt.plot(x_values, sigmoid_values, label='Sigmoid', color='green')\n",
    "plt.xlabel('x')\n",
    "plt.ylabel('y')\n",
    "plt.legend()\n",
    "plt.show()"
   ]
  },
  {
   "cell_type": "markdown",
   "metadata": {},
   "source": [
    "#### 2.3.4 Softmax\n",
    "Another common activation function is the softmax activation function. It is often used for the final layer of the neural network in classification tasks. Implement `softmax` according to the formula below. The subtraction of the maximum value is there solely to avoid overflows in a practical implementation.\n",
    "\\begin{equation}\n",
    "softmax(z_i) = \\frac{e^{z_i - max(\\mathbf{z})}}{ \\sum^j e^{z_j - max(\\mathbf{z})}}\n",
    "\\end{equation}"
   ]
  },
  {
   "cell_type": "code",
   "execution_count": null,
   "metadata": {},
   "outputs": [],
   "source": [
    "def softmax(z):\n",
    "    \"\"\"Implement the softmax activation function\n",
    "\n",
    "    Arguments:\n",
    "    z - the input of the activation function, shape (BATCH_SIZE, FEATURES) and type 'numpy.ndarray'\n",
    "\n",
    "    Returns:\n",
    "    a - the output of the activation function, shape (BATCH_SIZE, FEATURES) and type 'numpy.ndarray'\n",
    "    \"\"\"\n",
    "\n",
    "    a = None  # TODO\n",
    "    max_z = np.max(z, axis=-1, keepdims=True)\n",
    "    exp_z = np.exp(z - max_z)\n",
    "    sum_exp_z = np.sum(exp_z, axis=-1, keepdims=True)\n",
    "    a = exp_z / sum_exp_z\n",
    "    return a"
   ]
  },
  {
   "cell_type": "code",
   "execution_count": null,
   "metadata": {},
   "outputs": [
    {
     "name": "stdout",
     "output_type": "stream",
     "text": [
      "Test passed\n"
     ]
    }
   ],
   "source": [
    "# test case\n",
    "iha1_tests.test_softmax(softmax)"
   ]
  },
  {
   "cell_type": "markdown",
   "metadata": {},
   "source": [
    "What are the main differences between using `sigmoid` and `softmax` for multi-class classification problems? And when the number of classes is 2? (We will not grade this answer in detail.)"
   ]
  },
  {
   "cell_type": "markdown",
   "metadata": {},
   "source": [
    "**Your answer:** (fill in here)"
   ]
  },
  {
   "cell_type": "markdown",
   "metadata": {},
   "source": [
    "### 2.4 Putting the pieces together\n",
    "\n",
    "Now you have implemented, and hopefully understood, the building blocks needed to build your first neural network. All that is left now is putting these pieces together."
   ]
  },
  {
   "cell_type": "markdown",
   "metadata": {},
   "source": [
    "#### 2.4.1 Implementing a layer\n",
    "\n",
    "You will start with implementing a `Layer`-class. This will be convenient when later constructing your neural network. To keep things simple, and make use of the functions you've implemented earlier in this lab, we will stick to scalar input and having one neuron per layer. However, you will also add `ReLU` as an activation function this time."
   ]
  },
  {
   "cell_type": "markdown",
   "metadata": {},
   "source": [
    "Since you now need to also propagate your derivatives through the activation function, start with implementing the derivative of `ReLU`."
   ]
  },
  {
   "cell_type": "code",
   "execution_count": null,
   "metadata": {},
   "outputs": [],
   "source": [
    "def relu_derivative(x):\n",
    "    \"\"\"Implement the derivative of the ReLU activation function\n",
    "\n",
    "    Arguments:\n",
    "    x - the input of the activation function. Has a type of 'float' or 'numpy.ndarray'\n",
    "    Returns:\n",
    "    dx - the derivative of the activation function. Has the same type and shape as 'x'.\n",
    "    \"\"\"\n",
    "    dx = None\n",
    "    dx = np.where(x > 0, 1, 0)\n",
    "    return dx"
   ]
  },
  {
   "cell_type": "code",
   "execution_count": null,
   "metadata": {},
   "outputs": [],
   "source": [
    "assert relu_derivative(np.array(-1)) == 0\n",
    "assert relu_derivative(np.array(1)) == 1"
   ]
  },
  {
   "cell_type": "markdown",
   "metadata": {},
   "source": [
    "Now it's time to fill in the missing pieces of the `Layer`-class. The parameters of the layer should be initialized with random values. Think about how to initialize your parameters in a way that make sense with the chosen activation function (ReLU in this case). Hint: Look at the local gradient of ReLU and think about what ranges of values this gradient will be active and how it will affect the backpropagation."
   ]
  },
  {
   "cell_type": "code",
   "execution_count": null,
   "metadata": {},
   "outputs": [],
   "source": [
    "class Layer:\n",
    "    \"\"\"Implement a class for a neural network layer.\n",
    "\n",
    "    The class should implement the forward and backward passes of the layer.\n",
    "    \"\"\"\n",
    "\n",
    "    def __init__(self):\n",
    "        \"\"\"Implement the initialization of the layer parameters.\n",
    "\n",
    "        Arguments:\n",
    "        None\n",
    "\n",
    "        Returns:\n",
    "        None\n",
    "        \"\"\"\n",
    "\n",
    "        # Parameters of the layer. Should be initialized randomly.\n",
    "        self.w = None\n",
    "        self.b = None\n",
    "        # YOUR CODE HERE\n",
    "        self.w = np.abs(np.random.randn())\n",
    "        self.b = np.abs(np.random.randn())\n",
    "\n",
    "        # Activation function for the layer.\n",
    "        self.activation = relu\n",
    "        self.activation_derivative = relu_derivative\n",
    "\n",
    "        # Attributes to store the input and output of a layer during forward pass, for use in the backward passes.\n",
    "        self.last_x = None\n",
    "        self.last_a = None\n",
    "\n",
    "    def forward(self, x):\n",
    "        \"\"\"Implement the forward pass of the layer.\n",
    "\n",
    "        Arguments:\n",
    "        x - the input to the layer, scalar of type 'float'\n",
    "\n",
    "        Returns:\n",
    "        a - the output of the layer, scalar of type 'float'\n",
    "        \"\"\"\n",
    "        a = None\n",
    "        # YOUR CODE HERE\n",
    "        # Linear combination\n",
    "        z = self.w * x + self.b\n",
    "        # Activation function\n",
    "        a = self.activation(z)\n",
    "\n",
    "        self.last_x = x\n",
    "        self.last_a = a\n",
    "        return a\n",
    "\n",
    "    def backward(self, de_da, step_size=0.01):\n",
    "        \"\"\"Implement the backward pass of the layer. The backward pass should update the parameters of\n",
    "        the layer and return the derivative of the error with respect to the input of the layer.\n",
    "\n",
    "        Arguments:\n",
    "        de_da - the derivative of the error with respect to the output of the layer, scalar of type 'float'\n",
    "        step_size - the step size for the update step, scalar of type 'float'\n",
    "\n",
    "        Returns:\n",
    "        de_dx - the derivative of the error with respect to the input of the layer, scalar of type 'float'\n",
    "        \"\"\"\n",
    "        # YOUR CODE HERE\n",
    "        da_dz = self.activation_derivative(forward(self.last_x, self.w, self.b))\n",
    "        de_dz = de_da * da_dz\n",
    "        \n",
    "        dz_dw = dy_dw(self.last_x)\n",
    "        de_dw = de_dz * dz_dw\n",
    "        \n",
    "        dz_db = dy_db()\n",
    "        de_db = de_dz * dz_db\n",
    "        \n",
    "        de_dx = de_dz * self.w\n",
    "        \n",
    "        self.w = self.w - step_size * de_dw\n",
    "        self.b = self.b - step_size * de_db\n",
    "        \n",
    "        return de_dx"
   ]
  },
  {
   "cell_type": "code",
   "execution_count": null,
   "metadata": {},
   "outputs": [],
   "source": [
    "test_layer = Layer()\n",
    "\n",
    "# make sure w and b are initialized\n",
    "assert test_layer.w is not None\n",
    "assert test_layer.b is not None\n",
    "\n",
    "# set to some values for tests\n",
    "test_layer.w = np.array(10.0)\n",
    "test_layer.b = np.array(-1.0)\n",
    "\n",
    "# assert correct forward for some input\n",
    "assert test_layer.forward(np.array(42.0)) == 419.0\n",
    "assert test_layer.last_x == 42.0\n",
    "assert test_layer.last_a == 419.0\n",
    "\n",
    "# assert correct backward\n",
    "assert test_layer.backward(np.array(42.0), step_size=0.01) == 420\n",
    "assert np.abs(test_layer.w - (-7.64)) < 0.01\n",
    "assert np.abs(test_layer.b - (-1.42)) < 0.01"
   ]
  },
  {
   "cell_type": "markdown",
   "metadata": {},
   "source": [
    "#### 2.4.2 Building your network\n",
    "Almost there! Now we just need to chain a bunch of layers together and we have ourselves a neural network."
   ]
  },
  {
   "cell_type": "code",
   "execution_count": null,
   "metadata": {},
   "outputs": [],
   "source": [
    "class NeuralNetwork:\n",
    "    \"\"\"Implement a class for a neural network.\n",
    "\n",
    "    The class should implement the forward and backward passes of the neural network.\n",
    "    \"\"\"\n",
    "\n",
    "    def __init__(self):\n",
    "        self.layers = []\n",
    "\n",
    "    def add_layer(self, layer):\n",
    "        self.layers.append(layer)\n",
    "\n",
    "    def forward(self, x):\n",
    "        \"\"\"Implement the forward pass of the neural network. The neural network should pass the input through all layers.\n",
    "\n",
    "        Arguments:\n",
    "        x - the input to the neural network, scalar of type 'float'\n",
    "\n",
    "        Returns:\n",
    "        x - the output of the neural network, scalar of type 'float'\n",
    "        \"\"\"\n",
    "        # YOUR CODE HERE\n",
    "        for layer in self.layers:\n",
    "            x = layer.forward(x)\n",
    "        return x\n",
    "\n",
    "    def backward(self, error_derivative, step_size=0.01):\n",
    "        \"\"\"Implement the backward pass of the neural network. The neural network should pass the error derivative through\n",
    "        all layers and update the parameters of each layer.\n",
    "\n",
    "        Arguments:\n",
    "        error_derivative - the derivative of the error with respect to the output of the neural network, scalar of type 'float'\n",
    "        \"\"\"\n",
    "        # YOUR CODE HERE\n",
    "        for layer in reversed(self.layers):\n",
    "            error_derivative = layer.backward(error_derivative, step_size)\n",
    "            "
   ]
  },
  {
   "cell_type": "markdown",
   "metadata": {},
   "source": [
    "Lets test the forward pass of your network."
   ]
  },
  {
   "cell_type": "code",
   "execution_count": null,
   "metadata": {},
   "outputs": [
    {
     "name": "stdout",
     "output_type": "stream",
     "text": [
      "The error for the original parameters:  68.59882757657624\n"
     ]
    },
    {
     "data": {
      "image/png": "[encoded data removed]",
      "text/plain": [
       "<Figure size 640x480 with 1 Axes>"
      ]
     },
     "metadata": {},
     "output_type": "display_data"
    }
   ],
   "source": [
    "neural_network = NeuralNetwork()\n",
    "layer1 = Layer()\n",
    "layer2 = Layer()\n",
    "neural_network.add_layer(layer1)\n",
    "neural_network.add_layer(layer2)\n",
    "\n",
    "data = np.array([1.5, 14.0])  # x, y\n",
    "x, y_true = data\n",
    "y_pred = neural_network.forward(x)\n",
    "print(\"The error for the original parameters: \", error_function(y_pred, y_true))\n",
    "xs = np.linspace(-3, 3, 1000)\n",
    "ys = []\n",
    "for x_ in xs:\n",
    "    ys.append(neural_network.forward(x_))\n",
    "plt.plot(xs, ys, label=f\"neural network\")\n",
    "plt.plot(data[0], data[1], \"ro\", label=f\"({data[0]}, {data[1]})\")\n",
    "plt.xlabel(\"x\")\n",
    "plt.ylabel(\"y\")\n",
    "plt.legend()\n",
    "plt.show()"
   ]
  },
  {
   "cell_type": "markdown",
   "metadata": {},
   "source": [
    "#### 2.4.3 Training your network\n",
    "Now let's also implement the iterative optimization that we did before. Here `y_pred` refers to the output from the last layer of your network, commonly referred to as the prediction.\n",
    "\n",
    "In deep learning, we usually refer to the optimization process as \"training\" the network. Thus, the function to iteratively update the parameters of your network is here called `train`, but the principle remains the same as before. "
   ]
  },
  {
   "cell_type": "code",
   "execution_count": null,
   "metadata": {},
   "outputs": [],
   "source": [
    "def train(x, y_true, neural_network, iterations=10, step_size=0.01):\n",
    "    \"\"\"Implement the training loop for the neural network. The training loop should update the parameters of the neural network\n",
    "    based on the error between the predicted and true values.\n",
    "\n",
    "    Arguments:\n",
    "    x - the input to the neural network, scalar of type 'float'\n",
    "    y_true - the true value of the output, scalar of type 'float'\n",
    "    neural_network - the neural network object\n",
    "    iterations - the number of training iterations, scalar of type 'int'\n",
    "    step_size - the step size for the update step, scalar of type 'float'\n",
    "    \"\"\"\n",
    "\n",
    "    for i in range(iterations):\n",
    "        # YOUR CODE HERE\n",
    "        # forword pass\n",
    "        y_pred = neural_network.forward(x)\n",
    "        # compute the gradient of error with respect to predicted output\n",
    "        error_gradient = (y_pred - y_true)\n",
    "        # backprop\n",
    "        neural_network.backward(error_gradient, step_size)\n",
    "        print(f\"Iteration {i} | Error: \", error_function(y_pred, y_true))"
   ]
  },
  {
   "cell_type": "markdown",
   "metadata": {},
   "source": [
    "Finally, we can test the training loop on the same simple example as we did before."
   ]
  },
  {
   "cell_type": "code",
   "execution_count": null,
   "metadata": {},
   "outputs": [
    {
     "name": "stdout",
     "output_type": "stream",
     "text": [
      "Iteration 0 | Error:  68.59882757657624\n",
      "Iteration 1 | Error:  40.038250716756004\n",
      "Iteration 2 | Error:  19.763854917636564\n",
      "Iteration 3 | Error:  8.157643739880719\n",
      "Iteration 4 | Error:  2.859153324901383\n",
      "Iteration 5 | Error:  0.8823655375091131\n",
      "Iteration 6 | Error:  0.24998313513660736\n",
      "Iteration 7 | Error:  0.06727959078691541\n",
      "Iteration 8 | Error:  0.01759807796576608\n",
      "Iteration 9 | Error:  0.0045338518626873246\n"
     ]
    },
    {
     "data": {
      "image/png": "[encoded data removed]",
      "text/plain": [
       "<Figure size 640x480 with 1 Axes>"
      ]
     },
     "metadata": {},
     "output_type": "display_data"
    }
   ],
   "source": [
    "data = np.array([1.5, 14.0])  # x, y\n",
    "train(data[0], data[1], neural_network)\n",
    "\n",
    "xs = np.linspace(-3, 3, 1000)\n",
    "ys = []\n",
    "for x_ in xs:\n",
    "    ys.append(neural_network.forward(x_))\n",
    "plt.plot(xs, ys, label=f\"neural network\")\n",
    "plt.plot(data[0], data[1], \"ro\", label=f\"({data[0]}, {data[1]})\")\n",
    "plt.xlabel(\"x\")\n",
    "plt.ylabel(\"y\")\n",
    "plt.legend()\n",
    "plt.show()"
   ]
  },
  {
   "cell_type": "markdown",
   "metadata": {},
   "source": [
    "Hopefully, you should again see the error decrease at each iteration of our training loop. In the end, the error should be close to zero. "
   ]
  },
  {
   "cell_type": "markdown",
   "metadata": {},
   "source": [
    "## 3 Building a deep neural network\n",
    "\n",
    "Very few problems are one-dimensional and cannot be solved with the simple scalar network we have implemented so far. \n",
    "Thus, as the final part of this assignment, you will now implement the `Layer` and `NeuralNetwork` classes such that they support multi-dimensional input, and any choice of activation function.\n",
    "However, you will be given code for the backward propagation and only need to implement the forward propagation.\n",
    "\n",
    "(If you want to try to derive the backward propagation yourself [this document](https://compsci697l.github.io/docs/vecDerivs.pdf) could be helpful to simplify the derivatives for higher dimensions)\n",
    "\n",
    "Recall the formula for forward propagation of an arbitrary layer $l$:\n",
    "\n",
    "\\begin{equation}\n",
    "\\mathbf{a}^{[l]} = g(\\mathbf{z}^{[l]}) = g(\\mathbf{a}^{[l-1]}\\mathbf{w}^{[l]} +\\mathbf{b}^{[l]})\n",
    "\\end{equation}\n",
    "\n",
    "where $g$ is the activation function given by `activation_fn`, which can be relu, sigmoid or softmax.\n"
   ]
  },
  {
   "cell_type": "markdown",
   "metadata": {},
   "source": [
    "### 3.1 Initialize weights\n",
    "You will first implement a helper function that takes the shape of a layer as input, and returns an initialized weight matrix $\\mathbf{W}$ and bias vector $\\mathbf{b}$ as output. The matrix $\\mathbf{W}$ should be sampled from a normal distribution with mean 0 and standard deviation 2, and $\\mathbf{b}$ should be initialized to all zeros."
   ]
  },
  {
   "cell_type": "code",
   "execution_count": null,
   "metadata": {},
   "outputs": [],
   "source": [
    "def initialize_weights(layer_shape):\n",
    "    \"\"\"Implement initialization of the weight matrix and biases\n",
    "\n",
    "    Arguments:\n",
    "    layer_shape - a tuple of length 2, type (int, int), that determines the dimensions of the weight matrix: (input_dim, output_dim)\n",
    "\n",
    "    Returns:\n",
    "    w - a weight matrix with dimensions of 'layer_shape', (input_dim, output_dim), that is normally distributed with\n",
    "        properties mu = 0, stddev = 2. Has a type of 'numpy.ndarray'\n",
    "    b - a vector of initialized biases with shape (1,output_dim), all of value zero. Has a type of 'numpy.ndarray'\n",
    "    \"\"\"\n",
    "    w = None  # TODO\n",
    "    b = None  # TODO\n",
    "    # YOUR CODE HERE\n",
    "    # Mean and stddev\n",
    "    mu, sigma = 0, 2\n",
    "    w = np.random.normal(mu, sigma, layer_shape)\n",
    "    b = np.zeros((1,layer_shape[1]))\n",
    "\n",
    "    return w, b"
   ]
  },
  {
   "cell_type": "code",
   "execution_count": null,
   "metadata": {},
   "outputs": [
    {
     "name": "stdout",
     "output_type": "stream",
     "text": [
      "Test passed\n"
     ]
    }
   ],
   "source": [
    "# test case\n",
    "iha1_tests.test_initialize_weights(initialize_weights)"
   ]
  },
  {
   "cell_type": "markdown",
   "metadata": {},
   "source": [
    "### 3.2 Implementing the layer"
   ]
  },
  {
   "cell_type": "code",
   "execution_count": null,
   "metadata": {},
   "outputs": [],
   "source": [
    "class Layer:\n",
    "    \"\"\"\n",
    "    TODO: Build a class called Layer that satisfies the descriptions of the methods\n",
    "    Make sure to utilize the helper functions you implemented before\n",
    "    \"\"\"\n",
    "\n",
    "    def __init__(self, input_dim, output_dim, activation_fn=relu):\n",
    "        \"\"\"\n",
    "        Arguments:\n",
    "        input_dim - the number of inputs of the layer. type int\n",
    "        output_dim - the number of outputs of the layer. type int\n",
    "        activation_fn - a reference to the activation function to use. Should be 'relu' as a default\n",
    "                        possible values are the 'relu', 'sigmoid' and 'softmax' functions you implemented earlier.\n",
    "                        Has the type 'function'\n",
    "\n",
    "        Attributes:\n",
    "        w - the weight matrix of the layer, should be initialized with 'initialize_weights'\n",
    "            and has the shape (INPUT_FEATURES, OUTPUT_FEATURES) and type 'numpy.ndarray'\n",
    "        b - the bias vector of the layer, should be initialized with 'initialize_weights'\n",
    "            and has the shape (1, OUTPUT_FEATURES) and type 'numpy.ndarray'\n",
    "        activation_fn - a reference to the activation function to use.\n",
    "                        Has the type 'function'\n",
    "        \"\"\"\n",
    "        self.w, self.b = None, None  # TODO\n",
    "        self.activation_fn = None  # TODO\n",
    "        # YOUR CODE HERE\n",
    "        self.w, self.b = initialize_weights((input_dim, output_dim))\n",
    "        self.activation_fn = activation_fn\n",
    "        \n",
    "        self.input = None\n",
    "        self.output = None\n",
    "\n",
    "    def forward_prop(self, a_prev):\n",
    "        \"\"\"Implement the forward propagation module of the neural network layer\n",
    "        Should use whatever activation function that 'activation_fn' references to\n",
    "\n",
    "        Arguments:\n",
    "        a_prev - the input to the layer, which may be the data 'X', or the output from the previous layer.\n",
    "            a_prev has the shape of (BATCH_SIZE, INPUT_FEATURES) and the type 'numpy.ndarray'\n",
    "\n",
    "        Returns:\n",
    "        a - the output of the layer when performing forward propagation. Has the type 'numpy.ndarray'\n",
    "        \"\"\"\n",
    "\n",
    "        a = None  # TODO\n",
    "        # YOUR CODE HERE\n",
    "        z = np.dot(a_prev, self.w) + self.b\n",
    "        a = self.activation_fn(z)\n",
    "        self.input = a_prev\n",
    "        self.output = a\n",
    "\n",
    "        return a\n",
    "\n",
    "    def backward_prop(self, output_gradient, learning_rate):\n",
    "        if self.activation_fn == relu:\n",
    "            output_gradient *= relu_derivative(self.output)\n",
    "        weights_gradient = np.dot(self.input.T, output_gradient)\n",
    "        input_gradient = np.dot(output_gradient, self.w.T)\n",
    "        self.w -= learning_rate * weights_gradient\n",
    "        self.b -= learning_rate * np.sum(output_gradient, axis=0, keepdims=True)\n",
    "        return input_gradient"
   ]
  },
  {
   "cell_type": "code",
   "execution_count": null,
   "metadata": {},
   "outputs": [
    {
     "name": "stdout",
     "output_type": "stream",
     "text": [
      "Test passed\n"
     ]
    }
   ],
   "source": [
    "# test case, be sure that you pass the previous activation function tests before running this test\n",
    "iha1_tests.test_layer(Layer, relu, sigmoid, softmax)"
   ]
  },
  {
   "cell_type": "markdown",
   "metadata": {},
   "source": [
    "### 3.3 Implementing the neural network\n",
    "You will now define the actual neural network class. It is an L-layer neural network, meaning that the number of layers and neurons in each layer is specified as input by the user. Once again, you will only focus on implementing the forward propagation part.\n",
    "\n",
    "Read the descriptions in the comments and complete the **TODO**s."
   ]
  },
  {
   "cell_type": "code",
   "execution_count": null,
   "metadata": {},
   "outputs": [],
   "source": [
    "class NeuralNetwork:\n",
    "    \"\"\"\n",
    "    TODO: Implement an L-layer neural network class by utilizing the Layer module defined above\n",
    "    Each layer should use 'relu' activation function, except for the output layer, which should use 'softmax'\n",
    "    \"\"\"\n",
    "\n",
    "    def __init__(self, input_n, layer_dims):\n",
    "        \"\"\"\n",
    "        Arguments:\n",
    "        input_n    - the number of inputs to the network. Should be the same as the length of a data sample\n",
    "                     Has type int\n",
    "        layer_dims - a python list or tuple of the number of neurons in each layer. Layer 'l' should have a weight matrix\n",
    "                     with the shape ('layer_dims[l-1]', 'layer_dims[l]').\n",
    "                     'layer_dims[-1]' is the dimension of the output layer.\n",
    "                     Layer 1 should have the dimensions ('input_n', 'layer_dims[0]').\n",
    "                     len(layer_dims) is the depth of the neural network\n",
    "        Attributes:\n",
    "        input_n - the number of inputs to the network. Has type int\n",
    "        layers  - a python list of each layer in the network. Each layer should use the 'relu' activation function,\n",
    "                  except for the last layer, which should use 'softmax'.\n",
    "                  Has type 'list' containing layers of type 'Layer'\n",
    "        \"\"\"\n",
    "\n",
    "        self.input_n = None  # TODO\n",
    "        self.layers = None  # TODO\n",
    "        # YOUR CODE HERE\n",
    "        self.input_n = input_n\n",
    "        self.layers = []\n",
    "\n",
    "        for i in range(len(layer_dims)):\n",
    "            if i == len(layer_dims) - 1:\n",
    "                self.layers.append(Layer(input_n if i == 0 else layer_dims[i-1], layer_dims[i], activation_fn=softmax))\n",
    "            else:\n",
    "                self.layers.append(Layer(input_n if i == 0 else layer_dims[i-1], layer_dims[i], activation_fn=relu))\n",
    "\n",
    "\n",
    "    def forward_prop(self, x):\n",
    "        \"\"\"\n",
    "        Implement the forward propagation procedure through the entire network, from input to output.\n",
    "        You will now connect each layer's forward propagation function into a chain of layer-wise forward propagations.\n",
    "\n",
    "        Arguments:\n",
    "        x - the input data, which has the shape (BATCH_SIZE, NUM_FEATURES) and type 'numpy.ndarray'\n",
    "\n",
    "        Returns:\n",
    "        a - the output of the last layer after forward propagating through the every layer in 'layers'.\n",
    "            Should have the dimension (BATCH_SIZE, layers[-1].w.shape[1]) and type 'numpy.ndarray'\n",
    "        \"\"\"\n",
    "        a = None  # TODO\n",
    "        # YOUR CODE HERE\n",
    "        a = x\n",
    "        for layer in self.layers:\n",
    "            a = layer.forward_prop(a)\n",
    "        return a\n",
    "\n",
    "    def backward_prop(self, output_gradient, learning_rate):\n",
    "        for layer in reversed(self.layers):\n",
    "            output_gradient = layer.backward_prop(output_gradient, learning_rate)"
   ]
  },
  {
   "cell_type": "code",
   "execution_count": null,
   "metadata": {},
   "outputs": [
    {
     "name": "stdout",
     "output_type": "stream",
     "text": [
      "Test passed\n"
     ]
    }
   ],
   "source": [
    "# test case\n",
    "iha1_tests.test_neuralnetwork(NeuralNetwork)"
   ]
  },
  {
   "cell_type": "markdown",
   "metadata": {},
   "source": [
    "### 3.4 Training\n",
    "\n",
    "All that is left now is the training loop for your network. You are already given a loss function and its derivative (loss is just another word for error) that will be suitable for the upcoming problem that you will train your network on. Implement the missing steps in the training loop."
   ]
  },
  {
   "cell_type": "code",
   "execution_count": null,
   "metadata": {},
   "outputs": [],
   "source": [
    "def compute_loss(output, y_true, epsilon=1e-10):\n",
    "    p = np.clip(output, epsilon, 1 - epsilon)\n",
    "    log_likelihood = -np.sum(y_true * np.log(p)) / y_true.shape[0]\n",
    "    return log_likelihood\n",
    "\n",
    "\n",
    "def compute_loss_gradient(output, y_true):\n",
    "    return (output - y_true) / y_true.shape[0]\n",
    "\n",
    "\n",
    "def train(neural_network, x_train, y_train, iterations, learning_rate):\n",
    "    \"\"\"Implement the training loop for the neural network. The training loop should update the parameters of the neural network\n",
    "    based on the error between the predicted and true values.\n",
    "\n",
    "    Arguments:\n",
    "    neural_network - the neural network object\n",
    "    x_train - the input to the neural network, shape (BATCH_SIZE, INPUT_FEATURES) and type 'numpy.ndarray'\n",
    "    y_train - the true value of the output, shape (BATCH_SIZE, OUTPUT_FEATURES) and type 'numpy.ndarray'\n",
    "    iterations - the number of training iterations, scalar of type 'int'\n",
    "    learning_rate - the step size for the update step, scalar of type 'float'\n",
    "\n",
    "    Returns:\n",
    "    None\n",
    "    \"\"\"\n",
    "    for iteration in range(iterations):\n",
    "        # YOUR CODE HERE\n",
    "        output = neural_network.forward_prop(x_train)\n",
    "        loss = compute_loss_gradient(output, y_train)\n",
    "        loss_gradient = compute_loss_gradient(output, y_train)\n",
    "        neural_network.backward_prop(loss_gradient, learning_rate)\n",
    "        print(f\"Iteration {iteration + 1}/{iterations} | Loss: {loss}\")"
   ]
  },
  {
   "cell_type": "markdown",
   "metadata": {},
   "source": [
    "You will now apply your newly created `NeuralNetwork`-class on a slightly more difficult problem than before. Given images of hand-drawn numbers, your network will be tasked with predicting the correct digit. For this we will use the famous [MNIST dataset](https://en.wikipedia.org/wiki/MNIST_database). Below, we have prepared the necessary code needed to load and visualize the data. Run the cells below to see the size of the dataset splits and a visualization of some samples from the dataset. "
   ]
  },
  {
   "cell_type": "code",
   "execution_count": null,
   "metadata": {},
   "outputs": [
    {
     "name": "stderr",
     "output_type": "stream",
     "text": [
      "/Users/mattiacarlino/anaconda3/envs/dml/lib/python3.11/site-packages/sklearn/datasets/_openml.py:1022: FutureWarning: The default value of `parser` will change from `'liac-arff'` to `'auto'` in 1.4. You can set `parser='auto'` to silence this warning. Therefore, an `ImportError` will be raised from 1.4 if the dataset is dense and pandas is not installed. Note that the pandas parser may return different data types. See the Notes Section in fetch_openml's API doc for details.\n",
      "  warn(\n"
     ]
    },
    {
     "name": "stdout",
     "output_type": "stream",
     "text": [
      "x_train shape: (60000, 784)\n",
      "y_train shape: (60000, 10)\n",
      "x_test shape: (10000, 784)\n",
      "y_test shape: (10000, 10)\n"
     ]
    }
   ],
   "source": [
    "# Load MNIST data from sklearn\n",
    "mnist = fetch_openml(\"mnist_784\", version=1)\n",
    "x, y = mnist[\"data\"].to_numpy(), mnist[\"target\"].to_numpy()\n",
    "\n",
    "# Normalize the data\n",
    "x = x / 255.0\n",
    "y = y.astype(int)\n",
    "\n",
    "# One-hot encode the labels\n",
    "y_one_hot = np.zeros((y.size, y.max() + 1))\n",
    "y_one_hot[np.arange(y.size), y] = 1\n",
    "\n",
    "# Split into training and test sets\n",
    "x_train, x_test = x[:60000], x[60000:]\n",
    "y_train, y_test = y_one_hot[:60000], y_one_hot[60000:]\n",
    "\n",
    "print(f\"x_train shape: {x_train.shape}\")\n",
    "print(f\"y_train shape: {y_train.shape}\")\n",
    "print(f\"x_test shape: {x_test.shape}\")\n",
    "print(f\"y_test shape: {y_test.shape}\")"
   ]
  },
  {
   "cell_type": "code",
   "execution_count": null,
   "metadata": {},
   "outputs": [
    {
     "data": {
      "image/png": "[encoded data removed]",
      "text/plain": [
       "<Figure size 640x480 with 3 Axes>"
      ]
     },
     "metadata": {},
     "output_type": "display_data"
    }
   ],
   "source": [
    "# Display the mnist data and labels for 3 samples\n",
    "fig, axs = plt.subplots(1, 3)\n",
    "for i in range(3):\n",
    "    axs[i].imshow(x_train[i].reshape(28, 28), cmap=\"gray\")\n",
    "    axs[i].set_title(f\"Label: {np.argmax(y_train[i])}\")\n",
    "    axs[i].axis(\"off\")\n",
    "plt.show()"
   ]
  },
  {
   "cell_type": "markdown",
   "metadata": {},
   "source": [
    "Before training the network, we want some way of running predictions on test data and calculate some metric that tells us how our network performed. In this case, we want to calculate the accuracy of our network, meaning the ratio of correctly predicted samples out of the full test set. Implement the function `predict_and_correct`which takes in a `NeuralNetwork`-object and some test data, makes predictions using the neural network, and finally outputs the accuracy of the predictions."
   ]
  },
  {
   "cell_type": "code",
   "execution_count": null,
   "metadata": {},
   "outputs": [],
   "source": [
    "def predict_and_correct(model, x_test, y_test):\n",
    "    \"\"\"Implement a function that predicts the labels of the test data and calculates the accuracy of the predictions.\n",
    "\n",
    "    Arguments:\n",
    "    model - the neural network to use for prediction. Has type `NeuralNetwork`\n",
    "\n",
    "    Returns:\n",
    "    accuracy - the accuracy of the predictions. Has type 'float'\n",
    "    \"\"\"\n",
    "\n",
    "    # YOUR CODE HERE\n",
    "    predictions = model.forward_prop(x_test)\n",
    "    predicted_classes = np.argmax(predictions, axis=1)\n",
    "    true_classes = np.argmax(y_test, axis=1)\n",
    "    correct_predictions = np.sum(predicted_classes == true_classes)\n",
    "    accuracy = (correct_predictions / y_test.shape[0])\n",
    "    return accuracy"
   ]
  },
  {
   "cell_type": "markdown",
   "metadata": {},
   "source": [
    "Now you can first test the accuracy of your untrained network. "
   ]
  },
  {
   "cell_type": "code",
   "execution_count": null,
   "metadata": {},
   "outputs": [
    {
     "name": "stdout",
     "output_type": "stream",
     "text": [
      "Accuracy without training:  0.1234\n"
     ]
    }
   ],
   "source": [
    "nn = NeuralNetwork(784, [64, 10])\n",
    "print(\"Accuracy without training: \", predict_and_correct(nn, x_test, y_test))"
   ]
  },
  {
   "cell_type": "markdown",
   "metadata": {},
   "source": [
    "How did it perform? Was it in line with your expectations? Why/why not?"
   ]
  },
  {
   "cell_type": "markdown",
   "metadata": {},
   "source": [
    "**Your answer:** (fill in here)"
   ]
  },
  {
   "cell_type": "markdown",
   "metadata": {},
   "source": [
    "Let's train the network for some iterations and again evaluate the performance."
   ]
  },
  {
   "cell_type": "code",
   "execution_count": null,
   "metadata": {},
   "outputs": [
    {
     "name": "stdout",
     "output_type": "stream",
     "text": [
      "Iteration 1/50 | Loss: [[ 0.00000000e+000  6.91406799e-105  1.01974744e-267 ...  1.03109548e-174\n",
      "   1.71217894e-231  0.00000000e+000]\n",
      " [-1.66666667e-005  1.12598249e-028  1.64670751e-059 ...  1.32214009e-108\n",
      "   7.84063491e-290  2.06627587e-232]\n",
      " [ 7.25383837e-240  6.81784436e-126  1.71404904e-100 ...  1.90536668e-124\n",
      "   3.49945856e-197  6.18327675e-162]\n",
      " ...\n",
      " [ 2.35990480e-234  2.68592667e-095  4.29760698e-258 ...  8.28714170e-176\n",
      "   1.69518247e-183  1.11479280e-164]\n",
      " [ 1.66666667e-005  3.21596225e-164  1.65386964e-043 ...  9.33733101e-224\n",
      "   2.18346822e-144  1.10209461e-248]\n",
      " [ 2.83279334e-267  3.00324428e-008  1.68192042e-109 ...  2.03203661e-052\n",
      "  -1.66666667e-005  1.08568073e-048]]\n",
      "Iteration 2/50 | Loss: [[ 5.73204468e-237  2.14633483e-084  2.90919583e-303 ...  2.14985665e-078\n",
      "   2.37945131e-116  3.81928113e-276]\n",
      " [-1.66666667e-005  1.60380235e-005  7.85785242e-083 ...  6.26136578e-007\n",
      "   1.25031221e-153  2.25219291e-125]\n",
      " [ 1.60202793e-112  5.32763684e-047  1.11445310e-050 ...  1.66494528e-005\n",
      "   3.28697417e-073  2.58745156e-046]\n",
      " ...\n",
      " [ 3.42849881e-081  3.36682764e-027  3.18304542e-223 ...  1.58398277e-040\n",
      "   4.69492897e-032  5.44805763e-022]\n",
      " [ 1.66666667e-005  2.12724004e-215  3.81855677e-139 ...  2.69482739e-241\n",
      "   5.84134722e-147  4.94429126e-257]\n",
      " [ 7.80185973e-211  1.51171695e-027  2.11926124e-160 ...  2.38889100e-021\n",
      "  -3.45405220e-008  3.45405220e-008]]\n",
      "Iteration 3/50 | Loss: [[ 2.40154472e-206  6.68221803e-103  3.26366305e-262 ...  1.28302628e-074\n",
      "   1.89690683e-142  3.58619925e-275]\n",
      " [-1.66666667e-005  1.93849885e-028  2.20707611e-047 ...  1.66666667e-005\n",
      "   1.52194170e-158  3.48099248e-123]\n",
      " [ 2.74784130e-131  2.41398125e-088  1.41022971e-062 ...  3.24439292e-032\n",
      "   2.09966180e-117  1.44163567e-075]\n",
      " ...\n",
      " [ 6.83721021e-069  2.14601259e-053  7.13202111e-199 ...  1.29069251e-041\n",
      "   4.98085710e-052  8.70437639e-035]\n",
      " [ 1.66666667e-005  1.01770443e-241  4.93063394e-135 ...  3.75404596e-253\n",
      "   8.33321234e-177  3.02898411e-263]\n",
      " [ 1.30382631e-197  3.88020893e-049  2.85337507e-140 ...  2.42916662e-029\n",
      "  -1.66666667e-005  2.56500664e-020]]\n",
      "Iteration 4/50 | Loss: [[ 1.51451890e-218  2.06782550e-092  3.31426011e-265 ...  1.32615470e-077\n",
      "   1.11955820e-120  2.01045400e-271]\n",
      " [-1.66666667e-005  6.21297112e-021  4.79445934e-051 ...  1.66666667e-005\n",
      "   4.06984066e-127  1.34929981e-113]\n",
      " [ 6.55780651e-152  1.02735008e-097  9.15280971e-079 ...  1.16892921e-043\n",
      "   2.25474457e-121  3.84413003e-084]\n",
      " ...\n",
      " [ 1.45034857e-072  1.27381207e-041  2.12814904e-192 ...  2.83024376e-033\n",
      "   1.14580094e-025  3.94603373e-025]\n",
      " [ 1.66666667e-005  4.73753125e-224  4.33264295e-130 ...  1.00883082e-243\n",
      "   1.50290123e-154  2.44489998e-244]\n",
      " [ 7.07382625e-218  1.47155571e-063  8.75228823e-157 ...  4.51289862e-049\n",
      "  -1.66666667e-005  3.36782825e-035]]\n",
      "Iteration 5/50 | Loss: [[ 1.73829144e-207  4.53800054e-094  4.37374084e-262 ...  9.78382706e-075\n",
      "   8.43764915e-133  8.98482099e-272]\n",
      " [-1.66666555e-005  5.26217156e-029  1.47997371e-053 ...  1.66666555e-005\n",
      "   1.55460983e-128  1.75724247e-115]\n",
      " [ 1.08608533e-150  1.05685502e-101  3.78019301e-080 ...  1.38942375e-042\n",
      "   2.94351429e-129  1.29784329e-084]\n",
      " ...\n",
      " [ 2.93341016e-071  4.31581136e-050  6.37031695e-196 ...  4.68170196e-032\n",
      "   9.67327613e-033  3.87668345e-031]\n",
      " [ 1.66666667e-005  1.31809351e-227  4.64903649e-135 ...  1.76532578e-245\n",
      "   3.57149563e-165  1.36444954e-245]\n",
      " [ 6.01574705e-204  5.24319532e-062  4.63081623e-148 ...  2.66474233e-042\n",
      "  -1.66666667e-005  9.23832610e-031]]\n",
      "Iteration 6/50 | Loss: [[ 1.25441958e-202  9.83696305e-089  2.30379283e-252 ...  8.96056070e-072\n",
      "   1.61294710e-122  4.74335626e-265]\n",
      " [-6.73535302e-019  1.60334456e-043  4.45675781e-064 ...  6.73669984e-019\n",
      "   3.00030157e-127  9.18707412e-124]\n",
      " [ 8.15085537e-153  7.33239578e-104  1.34730760e-080 ...  1.68649705e-042\n",
      "   1.25704085e-128  1.99815300e-083]\n",
      " ...\n",
      " [ 6.91562603e-075  1.61497313e-054  3.46990681e-195 ...  2.86893531e-032\n",
      "   2.04245900e-026  1.88691296e-032]\n",
      " [ 1.66666667e-005  7.02496144e-223  7.55188257e-132 ...  5.02158034e-243\n",
      "   1.60087010e-159  4.94411014e-238]\n",
      " [ 3.58337380e-202  8.38471118e-065  9.47642831e-145 ...  1.53845194e-044\n",
      "  -1.65993654e-005  1.73009507e-030]]\n",
      "Iteration 7/50 | Loss: [[ 9.89376526e-199  3.64178385e-088  8.68841318e-249 ...  1.71653955e-069\n",
      "   1.23989318e-128  6.35859333e-263]\n",
      " [ 0.00000000e+000  3.42363648e-064  3.19175954e-082 ...  1.58816234e-035\n",
      "   1.13183112e-142  1.67217636e-139]\n",
      " [ 1.00993851e-152  1.23675111e-105  3.85522939e-081 ...  6.71441212e-041\n",
      "   1.76747355e-132  4.52156182e-082]\n",
      " ...\n",
      " [ 1.58191870e-076  2.98702122e-059  4.48601818e-196 ...  2.34947488e-030\n",
      "   5.79511722e-029  6.90839951e-035]\n",
      " [ 1.66666667e-005  4.05117368e-221  7.24079878e-132 ...  3.32405894e-241\n",
      "   1.29133889e-162  6.17140865e-234]\n",
      " [ 6.18423838e-197  2.42304366e-066  6.65855437e-141 ...  3.74124339e-043\n",
      "  -2.09443682e-006  1.31299184e-028]]\n",
      "Iteration 8/50 | Loss: [[ 5.57516019e-194  8.40385983e-085  2.37538593e-241 ...  1.49978191e-066\n",
      "   2.05980665e-123  3.12557217e-257]\n",
      " [ 0.00000000e+000  1.06622898e-080  1.97299057e-095 ...  9.50947208e-051\n",
      "   3.85590539e-149  2.71896209e-150]\n",
      " [ 5.18390355e-153  3.73013010e-107  2.46299209e-081 ...  3.52610671e-040\n",
      "   1.74850659e-132  2.08676305e-080]\n",
      " ...\n",
      " [ 1.62186196e-078  3.42406298e-063  1.25372528e-195 ...  1.13510577e-029\n",
      "   9.66511296e-026  8.58779217e-036]\n",
      " [ 1.66666667e-005  4.34197140e-218  6.66992655e-130 ...  2.82607476e-239\n",
      "   4.00138569e-160  3.19375820e-228]\n",
      " [ 9.32262771e-199  1.52372847e-073  1.23290672e-142 ...  5.61217945e-049\n",
      "  -4.67573294e-012  5.45958570e-032]]\n",
      "Iteration 9/50 | Loss: [[ 3.27219540e-192  3.16267464e-084  5.11675173e-238 ...  9.31927205e-065\n",
      "   9.01747576e-128  5.24008337e-254]\n",
      " [ 0.00000000e+000  2.59853251e-094  2.76526506e-107 ...  1.16903165e-062\n",
      "   1.55984094e-159  3.10242069e-159]\n",
      " [ 7.06799548e-153  3.01132035e-108  1.24681389e-081 ...  1.08785601e-038\n",
      "   8.68649789e-135  2.18506424e-078]\n",
      " ...\n",
      " [ 1.96160565e-080  9.25528090e-067  4.16064980e-196 ...  6.26926575e-028\n",
      "   7.43596713e-028  1.83445489e-036]\n",
      " [ 1.66666667e-005  3.09821493e-215  3.78017838e-128 ...  1.42426045e-236\n",
      "   3.48130684e-161  6.54670217e-223]\n",
      " [ 1.78017021e-196  3.95997672e-076  7.42730897e-141 ...  1.93615113e-049\n",
      "  -9.24719523e-014  4.45441370e-031]]\n",
      "Iteration 10/50 | Loss: [[ 1.86161738e-188  5.41793225e-082  1.28224334e-232 ...  9.20406611e-063\n",
      "   5.29508481e-125  2.08223375e-249]\n",
      " [ 0.00000000e+000  4.82191894e-103  2.64966940e-114 ...  4.23674355e-072\n",
      "   1.49707053e-163  1.16682302e-164]\n",
      " [ 3.29110664e-152  4.58314969e-109  1.36137336e-081 ...  8.51709652e-038\n",
      "   1.59159759e-134  2.25277795e-076]\n",
      " ...\n",
      " [ 2.29366341e-081  1.31021943e-069  7.64193989e-196 ...  5.41193691e-027\n",
      "   4.69776861e-026  1.04109518e-036]\n",
      " [ 1.66666667e-005  1.60063302e-212  4.97191684e-126 ...  8.93030850e-235\n",
      "   9.59964423e-160  4.58337045e-218]\n",
      " [ 1.56422007e-196  6.60185114e-081  1.43566607e-141 ...  3.79396915e-053\n",
      "  -1.12613622e-017  1.06581875e-032]]\n",
      "Iteration 11/50 | Loss: [[ 4.83355148e-187  1.06891686e-081  3.19197627e-230 ...  2.80401521e-062\n",
      "   2.02577018e-128  9.38836567e-247]\n",
      " [ 0.00000000e+000  2.16795663e-110  5.95200943e-121 ...  6.98733517e-080\n",
      "   2.99268118e-170  3.08499939e-169]\n",
      " [ 7.46711674e-152  9.41521887e-110  5.45003636e-082 ...  4.30257232e-037\n",
      "   1.47043779e-135  1.32893213e-074]\n",
      " ...\n",
      " [ 1.23736893e-082  1.89908444e-072  2.00240355e-196 ...  3.24971101e-026\n",
      "   6.27656710e-028  3.73598697e-037]\n",
      " [ 1.66666667e-005  4.08526078e-210  1.35503230e-124 ...  9.15701122e-233\n",
      "   1.99223173e-160  1.00723144e-213]\n",
      " [ 6.85561140e-194  1.69548542e-082  6.98921145e-140 ...  1.25981182e-053\n",
      "  -1.41738473e-018  1.92366892e-031]]\n",
      "Iteration 12/50 | Loss: [[1.04095945e-184 1.32733866e-080 1.45393433e-226 ... 7.13739909e-062\n",
      "  5.68519961e-127 2.08612435e-243]\n",
      " [0.00000000e+000 7.40783929e-117 2.55261142e-126 ... 2.35819010e-087\n",
      "  1.14307729e-173 7.39446696e-173]\n",
      " [2.11224664e-151 2.21599171e-110 3.23448467e-082 ... 6.73213354e-037\n",
      "  5.38947131e-135 7.61948543e-073]\n",
      " ...\n",
      " [1.31522089e-083 5.45429703e-075 1.42230487e-196 ... 4.06926976e-026\n",
      "  4.12133961e-027 2.34688746e-037]\n",
      " [1.66666667e-005 9.87063777e-208 7.24927507e-123 ... 4.43631225e-231\n",
      "  4.03861185e-159 1.78330515e-209]\n",
      " [2.08104772e-193 5.51784177e-086 3.98608747e-140 ... 9.40828613e-057\n",
      "  0.00000000e+000 2.89033409e-032]]\n",
      "Iteration 13/50 | Loss: [[5.20944133e-183 2.59761503e-080 2.57836869e-224 ... 6.26024325e-062\n",
      "  1.29999971e-128 3.59789647e-241]\n",
      " [0.00000000e+000 1.65064389e-122 1.53997971e-131 ... 1.76192225e-093\n",
      "  1.04817075e-178 6.40605802e-176]\n",
      " [9.80369485e-151 9.40457815e-111 1.83897627e-082 ... 2.18797438e-036\n",
      "  3.82197811e-135 6.14374585e-071]\n",
      " ...\n",
      " [3.39319949e-084 4.92422163e-077 7.18765776e-197 ... 1.80921513e-025\n",
      "  4.90195305e-028 3.44170094e-037]\n",
      " [1.66666667e-005 1.24765186e-205 1.31098201e-121 ... 2.59572444e-229\n",
      "  4.18395318e-159 1.64429598e-205]\n",
      " [2.24489324e-191 1.11016319e-087 3.62125773e-139 ... 5.61128279e-058\n",
      "  0.00000000e+000 1.84922464e-031]]\n",
      "Iteration 14/50 | Loss: [[2.65926356e-181 6.73424984e-080 6.17980961e-222 ... 2.08124660e-062\n",
      "  4.39240337e-128 9.51786915e-239]\n",
      " [0.00000000e+000 1.83378493e-127 5.43583505e-136 ... 2.93725284e-099\n",
      "  8.08058216e-182 2.88958652e-178]\n",
      " [2.66550933e-150 2.63764252e-111 6.84552234e-083 ... 1.93562369e-036\n",
      "  1.07163939e-134 2.72018025e-069]\n",
      " ...\n",
      " [4.65386032e-085 2.77079549e-079 1.96537699e-197 ... 9.44107713e-026\n",
      "  5.12287880e-028 2.60385530e-037]\n",
      " [1.66666667e-005 1.52431463e-203 3.11056499e-120 ... 9.63712231e-228\n",
      "  5.50649236e-158 1.41307217e-201]\n",
      " [2.43454445e-190 4.33763147e-090 3.75415023e-139 ... 2.34757616e-060\n",
      "  0.00000000e+000 1.58448829e-031]]\n",
      "Iteration 15/50 | Loss: [[4.45639182e-180 1.35008254e-079 4.61752107e-220 ... 6.64301514e-063\n",
      "  3.68707715e-129 1.10001926e-236]\n",
      " [0.00000000e+000 1.05373333e-131 5.19352928e-140 ... 3.94004797e-104\n",
      "  1.01259775e-185 2.85235500e-180]\n",
      " [1.17962514e-149 1.78342079e-111 4.59671904e-083 ... 3.61267969e-036\n",
      "  1.69620481e-134 1.77071871e-067]\n",
      " ...\n",
      " [1.45799359e-085 7.81275568e-081 1.14196220e-197 ... 1.60638935e-025\n",
      "  1.11378491e-028 5.21482521e-037]\n",
      " [1.66666667e-005 1.64975306e-201 5.77917881e-119 ... 4.23092480e-226\n",
      "  1.60516061e-157 6.82777054e-198]\n",
      " [1.79424444e-188 3.03475824e-091 2.70173204e-138 ... 1.90194996e-061\n",
      "  0.00000000e+000 1.25820371e-030]]\n",
      "Iteration 16/50 | Loss: [[6.06542872e-179 7.04536471e-079 7.16524057e-218 ... 2.94779626e-063\n",
      "  1.23332950e-128 1.97902123e-234]\n",
      " [0.00000000e+000 3.78002562e-135 2.94362388e-143 ... 2.87554216e-108\n",
      "  4.20213317e-188 1.06615227e-181]\n",
      " [3.36405001e-149 1.25126945e-111 2.99510942e-083 ... 4.68100915e-036\n",
      "  7.08090193e-134 7.78145628e-066]\n",
      " ...\n",
      " [2.66283821e-086 3.06832633e-082 7.12734455e-198 ... 1.50270672e-025\n",
      "  1.51515450e-028 8.15979535e-037]\n",
      " [1.66666667e-005 2.71072085e-199 1.89740409e-117 ... 2.70063356e-224\n",
      "  3.19962012e-156 3.54754356e-194]\n",
      " [1.72855926e-187 8.17283650e-093 4.36129823e-138 ... 3.81766195e-063\n",
      "  0.00000000e+000 2.01398075e-030]]\n",
      "Iteration 17/50 | Loss: [[1.13957174e-177 2.55671449e-078 5.71491006e-216 ... 1.89828872e-063\n",
      "  4.82510736e-129 2.97565450e-232]\n",
      " [0.00000000e+000 1.42925917e-138 1.38036753e-146 ... 4.23409715e-112\n",
      "  2.92435779e-191 3.27485739e-183]\n",
      " [1.12132091e-148 9.34480741e-112 1.76091231e-083 ... 6.71370103e-036\n",
      "  1.37443563e-133 2.76228418e-064]\n",
      " ...\n",
      " [8.72399588e-087 1.49574068e-083 3.96752003e-198 ... 1.63210333e-025\n",
      "  3.80183355e-029 1.36821435e-036]\n",
      " [1.66666648e-005 2.24664861e-197 3.11698680e-116 ... 1.30841731e-222\n",
      "  1.59337747e-155 7.57688483e-191]\n",
      " [8.52551913e-186 1.24082260e-093 2.35944944e-137 ... 5.43461388e-064\n",
      "  0.00000000e+000 1.44185327e-029]]\n",
      "Iteration 18/50 | Loss: [[9.57988411e-177 6.43127417e-078 2.18798299e-214 ... 6.51172176e-064\n",
      "  1.19441379e-128 2.81992661e-230]\n",
      " [0.00000000e+000 1.42296750e-141 1.66863361e-149 ... 1.35825753e-115\n",
      "  1.68348958e-193 2.08435940e-184]\n",
      " [3.84842170e-148 8.34931087e-112 1.15914058e-083 ... 8.59553559e-036\n",
      "  6.36973472e-133 9.38860639e-063]\n",
      " ...\n",
      " [3.49554115e-087 1.07651461e-084 2.53579779e-198 ... 1.31731753e-025\n",
      "  4.26995528e-029 2.67731337e-036]\n",
      " [1.66661781e-005 1.93749834e-195 5.59452164e-115 ... 6.25778522e-221\n",
      "  2.52146479e-154 1.33270565e-187]\n",
      " [1.34787018e-184 1.02397453e-094 4.38547016e-137 ... 2.92857690e-065\n",
      "  0.00000000e+000 3.96084632e-029]]\n",
      "Iteration 19/50 | Loss: [[5.22355854e-176 1.42104513e-077 7.21810669e-213 ... 1.87984889e-064\n",
      "  9.30050206e-129 1.95751415e-228]\n",
      " [0.00000000e+000 2.86786042e-144 4.33359334e-152 ... 1.05999128e-118\n",
      "  6.42904425e-196 1.88030345e-185]\n",
      " [1.44804287e-147 9.01478567e-112 1.04688935e-083 ... 1.22824770e-035\n",
      "  2.25552302e-132 3.04562499e-061]\n",
      " ...\n",
      " [1.52759421e-087 1.10241237e-085 2.12721877e-198 ... 9.85964523e-026\n",
      "  2.30253630e-029 5.55115530e-036]\n",
      " [1.65602219e-005 1.36172048e-193 1.01579225e-113 ... 2.64844693e-219\n",
      "  2.32373848e-153 1.56233925e-184]\n",
      " [3.85626177e-183 2.48050690e-095 1.86002813e-136 ... 4.39897642e-066\n",
      "  0.00000000e+000 2.25356117e-028]]\n",
      "Iteration 20/50 | Loss: [[1.53344722e-175 1.92306446e-077 1.09356572e-211 ... 4.01605257e-065\n",
      "  1.22510798e-128 6.64653223e-227]\n",
      " [0.00000000e+000 8.17502176e-147 1.49400980e-154 ... 1.63991264e-121\n",
      "  6.03882701e-198 1.94908008e-186]\n",
      " [5.13651680e-147 1.02763633e-111 9.64670145e-084 ... 1.88583138e-035\n",
      "  1.20772723e-131 8.71599517e-060]\n",
      " ...\n",
      " [8.22832550e-088 1.53772491e-086 1.89170281e-198 ... 8.76254229e-026\n",
      "  2.85161138e-029 1.21734442e-035]\n",
      " [9.39173344e-006 4.63054444e-192 9.07820421e-113 ... 6.78350405e-218\n",
      "  1.96839202e-152 7.10423756e-182]\n",
      " [6.06491938e-182 4.47215902e-096 4.19064233e-136 ... 5.21061799e-067\n",
      "  0.00000000e+000 7.31152082e-028]]\n",
      "Iteration 21/50 | Loss: [[7.51816221e-175 2.37800487e-077 1.29181356e-210 ... 6.75931507e-066\n",
      "  1.13551094e-128 2.52381085e-225]\n",
      " [0.00000000e+000 1.82533375e-149 3.70873483e-157 ... 2.12895246e-124\n",
      "  2.84311236e-200 1.56830752e-187]\n",
      " [2.22491925e-146 1.20976636e-111 8.71102410e-084 ... 2.66557011e-035\n",
      "  5.65983684e-131 2.37482522e-058]\n",
      " ...\n",
      " [7.13081510e-088 2.43972633e-087 1.64754072e-198 ... 5.96045395e-026\n",
      "  2.54971322e-029 3.12399693e-035]\n",
      " [3.28566866e-007 5.08591014e-192 2.65613876e-113 ... 5.90194865e-218\n",
      "  5.19743279e-153 1.02772269e-180]\n",
      " [1.72606833e-180 1.38814960e-096 1.19197011e-135 ... 9.05503635e-068\n",
      "  0.00000000e+000 3.61425233e-027]]\n",
      "Iteration 22/50 | Loss: [[5.14080164e-174 3.15121941e-077 1.43187294e-209 ... 2.19710204e-066\n",
      "  1.49342569e-128 6.18988238e-224]\n",
      " [0.00000000e+000 3.46949841e-152 8.22114030e-160 ... 6.62996376e-127\n",
      "  1.01142724e-202 8.06345873e-189]\n",
      " [1.09162902e-145 1.54692668e-111 8.47125538e-084 ... 4.80728602e-035\n",
      "  2.95414561e-130 4.86179509e-057]\n",
      " ...\n",
      " [8.16597544e-088 4.60911793e-088 1.45564513e-198 ... 5.65643723e-026\n",
      "  2.56803107e-029 5.55748971e-035]\n",
      " [1.28690260e-008 3.99644522e-192 5.94399473e-114 ... 5.24522230e-218\n",
      "  1.21240589e-153 7.02542639e-180]\n",
      " [5.01534570e-179 4.91951615e-097 2.95131018e-135 ... 2.39119889e-068\n",
      "  0.00000000e+000 1.29497468e-026]]\n",
      "Iteration 23/50 | Loss: [[3.60387617e-173 5.07329487e-077 2.26081723e-208 ... 7.15080797e-067\n",
      "  2.29032972e-128 2.46593750e-222]\n",
      " [0.00000000e+000 1.03297676e-154 3.52416970e-162 ... 3.48648765e-129\n",
      "  4.45563350e-205 8.07985770e-190]\n",
      " [5.56127028e-145 2.23950731e-111 1.04122877e-083 ... 8.83867890e-035\n",
      "  1.58613853e-129 1.10316621e-055]\n",
      " ...\n",
      " [9.75697519e-088 1.12282396e-088 1.71396085e-198 ... 4.91563431e-026\n",
      "  2.64435711e-029 1.48992044e-034]\n",
      " [4.52959880e-010 2.73668427e-192 1.43778829e-114 ... 3.87177689e-218\n",
      "  2.65435612e-154 4.47740463e-179]\n",
      " [1.40980800e-177 2.36909112e-097 9.07343279e-135 ... 7.43859138e-069\n",
      "  0.00000000e+000 6.47667902e-026]]\n",
      "Iteration 24/50 | Loss: [[2.20224906e-172 8.99890613e-077 2.28998007e-207 ... 2.29260748e-067\n",
      "  5.54859010e-128 8.02405283e-221]\n",
      " [0.00000000e+000 1.73027281e-156 2.55097375e-164 ... 8.87396469e-131\n",
      "  6.53134715e-207 1.35278125e-190]\n",
      " [2.76358669e-144 3.58699603e-111 1.18818658e-083 ... 1.73000591e-034\n",
      "  1.03374032e-128 2.13687389e-054]\n",
      " ...\n",
      " [1.08453929e-087 3.33051443e-089 1.67281834e-198 ... 3.91235126e-026\n",
      "  3.65160333e-029 3.68873434e-034]\n",
      " [1.47164541e-011 1.80475750e-192 2.76014318e-115 ... 2.78101720e-218\n",
      "  7.45757229e-155 2.25178988e-178]\n",
      " [2.76488704e-176 1.13084080e-097 1.81826084e-134 ... 2.10523774e-069\n",
      "  0.00000000e+000 2.50647327e-025]]\n",
      "Iteration 25/50 | Loss: [[1.42280891e-171 1.52803400e-076 1.76465470e-206 ... 8.80838063e-068\n",
      "  7.21690512e-128 1.95799409e-219]\n",
      " [0.00000000e+000 5.90675963e-158 2.82416287e-166 ... 5.63524740e-132\n",
      "  1.18031378e-208 3.09359080e-191]\n",
      " [1.28294707e-143 6.67603258e-111 1.47298586e-083 ... 4.33849172e-034\n",
      "  6.46408063e-128 4.09150830e-053]\n",
      " ...\n",
      " [1.26653108e-087 1.25755885e-089 1.84671900e-198 ... 4.06732161e-026\n",
      "  4.21299616e-029 1.01628938e-033]\n",
      " [6.10399899e-013 1.53748523e-192 6.84601594e-116 ... 2.98158335e-218\n",
      "  2.50434294e-155 1.27527228e-177]\n",
      " [5.83430234e-175 7.95673381e-098 4.44567674e-134 ... 1.01488893e-069\n",
      "  0.00000000e+000 1.23036545e-024]]\n",
      "Iteration 26/50 | Loss: [[1.17647917e-170 2.78413441e-076 1.34813356e-205 ... 3.25454967e-068\n",
      "  1.24614757e-127 4.59415533e-218]\n",
      " [0.00000000e+000 2.09562492e-159 3.17530045e-168 ... 3.46164411e-133\n",
      "  2.39017518e-210 5.91490952e-192]\n",
      " [7.37319464e-143 1.54205966e-110 2.13217149e-083 ... 1.23706155e-033\n",
      "  4.76713678e-127 7.71241154e-052]\n",
      " ...\n",
      " [2.26416365e-087 6.77171028e-090 2.57836559e-198 ... 4.70220548e-026\n",
      "  6.74943347e-029 3.37636039e-033]\n",
      " [3.36153707e-014 1.45733071e-192 1.89168614e-116 ... 3.46429770e-218\n",
      "  1.05264868e-155 6.68714954e-177]\n",
      " [1.43373716e-173 6.23254537e-098 1.00246646e-133 ... 4.91153987e-070\n",
      "  0.00000000e+000 5.32039529e-024]]\n",
      "Iteration 27/50 | Loss: [[8.30813112e-170 4.97224892e-076 9.10044375e-205 ... 1.40561967e-068\n",
      "  1.88680200e-127 9.52083200e-217]\n",
      " [0.00000000e+000 1.00007444e-160 4.62139911e-170 ... 3.34773431e-134\n",
      "  5.95325657e-212 1.36021877e-192]\n",
      " [3.53228307e-142 3.34330828e-110 2.76290220e-083 ... 3.41069580e-033\n",
      "  2.86912850e-126 1.17190213e-050]\n",
      " ...\n",
      " [3.20458314e-087 3.29897434e-090 2.92951996e-198 ... 4.74408823e-026\n",
      "  7.31906659e-029 8.49190138e-033]\n",
      " [2.02229605e-015 1.49660722e-192 5.56623840e-117 ... 4.73762538e-218\n",
      "  4.82847527e-156 3.44607034e-176]\n",
      " [4.73671090e-172 7.11788972e-098 2.68456877e-133 ... 3.69935384e-070\n",
      "  0.00000000e+000 2.59911748e-023]]\n",
      "Iteration 28/50 | Loss: [[4.76207629e-169 6.41780102e-076 5.12431325e-204 ... 4.65870915e-069\n",
      "  2.84379662e-127 1.61789162e-215]\n",
      " [0.00000000e+000 4.60488751e-162 7.83590297e-172 ... 3.07723476e-135\n",
      "  1.79868990e-213 3.26352496e-193]\n",
      " [1.76775887e-141 7.34673070e-110 4.03969317e-083 ... 9.48224247e-033\n",
      "  1.96934551e-125 1.81204662e-049]\n",
      " ...\n",
      " [5.11925085e-087 1.66841622e-090 3.80373954e-198 ... 4.41830200e-026\n",
      "  8.99684225e-029 2.25435204e-032]\n",
      " [1.69586866e-016 1.74607765e-192 2.12893469e-117 ... 7.63131048e-218\n",
      "  3.10151316e-156 2.02834283e-175]\n",
      " [1.46118075e-170 7.81984150e-098 7.37709743e-133 ... 2.61668500e-070\n",
      "  0.00000000e+000 1.21441426e-022]]\n",
      "Iteration 29/50 | Loss: [[2.91092241e-168 9.50103049e-076 3.05694983e-203 ... 2.13227652e-069\n",
      "  5.55030006e-127 2.99443826e-214]\n",
      " [0.00000000e+000 2.38117235e-163 1.48386818e-173 ... 3.60220484e-136\n",
      "  6.66036338e-215 8.44257074e-194]\n",
      " [8.48336129e-141 1.69450663e-109 6.35494314e-083 ... 3.04556524e-032\n",
      "  1.47271567e-124 2.78619841e-048]\n",
      " ...\n",
      " [8.29017870e-087 9.05724597e-091 5.00765718e-198 ... 4.45768536e-026\n",
      "  1.13758456e-028 5.84188678e-032]\n",
      " [1.30674738e-017 1.74951896e-192 7.07698373e-118 ... 1.19671597e-217\n",
      "  1.99263277e-156 9.79480251e-175]\n",
      " [4.25979684e-169 9.45986697e-098 1.99921672e-132 ... 2.21645716e-070\n",
      "  0.00000000e+000 5.56768238e-022]]\n",
      "Iteration 30/50 | Loss: [[ 1.61564805e-167  1.41015163e-075  1.76211504e-202 ...  9.64354580e-070\n",
      "   1.14499423e-126  5.22210639e-213]\n",
      " [ 0.00000000e+000  1.56374765e-164  3.49219351e-175 ...  5.07184720e-137\n",
      "   3.24152159e-216  2.54380589e-194]\n",
      " [ 4.03187643e-140  4.12942073e-109  1.07077277e-082 ...  1.02221069e-031\n",
      "   1.15911634e-123  4.16483915e-047]\n",
      " ...\n",
      " [ 1.34270633e-086  5.32159901e-091  7.00091232e-198 ...  4.22299547e-026\n",
      "   1.48320984e-028  1.46414970e-031]\n",
      " [ 8.60030291e-019  1.46129905e-192  2.02481174e-118 ...  1.54342111e-217\n",
      "   1.16941529e-156  3.69482586e-174]\n",
      " [ 1.17171603e-167  1.27770496e-097  5.54429464e-132 ...  1.99006652e-070\n",
      "  -3.70074342e-021  2.46111684e-021]]\n",
      "Iteration 31/50 | Loss: [[ 1.03617316e-166  2.34161507e-075  1.03549129e-201 ...  4.77820309e-070\n",
      "   2.69506971e-126  9.98856124e-212]\n",
      " [ 0.00000000e+000  1.07648864e-165  8.66724317e-177 ...  7.07141331e-138\n",
      "   1.69178062e-217  7.75820646e-195]\n",
      " [ 1.75697536e-139  9.69693308e-109  1.65776146e-082 ...  3.16325379e-031\n",
      "   8.51865888e-123  5.67416807e-046]\n",
      " ...\n",
      " [ 2.09196867e-086  3.11796898e-091  8.85477854e-198 ...  3.46319506e-026\n",
      "   1.79006917e-028  3.40754980e-031]\n",
      " [ 6.94879589e-020  1.36988630e-192  6.42893420e-119 ...  2.20668973e-217\n",
      "   8.00898107e-157  1.46976331e-173]\n",
      " [ 1.66131133e-166  2.63844139e-097  1.96585764e-131 ...  2.14970207e-070\n",
      "  -1.11022302e-020  1.17938352e-020]]\n",
      "Iteration 32/50 | Loss: [[ 6.88871412e-166  4.06218813e-075  4.95691905e-201 ...  2.03798798e-070\n",
      "   5.35704652e-126  1.66640247e-210]\n",
      " [ 0.00000000e+000  7.83236553e-167  2.05399568e-178 ...  8.68735102e-139\n",
      "   7.84107271e-219  2.08967921e-195]\n",
      " [ 8.13712014e-139  2.47495191e-108  2.56009876e-082 ...  9.28882599e-031\n",
      "   6.05212441e-122  7.37078203e-045]\n",
      " ...\n",
      " [ 3.94207338e-086  2.26938745e-091  1.17644876e-197 ...  2.66206165e-026\n",
      "   2.13572328e-028  7.95212581e-031]\n",
      " [ 6.82344600e-021  1.40478440e-192  2.07018540e-119 ...  3.07889605e-217\n",
      "   5.55579095e-157  5.53418227e-173]\n",
      " [ 2.36027961e-165  6.79350984e-097  7.39552315e-131 ...  2.49749420e-070\n",
      "  -5.92118946e-020  5.83719645e-020]]\n",
      "Iteration 33/50 | Loss: [[ 4.21547709e-165  7.79577541e-075  2.67177987e-200 ...  1.06386937e-070\n",
      "   1.11539734e-125  2.41787456e-209]\n",
      " [ 0.00000000e+000  7.77689189e-168  7.14751408e-180 ...  1.57227132e-139\n",
      "   4.65491960e-220  6.24560629e-196]\n",
      " [ 3.65550046e-138  6.80867227e-108  4.43341877e-082 ...  3.01675330e-030\n",
      "   4.29187222e-121  8.92839493e-044]\n",
      " ...\n",
      " [ 7.56091775e-086  2.00798016e-091  1.92152324e-197 ...  2.49516651e-026\n",
      "   2.83301949e-028  1.82957015e-030]\n",
      " [ 7.32849357e-022  1.63639276e-192  8.12014473e-120 ...  5.12115573e-217\n",
      "   4.41985634e-157  2.06549409e-172]\n",
      " [ 3.10900573e-164  1.92796717e-096  2.98812282e-130 ...  3.48567597e-070\n",
      "  -2.66453526e-019  2.66970749e-019]]\n",
      "Iteration 34/50 | Loss: [[ 2.08497407e-164  1.35309554e-074  1.39479387e-199 ...  5.12118126e-071\n",
      "   2.05607384e-125  3.16250767e-208]\n",
      " [ 0.00000000e+000  9.73172358e-169  3.50602455e-181 ...  3.57282988e-140\n",
      "   3.34122268e-221  2.30577414e-196]\n",
      " [ 1.61323732e-137  2.03464300e-107  8.58384643e-082 ...  1.07741713e-029\n",
      "   3.13126444e-120  1.12126876e-042]\n",
      " ...\n",
      " [ 1.52052800e-085  2.08743889e-091  3.85524194e-197 ...  2.83974917e-026\n",
      "   4.30334186e-028  5.00787847e-030]\n",
      " [ 9.41222315e-023  2.30815840e-192  4.16119104e-120 ...  1.04606642e-216\n",
      "   4.29697704e-157  8.98206017e-172]\n",
      " [ 3.94049491e-163  5.75608662e-096  1.29909648e-129 ...  5.20264646e-070\n",
      "  -1.27675648e-018  1.27670858e-018]]\n",
      "Iteration 35/50 | Loss: [[ 3.47308791e-164  2.03278446e-074  3.53199389e-199 ...  2.21374569e-071\n",
      "   2.04784701e-125  1.77887799e-207]\n",
      " [ 0.00000000e+000  1.60541829e-169  2.45757732e-182 ...  1.14007637e-140\n",
      "   3.41874282e-222  1.14484388e-196]\n",
      " [ 5.93672822e-137  5.72944179e-107  1.59803677e-081 ...  3.75675892e-029\n",
      "   2.17714842e-119  1.27168097e-041]\n",
      " ...\n",
      " [ 2.37888308e-085  1.93491341e-091  7.20692312e-197 ...  3.04719433e-026\n",
      "   6.12320313e-028  1.22578120e-029]\n",
      " [ 1.06243698e-023  3.05166606e-192  2.11553079e-120 ...  2.10192521e-216\n",
      "   4.27453940e-157  3.64855735e-171]\n",
      " [ 4.53414101e-162  1.72273794e-095  5.56099618e-129 ...  8.13864040e-070\n",
      "  -5.91008723e-018  5.91147583e-018]]\n",
      "Iteration 36/50 | Loss: [[ 4.15192920e-164  2.62061493e-074  6.62334413e-199 ...  8.80285537e-072\n",
      "   1.66662990e-125  6.40239305e-207]\n",
      " [ 0.00000000e+000  2.65856240e-170  1.95087602e-183 ...  3.78595022e-141\n",
      "   3.93493352e-223  5.47236709e-197]\n",
      " [ 2.19160435e-136  1.57889579e-106  3.04793238e-081 ...  1.27564859e-028\n",
      "   1.52133150e-118  1.32492342e-040]\n",
      " ...\n",
      " [ 3.91416805e-085  1.78287708e-091  1.40310940e-196 ...  3.23307754e-026\n",
      "   9.33508642e-028  2.78616174e-029]\n",
      " [ 1.23404005e-024  3.81760493e-192  1.10384453e-120 ...  4.15957101e-216\n",
      "   4.43447401e-157  1.35266357e-170]\n",
      " [ 5.01530006e-161  4.82385449e-095  2.28369104e-128 ...  1.23196642e-069\n",
      "  -2.43804976e-017  2.43803959e-017]]\n",
      "Iteration 37/50 | Loss: [[ 5.14655980e-164  3.09486893e-074  1.25611763e-198 ...  3.65904281e-072\n",
      "   1.33711384e-125  1.76904579e-206]\n",
      " [ 0.00000000e+000  4.74986034e-171  1.82187753e-184 ...  1.39418789e-141\n",
      "   5.05881606e-224  2.38853311e-197]\n",
      " [ 7.65201525e-136  4.19778379e-106  5.84780431e-081 ...  4.08690881e-028\n",
      "   9.98987110e-118  1.15573409e-039]\n",
      " ...\n",
      " [ 6.05746419e-085  1.63854814e-091  2.72569397e-196 ...  3.31941570e-026\n",
      "   1.38173241e-027  5.26209975e-029]\n",
      " [ 1.78917492e-025  5.47248597e-192  7.10360489e-121 ...  9.86480137e-216\n",
      "   5.41644583e-157  5.07742130e-170]\n",
      " [ 5.18634407e-160  1.32616358e-094  9.27549889e-128 ...  1.87576458e-069\n",
      "  -8.68749517e-017  8.68738584e-017]]\n",
      "Iteration 38/50 | Loss: [[ 7.06152177e-164  3.79057728e-074  2.43051926e-198 ...  1.64741309e-072\n",
      "   1.09804943e-125  4.97300156e-206]\n",
      " [ 0.00000000e+000  9.45247801e-172  1.82280742e-185 ...  5.51081935e-142\n",
      "   7.12279858e-225  1.10958065e-197]\n",
      " [ 2.49575820e-135  1.10407454e-105  1.09452712e-080 ...  1.24416025e-027\n",
      "   6.22101134e-117  9.32112370e-039]\n",
      " ...\n",
      " [ 9.23302642e-085  1.61499695e-091  5.37842477e-196 ...  3.32582521e-026\n",
      "   2.02288076e-027  1.01393639e-028]\n",
      " [ 2.90467741e-026  8.23440697e-192  4.82708421e-121 ...  2.42434238e-215\n",
      "   6.94339556e-157  1.90764703e-169]\n",
      " [ 5.18908576e-159  3.78625848e-094  3.68054270e-127 ...  2.89741693e-069\n",
      "  -3.07387449e-016  3.07386856e-016]]\n",
      "Iteration 39/50 | Loss: [[ 9.08627212e-164  4.52150420e-074  4.60585287e-198 ...  6.91236866e-073\n",
      "   9.72548611e-126  1.49928611e-205]\n",
      " [ 0.00000000e+000  1.98540513e-172  1.95617359e-186 ...  2.19262286e-142\n",
      "   1.20970527e-225  5.77942415e-198]\n",
      " [ 7.96644551e-135  2.96137421e-105  2.11036477e-080 ...  3.68221231e-027\n",
      "   4.00302753e-116  7.51363198e-038]\n",
      " ...\n",
      " [ 1.43418208e-084  1.72406929e-091  1.14374219e-195 ...  3.27583059e-026\n",
      "   3.24390433e-027  2.16951800e-028]\n",
      " [ 4.81006967e-027  1.19871401e-191  3.27870447e-121 ...  5.68300835e-215\n",
      "   9.30198785e-157  7.07476491e-169]\n",
      " [ 4.81106824e-158  1.03380080e-093  1.35844133e-126 ...  4.11713837e-069\n",
      "  -1.05193632e-015  1.05193765e-015]]\n",
      "Iteration 40/50 | Loss: [[ 1.23659028e-163  5.42787309e-074  8.60287479e-198 ...  2.95158873e-073\n",
      "   9.45752136e-126  4.44398065e-205]\n",
      " [ 0.00000000e+000  4.23719896e-173  2.15962036e-187 ...  8.76126129e-143\n",
      "   2.35194856e-226  2.94729156e-198]\n",
      " [ 2.72173243e-134  8.55196564e-105  4.33600574e-080 ...  1.14327545e-026\n",
      "   2.75887737e-115  6.01042361e-037]\n",
      " ...\n",
      " [ 2.55752460e-084  2.12281170e-091  2.71894379e-195 ...  3.53104577e-026\n",
      "   6.16294274e-027  5.00979050e-028]\n",
      " [ 9.46686341e-028  1.86173505e-191  2.44122139e-121 ...  1.44076691e-214\n",
      "   1.42092481e-156  2.70359675e-168]\n",
      " [ 3.99218370e-157  2.63272562e-093  4.48686907e-126 ...  5.49936400e-069\n",
      "  -3.20725668e-015  3.20725487e-015]]\n",
      "Iteration 41/50 | Loss: [[ 1.78693585e-163  6.46613220e-074  1.61199788e-197 ...  1.29923650e-073\n",
      "   9.34905172e-126  1.27787876e-204]\n",
      " [ 0.00000000e+000  8.93068281e-174  2.48899744e-188 ...  3.39660680e-143\n",
      "   4.75709199e-227  1.43915347e-198]\n",
      " [ 9.79175896e-134  2.53199587e-104  9.16153256e-080 ...  3.61370887e-026\n",
      "   1.90819653e-114  4.61650517e-036]\n",
      " ...\n",
      " [ 5.05848077e-084  2.78867808e-091  6.79158459e-195 ...  3.89744238e-026\n",
      "   1.21464059e-026  1.14894042e-027]\n",
      " [ 2.17064569e-028  3.02691602e-191  1.98418951e-121 ...  3.89287583e-214\n",
      "   2.34012480e-156  1.03934803e-167]\n",
      " [ 3.16372748e-156  6.50604765e-093  1.42791290e-125 ...  7.23700434e-069\n",
      "  -9.23065328e-015  9.23065448e-015]]\n",
      "Iteration 42/50 | Loss: [[ 2.96006504e-163  8.41365124e-074  3.19545616e-197 ...  6.91965729e-074\n",
      "   1.07971848e-125  4.04993523e-204]\n",
      " [ 0.00000000e+000  1.88682930e-174  2.91579141e-189 ...  1.39552795e-143\n",
      "   1.07081770e-227  6.98619709e-199]\n",
      " [ 3.41606883e-133  7.16616121e-104  1.80814699e-079 ...  1.11109833e-025\n",
      "   1.25192192e-113  3.19400895e-035]\n",
      " ...\n",
      " [ 9.45102323e-084  3.41596963e-091  1.53472693e-194 ...  4.10151354e-026\n",
      "   2.26230453e-026  2.36534441e-027]\n",
      " [ 5.28013110e-029  4.81977902e-191  1.58215056e-121 ...  1.09107337e-213\n",
      "   3.97896720e-156  3.83461025e-167]\n",
      " [ 2.39172364e-155  1.52197438e-092  4.09998395e-125 ...  9.52678044e-069\n",
      "  -2.48406999e-014  2.48406986e-014]]\n",
      "Iteration 43/50 | Loss: [[ 5.97953649e-163  1.17735752e-073  6.73683612e-197 ...  4.24842783e-074\n",
      "   1.30777476e-125  1.34845389e-203]\n",
      " [ 0.00000000e+000  3.86014527e-175  3.37177289e-190 ...  5.67312105e-144\n",
      "   2.30415860e-228  3.07057512e-199]\n",
      " [ 1.27215668e-132  2.04864906e-103  3.61814367e-079 ...  3.48040587e-025\n",
      "   8.06309472e-113  2.10531455e-034]\n",
      " ...\n",
      " [ 1.94419641e-083  4.29122566e-091  3.49742712e-194 ...  4.45673021e-026\n",
      "   4.09159975e-026  4.70161333e-027]\n",
      " [ 1.44176330e-029  7.69298106e-191  1.27746402e-121 ...  3.13005406e-213\n",
      "   6.73235139e-156  1.33673179e-166]\n",
      " [ 1.87917866e-154  3.67727940e-092  1.18814234e-124 ...  1.36453794e-068\n",
      "  -6.58951671e-014  6.58951663e-014]]\n",
      "Iteration 44/50 | Loss: [[ 1.10646295e-162  1.58968419e-073  1.44949883e-196 ...  2.55954067e-074\n",
      "   1.57797368e-125  4.47609561e-203]\n",
      " [ 0.00000000e+000  9.19232002e-176  4.87131537e-191 ...  2.62681292e-144\n",
      "   5.99137956e-229  1.55827286e-199]\n",
      " [ 4.54690200e-132  5.75678891e-103  7.39808608e-079 ...  1.06741213e-024\n",
      "   5.01742088e-112  1.32847935e-033]\n",
      " ...\n",
      " [ 3.61529186e-083  5.25192149e-091  8.11278114e-194 ...  4.60693927e-026\n",
      "   7.17074651e-026  9.12037144e-027]\n",
      " [ 3.71002869e-030  1.16920673e-190  1.03162326e-121 ...  8.53924909e-213\n",
      "   1.12707412e-155  4.39858901e-166]\n",
      " [ 1.40571796e-153  9.10962026e-092  3.63440715e-124 ...  2.03269780e-068\n",
      "  -1.75827055e-013  1.75827054e-013]]\n",
      "Iteration 45/50 | Loss: [[ 1.71546877e-162  2.02384255e-073  3.02345557e-196 ...  1.46288639e-074\n",
      "   2.01314940e-125  1.46757466e-202]\n",
      " [ 0.00000000e+000  2.65843158e-176  8.78981530e-192 ...  1.45045290e-144\n",
      "   2.05054418e-229  9.46612273e-200]\n",
      " [ 1.44485052e-131  1.56342550e-102  1.47640748e-078 ...  3.11821009e-024\n",
      "   3.02953808e-111  7.91824298e-033]\n",
      " ...\n",
      " [ 5.83713024e-083  6.17595766e-091  1.83293572e-193 ...  4.43847770e-026\n",
      "   1.24509386e-025  1.68837198e-026]\n",
      " [ 9.00372000e-031  1.77782483e-190  8.43856601e-122 ...  2.33707812e-212\n",
      "   1.99371981e-155  1.43589992e-165]\n",
      " [ 9.29070339e-153  2.16368293e-091  1.09257480e-123 ...  2.90857743e-068\n",
      "  -4.47322375e-013  4.47322374e-013]]\n",
      "Iteration 46/50 | Loss: [[ 2.71214610e-162  2.39675973e-073  6.10132105e-196 ...  8.36488336e-075\n",
      "   2.63305173e-125  4.31101417e-202]\n",
      " [ 0.00000000e+000  7.46241378e-177  1.59262799e-192 ...  8.38618827e-145\n",
      "   7.42114805e-230  5.38203698e-200]\n",
      " [ 4.73051065e-131  4.29365187e-102  3.02341551e-078 ...  9.31174534e-024\n",
      "   1.85374693e-110  4.51001495e-032]\n",
      " ...\n",
      " [ 1.04271448e-082  7.60086223e-091  4.40010768e-193 ...  4.57893042e-026\n",
      "   2.32201392e-025  3.12664489e-026]\n",
      " [ 2.40871496e-031  2.77644301e-190  7.21128693e-122 ...  6.84056909e-212\n",
      "   3.80241486e-155  4.57844534e-165]\n",
      " [ 6.10650908e-152  4.96113917e-091  3.25728144e-123 ...  4.27567193e-068\n",
      "  -1.06604869e-012  1.06604869e-012]]\n",
      "Iteration 47/50 | Loss: [[ 4.51591927e-162  2.81745880e-073  1.18482065e-195 ...  4.85593363e-075\n",
      "   3.26188202e-125  1.18394490e-201]\n",
      " [ 0.00000000e+000  2.03455536e-177  2.78165445e-193 ...  4.86388169e-145\n",
      "   2.53395348e-230  2.78625777e-200]\n",
      " [ 1.51609851e-130  1.16194561e-101  6.02963390e-078 ...  2.68918522e-023\n",
      "   1.06607304e-109  2.35597511e-031]\n",
      " ...\n",
      " [ 1.82696107e-082  9.14923316e-091  9.85229361e-193 ...  4.49895082e-026\n",
      "   3.84981168e-025  5.22131937e-026]\n",
      " [ 7.01396587e-032  4.40883563e-190  6.16770043e-122 ...  2.06229971e-211\n",
      "   7.25009450e-155  1.41256080e-164]\n",
      " [ 4.23423830e-151  1.18951448e-090  9.86611359e-123 ...  6.74784810e-068\n",
      "  -2.52540555e-012  2.52540555e-012]]\n",
      "Iteration 48/50 | Loss: [[ 6.80814157e-162  3.12927590e-073  2.14704213e-195 ...  2.79700436e-075\n",
      "   3.86759250e-125  3.21474218e-201]\n",
      " [ 0.00000000e+000  5.88084011e-178  5.15887542e-194 ...  3.10393514e-145\n",
      "   9.51137121e-231  1.54358716e-200]\n",
      " [ 4.69805513e-130  3.19420364e-101  1.21939710e-077 ...  7.90172019e-023\n",
      "   6.12059239e-109  1.22976800e-030]\n",
      " ...\n",
      " [ 3.17215478e-082  1.15336826e-090  2.25473787e-192 ...  4.60670546e-026\n",
      "   6.38340688e-025  9.04643565e-026]\n",
      " [ 2.05457387e-032  7.01433963e-190  5.27338622e-122 ...  6.36776905e-211\n",
      "   1.41514111e-154  4.35633437e-164]\n",
      " [ 2.85406711e-150  2.90092013e-090  2.97165453e-122 ...  1.11255588e-067\n",
      "  -6.03778694e-012  6.03778694e-012]]\n",
      "Iteration 49/50 | Loss: [[ 1.03003886e-161  3.56723263e-073  4.22653105e-195 ...  1.71164934e-075\n",
      "   4.80782872e-125  8.98772252e-201]\n",
      " [ 0.00000000e+000  1.78237228e-178  1.05722660e-194 ...  2.16663446e-145\n",
      "   3.88602394e-231  8.89010497e-201]\n",
      " [ 1.47853089e-129  9.07477264e-101  2.63287286e-077 ...  2.43447317e-022\n",
      "   3.59121678e-108  6.45465797e-030]\n",
      " ...\n",
      " [ 4.13296843e-082  1.36150797e-090  4.24577277e-192 ...  4.60772904e-026\n",
      "   8.85475732e-025  1.33244589e-025]\n",
      " [ 6.12255322e-033  1.11881608e-189  4.72581742e-122 ...  2.00648781e-210\n",
      "   2.83383729e-154  1.31985179e-163]\n",
      " [ 1.81239118e-149  7.00099754e-090  8.83510204e-122 ...  1.87632740e-067\n",
      "  -1.39304222e-011  1.39304222e-011]]\n",
      "Iteration 50/50 | Loss: [[ 1.54242121e-161  4.27653771e-073  8.97264404e-195 ...  1.10624996e-075\n",
      "   6.53427374e-125  2.74605417e-200]\n",
      " [ 0.00000000e+000  5.93421705e-179  2.45576780e-195 ...  1.72472281e-145\n",
      "   1.85643657e-231  5.87216400e-201]\n",
      " [ 4.41781446e-129  2.54286166e-100  5.68576018e-077 ...  7.35176362e-022\n",
      "   2.04987246e-107  3.25566707e-029]\n",
      " ...\n",
      " [ 2.58156360e-082  1.26219207e-090  4.55722445e-192 ...  3.64114143e-026\n",
      "   7.44434470e-025  1.21354927e-025]\n",
      " [ 1.80818166e-033  1.78940816e-189  4.36056104e-122 ...  6.42365864e-210\n",
      "   5.92363156e-154  4.06516502e-163]\n",
      " [ 1.06988725e-148  1.67053524e-089  2.56006151e-121 ...  3.21263799e-067\n",
      "  -3.22289735e-011  3.22289735e-011]]\n"
     ]
    }
   ],
   "source": [
    "# Train the neural network\n",
    "train(nn, x_train, y_train, iterations=50, learning_rate=0.1)"
   ]
  },
  {
   "cell_type": "code",
   "execution_count": null,
   "metadata": {},
   "outputs": [
    {
     "name": "stdout",
     "output_type": "stream",
     "text": [
      "Accuracy after training:  0.6831\n"
     ]
    }
   ],
   "source": [
    "print(\"Accuracy after training: \", predict_and_correct(nn, x_test, y_test))"
   ]
  },
  {
   "cell_type": "markdown",
   "metadata": {},
   "source": [
    "How did the network perform after training? Was it in line with your expectations? Why/why not?"
   ]
  },
  {
   "cell_type": "markdown",
   "metadata": {},
   "source": [
    "**Your answer:** (fill in here)"
   ]
  },
  {
   "cell_type": "markdown",
   "metadata": {},
   "source": [
    "Below is some code to visualize your networks prediction for a chosen sample in the test set."
   ]
  },
  {
   "cell_type": "code",
   "execution_count": null,
   "metadata": {},
   "outputs": [],
   "source": [
    "# Create a function that visualizes the data, prediction and true label for some sample index in the test set\n",
    "def visualize_prediction(model, x_test, y_test, sample_idx):\n",
    "    \"\"\"Implement a function that visualizes the data, prediction and true label for a sample in the test set.\n",
    "\n",
    "    Arguments:\n",
    "    model - the neural network to use for prediction. Has type `NeuralNetwork`\n",
    "    x_test - the input to the neural network, shape (BATCH_SIZE, INPUT_FEATURES) and type 'numpy.ndarray'\n",
    "    y_test - the true value of the output, shape (BATCH_SIZE, OUTPUT_FEATURES) and type 'numpy.ndarray'\n",
    "    sample_idx - the index of the sample to visualize. Has type 'int'\n",
    "\n",
    "    Returns:\n",
    "    None\n",
    "    \"\"\"\n",
    "    assert (sample_idx >= 0) & (\n",
    "        sample_idx < x_test.shape[0]\n",
    "    ), \"Sample index out of bounds\"\n",
    "\n",
    "    y_pred = model.forward_prop(x_test[sample_idx : sample_idx + 1])\n",
    "    plt.imshow(x_test[sample_idx].reshape(28, 28), cmap=\"gray\")\n",
    "    plt.title(\n",
    "        f\"Prediction: {np.argmax(y_pred)} | True label: {np.argmax(y_test[sample_idx])}\"\n",
    "    )\n",
    "    plt.axis(\"off\")\n",
    "    plt.show()"
   ]
  },
  {
   "cell_type": "code",
   "execution_count": null,
   "metadata": {},
   "outputs": [
    {
     "data": {
      "image/png": "[encoded data removed]",
      "text/plain": [
       "<Figure size 640x480 with 1 Axes>"
      ]
     },
     "metadata": {},
     "output_type": "display_data"
    }
   ],
   "source": [
    "visualize_prediction(nn, x_test, y_test, 42)"
   ]
  },
  {
   "cell_type": "markdown",
   "metadata": {},
   "source": [
    "## Congratulations!\n",
    "You have successfully implemented a neural network from scratch using only NumPy!  "
   ]
  }
 ],
 "metadata": {
  "kernelspec": {
   "display_name": "Python 3 (ipykernel)",
   "language": "python",
   "name": "python3"
  },
  "language_info": {
   "codemirror_mode": {
    "name": "ipython",
    "version": 3
   },
   "file_extension": ".py",
   "mimetype": "text/x-python",
   "name": "python",
   "nbconvert_exporter": "python",
   "pygments_lexer": "ipython3",
   "version": "3.12.4"
  }
 },
 "nbformat": 4,
 "nbformat_minor": 4
}
