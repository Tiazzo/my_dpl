{
 "cells": [
  {
   "cell_type": "markdown",
   "metadata": {
    "deletable": false,
    "editable": false,
    "nbgrader": {
     "cell_type": "markdown",
     "checksum": "ad8b0feffaddac686389c323e8f7b862",
     "grade": false,
     "grade_id": "cell-5690119ead85e67e",
     "locked": true,
     "schema_version": 3,
     "solution": false,
     "task": false
    }
   },
   "source": [
    "### Checklist for submission\n",
    "\n",
    "It is extremely important to make sure that:\n",
    "\n",
    "1. Everything runs as expected (no bugs when running cells);\n",
    "2. The output from each cell corresponds to its code (don't change any cell's contents without rerunning it afterwards);\n",
    "3. All outputs are present (don't delete any of the outputs);\n",
    "4. Fill in all the places that say `# YOUR CODE HERE`, or \"**Your answer:** (fill in here)\".\n",
    "5. Never copy/paste any notebook cells. Inserting new cells is allowed, but it should not be necessary.\n",
    "6. The notebook contains some hidden metadata which is important during our grading process. **Make sure not to corrupt any of this metadata!** The metadata may for example be corrupted if you copy/paste any notebook cells, or if you perform an unsuccessful git merge / git pull. It may also be pruned completely if using Google Colab, so watch out for this. Searching for \"nbgrader\" when opening the notebook in a text editor should take you to the important metadata entries.\n",
    "7. Although we will try our very best to avoid this, it may happen that bugs are found after an assignment is released, and that we will push an updated version of the assignment to GitHub. If this happens, it is important that you update to the new version, while making sure the notebook metadata is properly updated as well. The safest way to make sure nothing gets messed up is to start from scratch on a clean updated version of the notebook, copy/pasting your code from the cells of the previous version into the cells of the new version.\n",
    "8. If you need to have multiple parallel versions of this notebook, make sure not to move them to another directory.\n",
    "9. Although not forced to work exclusively in the course `conda` environment, you need to make sure that the notebook will run in that environment, i.e. that you have not added any additional dependencies.\n",
    "\n",
    "**FOR HA1, HA2 ONLY:** Failing to meet any of these requirements might lead to either a subtraction of points (at best) or a request for resubmission (at worst).\n",
    "\n",
    "We advise you to perform the following steps before submission to ensure that requirements 1, 2, and 3 are always met: **Restart the kernel** (in the menubar, select Kernel$\\rightarrow$Restart) and then **run all cells** (in the menubar, select Cell$\\rightarrow$Run All). This might require a bit of time, so plan ahead for this (and possibly use a cloud GPU in HA1 and HA2 for this step). Finally press the \"Save and Checkout\" button before handing in, to make sure that all your changes are saved to this .ipynb file."
   ]
  },
  {
   "cell_type": "markdown",
   "metadata": {
    "deletable": false,
    "editable": false,
    "nbgrader": {
     "cell_type": "markdown",
     "checksum": "a6bb874a16c1ff767ac0f37ce0491265",
     "grade": false,
     "grade_id": "cell-774c93bf6433de68",
     "locked": true,
     "schema_version": 3,
     "solution": false,
     "task": false
    }
   },
   "source": [
    "### Fill in name of notebook file\n",
    "This might seem silly, but the version check below needs to know the filename of the current notebook, which is not trivial to find out programmatically.\n",
    "\n",
    "You might want to have several parallel versions of the notebook, and it is fine to rename the notebook as long as it stays in the same directory. **However**, if you do rename it, you also need to update its own filename below:"
   ]
  },
  {
   "cell_type": "code",
   "execution_count": 12,
   "metadata": {},
   "outputs": [],
   "source": [
    "nb_fname = \"IHA2.ipynb\""
   ]
  },
  {
   "cell_type": "markdown",
   "metadata": {
    "deletable": false,
    "editable": false,
    "nbgrader": {
     "cell_type": "markdown",
     "checksum": "270e43e75da54d7fb8afbda64083f4e3",
     "grade": false,
     "grade_id": "cell-5676bcf768a7f9be",
     "locked": true,
     "schema_version": 3,
     "solution": false,
     "task": false
    }
   },
   "source": [
    "### Fill in group number and member names (use NAME2 and GROUP only for HA1 and HA2):"
   ]
  },
  {
   "cell_type": "code",
   "execution_count": 13,
   "metadata": {},
   "outputs": [],
   "source": [
    "NAME1 = \"Mattia Carlino\"\n",
    "NAME2 = \"\"\n",
    "GROUP = \"\""
   ]
  },
  {
   "cell_type": "markdown",
   "metadata": {
    "deletable": false,
    "editable": false,
    "nbgrader": {
     "cell_type": "markdown",
     "checksum": "42f960a95815e1aa3ce8132fcec59cd9",
     "grade": false,
     "grade_id": "cell-a15fe781533d9590",
     "locked": true,
     "schema_version": 3,
     "solution": false,
     "task": false
    }
   },
   "source": [
    "### Check Python version"
   ]
  },
  {
   "cell_type": "code",
   "execution_count": 14,
   "metadata": {
    "deletable": false,
    "editable": false,
    "nbgrader": {
     "cell_type": "code",
     "checksum": "72b2403e87a33f87371b150984248355",
     "grade": false,
     "grade_id": "cell-2b9c2390ee464c39",
     "locked": true,
     "schema_version": 3,
     "solution": false,
     "task": false
    }
   },
   "outputs": [],
   "source": [
    "from platform import python_version_tuple\n",
    "\n",
    "assert (\n",
    "    python_version_tuple()[:2] == (\"3\", \"11\")\n",
    "), \"You are not running Python 3.11. Make sure to run Python through the course Conda environment.\""
   ]
  },
  {
   "cell_type": "markdown",
   "metadata": {
    "deletable": false,
    "editable": false,
    "nbgrader": {
     "cell_type": "markdown",
     "checksum": "15ec4309f1e85f6e17bda73b9b6f48a2",
     "grade": false,
     "grade_id": "cell-4869b45600ce82f8",
     "locked": true,
     "schema_version": 3,
     "solution": false,
     "task": false
    }
   },
   "source": [
    "### Check that notebook server has access to all required resources, and that notebook has not moved"
   ]
  },
  {
   "cell_type": "code",
   "execution_count": 15,
   "metadata": {
    "deletable": false,
    "editable": false,
    "nbgrader": {
     "cell_type": "code",
     "checksum": "c741699084b67aa21d06ff931465b378",
     "grade": false,
     "grade_id": "cell-122ac3d9100b8afb",
     "locked": true,
     "schema_version": 3,
     "solution": false,
     "task": false
    }
   },
   "outputs": [],
   "source": [
    "import os\n",
    "\n",
    "nb_dirname = os.path.abspath(\"\")\n",
    "assignment_name = os.path.basename(nb_dirname)\n",
    "assert assignment_name in [\n",
    "    \"IHA1\",\n",
    "    \"IHA2\",\n",
    "    \"HA1\",\n",
    "    \"HA2\",\n",
    "], \"[ERROR] The notebook appears to have been moved from its original directory\""
   ]
  },
  {
   "cell_type": "markdown",
   "metadata": {
    "deletable": false,
    "editable": false,
    "nbgrader": {
     "cell_type": "markdown",
     "checksum": "f09f40b5350db83232189137c550f0a1",
     "grade": false,
     "grade_id": "cell-2455deee513cd39c",
     "locked": true,
     "schema_version": 3,
     "solution": false,
     "task": false
    }
   },
   "source": [
    "### Verify correct nb_fname"
   ]
  },
  {
   "cell_type": "code",
   "execution_count": 16,
   "metadata": {
    "deletable": false,
    "editable": false,
    "nbgrader": {
     "cell_type": "code",
     "checksum": "1709bd6d2b55a83969e44d70763b1167",
     "grade": false,
     "grade_id": "cell-0472e2fd710f1d72",
     "locked": true,
     "schema_version": 3,
     "solution": false,
     "task": false
    }
   },
   "outputs": [
    {
     "data": {
      "text/html": [
       "<script>if(\"IHA2.ipynb\" != IPython.notebook.notebook_name) { alert(\"You have filled in nb_fname = \\\"IHA2.ipynb\\\", but this does not seem to match the notebook filename \\\"\" + IPython.notebook.notebook_name + \"\\\".\"); }</script>"
      ],
      "text/plain": [
       "<IPython.core.display.HTML object>"
      ]
     },
     "metadata": {},
     "output_type": "display_data"
    }
   ],
   "source": [
    "from IPython.display import HTML, display\n",
    "\n",
    "try:\n",
    "    display(\n",
    "        HTML(\n",
    "            r'<script>if(\"{nb_fname}\" != IPython.notebook.notebook_name) {{ alert(\"You have filled in nb_fname = \\\"{nb_fname}\\\", but this does not seem to match the notebook filename \\\"\" + IPython.notebook.notebook_name + \"\\\".\"); }}</script>'.format(\n",
    "                nb_fname=nb_fname\n",
    "            )\n",
    "        )\n",
    "    )\n",
    "except NameError:\n",
    "    assert False, \"Make sure to fill in the nb_fname variable above!\""
   ]
  },
  {
   "cell_type": "markdown",
   "metadata": {
    "deletable": false,
    "editable": false,
    "nbgrader": {
     "cell_type": "markdown",
     "checksum": "98d88d8e8da19693053764f29dcc591d",
     "grade": false,
     "grade_id": "cell-ceacb1adcae4783d",
     "locked": true,
     "schema_version": 3,
     "solution": false,
     "task": false
    }
   },
   "source": [
    "### Verify that your notebook is up-to-date and not corrupted in any way"
   ]
  },
  {
   "cell_type": "code",
   "execution_count": 17,
   "metadata": {
    "deletable": false,
    "editable": false,
    "nbgrader": {
     "cell_type": "code",
     "checksum": "6f405c9cd7b9720915f79dba54c89375",
     "grade": false,
     "grade_id": "cell-f5a59288e11b4aec",
     "locked": true,
     "schema_version": 3,
     "solution": false,
     "task": false
    }
   },
   "outputs": [
    {
     "name": "stdout",
     "output_type": "stream",
     "text": [
      "Matching current notebook against the following URL:\n",
      "http://raw.githubusercontent.com/dml-cth/deep-machine-learning/master/home-assignments/IHA2/IHA2.ipynb\n",
      "[SUCCESS] No major notebook mismatch found when comparing to latest GitHub version. (There might be minor updates, but even that is the case, submitting your work based on this notebook version would be acceptable.)\n"
     ]
    }
   ],
   "source": [
    "import sys\n",
    "\n",
    "sys.path.append(\"..\")\n",
    "from ha_utils import check_notebook_uptodate_and_not_corrupted\n",
    "\n",
    "check_notebook_uptodate_and_not_corrupted(nb_dirname, nb_fname)"
   ]
  },
  {
   "cell_type": "markdown",
   "metadata": {
    "deletable": false,
    "editable": false,
    "nbgrader": {
     "cell_type": "markdown",
     "checksum": "587eb0d471650fb68cb3c1f5021df2d4",
     "grade": false,
     "grade_id": "cell-1420bd2a80dfa7d5",
     "locked": true,
     "schema_version": 3,
     "solution": false
    }
   },
   "source": [
    "# IHA2 - Catching Pokemon"
   ]
  },
  {
   "cell_type": "markdown",
   "metadata": {
    "deletable": false,
    "editable": false,
    "nbgrader": {
     "cell_type": "markdown",
     "checksum": "57c5f7037fd0f1ca2377e5f021815405",
     "grade": false,
     "grade_id": "cell-c0cb4dde48293818",
     "locked": true,
     "schema_version": 3,
     "solution": false
    }
   },
   "source": [
    "![](https://upload.wikimedia.org/wikipedia/en/4/46/Pokemon_Go.png)"
   ]
  },
  {
   "cell_type": "markdown",
   "metadata": {
    "deletable": false,
    "editable": false,
    "nbgrader": {
     "cell_type": "markdown",
     "checksum": "9acef9de3d4fc4337e7dadd4fd579462",
     "grade": false,
     "grade_id": "cell-b16d667dd74a9079",
     "locked": true,
     "schema_version": 3,
     "solution": false
    }
   },
   "source": [
    "In this home assignment, you'll apply roughly the same principles we used when doing logistic regression on the Iris dataset in Computer Lab 1, but on a different and very interesting dataset. We'll use the [Predict'em All dataset from Kaggle](https://www.kaggle.com/semioniy/predictemall). To download the dataset you will need a Kaggle account. This dataset consists of roughly 293,000 [pokemon](http://www.pokemongo.com/) sightings (historical appearances of Pokemon in the Pokemon Go game), with geographical coordinates, time, weather, population density, distance to pokestops/gyms etc. as features. A comprehensive list of all the features is available at [the dataset's homepage](https://www.kaggle.com/semioniy/predictemall).\n",
    "\n",
    "The context is simple: you are a Pokemon hunter, and there are only three Pokemon left for you to complete your collection. You'll do anything to capture them, including changing where you'll spend your next holidays! You know that some Pokemon only spawn in certain places of the world. Since you like machine learning so much, you figure it would be a great idea to train a classifier that, based on a location's longitude and latitude, can tell us which Pokemon is more likely to appear there.\n",
    "\n",
    "The assignment is broken down into six steps.\n",
    "\n",
    "1. Loading the data and extracting the desired subset of it\n",
    "2. Visualization of the dataset\n",
    "3. Preprocessing\n",
    "4. Training\n",
    "5. Evaluation\n",
    "6. Exploration\n",
    "\n",
    "Feel free to temporarily add cells wherever you see fit, and play around with this notebook as much as you want when developing the solutions. However, the solution you upload to Canvas must have the exact format shown here, with only the cells present here.\n",
    "\n",
    "Don't restrict yourself only to what was taught so far. Some of the tasks might require you to search for new information. However, **be sure that you do the assignment using PyTorch** since we will be using it through the following assignments as well. [The Python docs](https://docs.python.org/3/), [PyTorch docs](https://pytorch.org/docs/stable/index.html), [stackoverflow](https://stackoverflow.com/), and Google are your friends!\n",
    "\n",
    "**Hint:** Solving Computer Lab 1 (CL1) is a good way to get prepared for this assignment.\n",
    "\n",
    "To pass this assignment, your solutions should pass all tests (`assert`-statements). Note that the tests shown to you are not exhaustive, and additional hidden tests exist for some of the tasks. Further, similar to IHA1, this notebook contains some questions where we ask you to reflect upon some results. These questions will not be graded in detail, but we still expect you to answer them."
   ]
  },
  {
   "cell_type": "markdown",
   "metadata": {
    "deletable": false,
    "editable": false,
    "nbgrader": {
     "cell_type": "markdown",
     "checksum": "6d8a3b20e9634f5c918019159cde8280",
     "grade": false,
     "grade_id": "cell-b9e4c4aa45490941",
     "locked": true,
     "schema_version": 3,
     "solution": false
    }
   },
   "source": [
    "## 0. Imports"
   ]
  },
  {
   "cell_type": "markdown",
   "metadata": {
    "deletable": false,
    "editable": false,
    "nbgrader": {
     "cell_type": "markdown",
     "checksum": "ca68d5a34a1d6f8633072976fad132a3",
     "grade": false,
     "grade_id": "cell-548d168c5c9e8c39",
     "locked": true,
     "schema_version": 3,
     "solution": false
    }
   },
   "source": [
    "Import any necessary modules here."
   ]
  },
  {
   "cell_type": "code",
   "execution_count": 113,
   "metadata": {
    "deletable": false,
    "nbgrader": {
     "cell_type": "code",
     "checksum": "4bd0c1d994ba501cd83cb86c40a43122",
     "grade": false,
     "grade_id": "cell-4e61b7fa879ef4a1",
     "locked": false,
     "schema_version": 3,
     "solution": true,
     "task": false
    }
   },
   "outputs": [],
   "source": [
    "# YOUR CODE HERE\n",
    "import numpy as np\n",
    "import matplotlib.pyplot as plt\n",
    "import pandas as pd\n",
    "import torch \n",
    "from torch.utils.data import Dataset, DataLoader\n",
    "from sklearn.model_selection import train_test_split\n",
    "from sklearn.preprocessing import StandardScaler\n",
    "import matplotlib.patches as mpatches\n",
    "from matplotlib.colors import ListedColormap\n",
    "\n"
   ]
  },
  {
   "cell_type": "markdown",
   "metadata": {
    "deletable": false,
    "editable": false,
    "nbgrader": {
     "cell_type": "markdown",
     "checksum": "a576cdb7f1a3658a7eb906977c5e40fb",
     "grade": false,
     "grade_id": "cell-50c33a3517aea662",
     "locked": true,
     "schema_version": 3,
     "solution": false
    }
   },
   "source": [
    "## 1. Loading and extracting subset"
   ]
  },
  {
   "cell_type": "markdown",
   "metadata": {
    "deletable": false,
    "editable": false,
    "nbgrader": {
     "cell_type": "markdown",
     "checksum": "8f1178610f2a3de2652d78bf724e5c6a",
     "grade": false,
     "grade_id": "cell-32f6c44c22e84d42",
     "locked": true,
     "schema_version": 3,
     "solution": false
    }
   },
   "source": [
    "The first step consists of filtering the dataset by the three Pokémon you are interested at. \n",
    "\n",
    "Start by loading the `'300k.csv'` file using pandas. If you haven't downloaded it yet, either use [this link](https://www.kaggle.com/semioniy/predictemall) to do so (and place the file in the same folder as this notebook), or simply run the cell below. You might have to [create a new API token](https://www.kaggle.com/settings/account) before the commands work."
   ]
  },
  {
   "cell_type": "code",
   "execution_count": 19,
   "metadata": {
    "deletable": false,
    "editable": false,
    "nbgrader": {
     "cell_type": "code",
     "checksum": "f8b85c109b1e96fc2c692b69d07573ea",
     "grade": false,
     "grade_id": "cell-39c13080b772bfe5",
     "locked": true,
     "schema_version": 3,
     "solution": false,
     "task": false
    }
   },
   "outputs": [
    {
     "name": "stdout",
     "output_type": "stream",
     "text": [
      "Warning: Looks like you're using an outdated API Version, please consider updating (server 1.6.17 / client 1.6.14)\n",
      "Dataset URL: https://www.kaggle.com/datasets/semioniy/predictemall\n",
      "License(s): unknown\n",
      "Downloading predictemall.zip to /Users/mattiacarlino/Chalmers/deep-machine-learning/home-assignments/IHA2\n",
      "100%|████████████████████████████████████████| 140M/140M [00:15<00:00, 14.9MB/s]\n",
      "100%|████████████████████████████████████████| 140M/140M [00:15<00:00, 9.56MB/s]\n",
      "Archive:  predictemall.zip\n",
      "  inflating: 300k.arff               \n",
      "  inflating: 300k_arff/300k.arff     \n",
      "  inflating: 300k_csv/300k.csv       \n"
     ]
    }
   ],
   "source": [
    "!kaggle datasets download -d semioniy/predictemall\n",
    "!unzip -u predictemall.zip\n",
    "!rm -rf predictemall.zip 300k_arff 300k.arff 300k_csv"
   ]
  },
  {
   "cell_type": "code",
   "execution_count": 202,
   "metadata": {
    "deletable": false,
    "nbgrader": {
     "cell_type": "code",
     "checksum": "1308d475120c2d9e46b37129e7221f99",
     "grade": false,
     "grade_id": "cell-53b2a6c0754fca1d",
     "locked": false,
     "schema_version": 3,
     "solution": true,
     "task": false
    }
   },
   "outputs": [
    {
     "name": "stderr",
     "output_type": "stream",
     "text": [
      "/var/folders/w7/n9y0bc4n5zgb8gg118j_j66h0000gn/T/ipykernel_67025/2826065170.py:3: DtypeWarning: Columns (49) have mixed types. Specify dtype option on import or set low_memory=False.\n",
      "  df = pd.read_csv('300k.csv')\n"
     ]
    }
   ],
   "source": [
    "# TODO: load the dataset using pandas to a dataframe called df\n",
    "# YOUR CODE HERE\n",
    "df = pd.read_csv('300k.csv')"
   ]
  },
  {
   "cell_type": "code",
   "execution_count": 203,
   "metadata": {
    "deletable": false,
    "editable": false,
    "nbgrader": {
     "cell_type": "code",
     "checksum": "937dc09867c39ed4282c3552a0a2d3fc",
     "grade": true,
     "grade_id": "cell-d7bd8d78c4388b4d",
     "locked": true,
     "points": 1,
     "schema_version": 3,
     "solution": false,
     "task": false
    }
   },
   "outputs": [],
   "source": [
    "assert df.shape == (\n",
    "    296021,\n",
    "    208,\n",
    "), f\"Dataframe has not the right shape. {df.shape} != (296021, 208)\"\n",
    "assert isinstance(df, pd.DataFrame), f\"df is not a dataframe. Was {type(df)}\""
   ]
  },
  {
   "cell_type": "markdown",
   "metadata": {
    "deletable": false,
    "editable": false,
    "nbgrader": {
     "cell_type": "markdown",
     "checksum": "9e5a6ed587a81abc562131a9a019da9a",
     "grade": false,
     "grade_id": "cell-5d36e8f9780ea946",
     "locked": true,
     "schema_version": 3,
     "solution": false
    }
   },
   "source": [
    "Modify `df` to only have the columns `latitude`, `longitude`, and `class`."
   ]
  },
  {
   "cell_type": "code",
   "execution_count": 204,
   "metadata": {
    "deletable": false,
    "nbgrader": {
     "cell_type": "code",
     "checksum": "32fe82a12426d7fd89c7b44803e9901d",
     "grade": false,
     "grade_id": "cell-318e20fd02ab7f30",
     "locked": false,
     "schema_version": 3,
     "solution": true,
     "task": false
    }
   },
   "outputs": [],
   "source": [
    "# YOUR CODE HERE\n",
    "df = df[['latitude', 'longitude', 'class']]"
   ]
  },
  {
   "cell_type": "code",
   "execution_count": 205,
   "metadata": {
    "deletable": false,
    "editable": false,
    "nbgrader": {
     "cell_type": "code",
     "checksum": "334ba32ebb98cfbe793e8d06ee8d3b34",
     "grade": true,
     "grade_id": "cell-e8738beea1b331d0",
     "locked": true,
     "points": 1,
     "schema_version": 3,
     "solution": false,
     "task": false
    }
   },
   "outputs": [],
   "source": [
    "assert len(df.columns) == 3, \"There should be 3 columns\"\n",
    "assert len(df.shape) == 2, \"The dataframe should be 2 dimensional\"\n",
    "assert df.shape == (296021, 3), \"Wrong shape of the dataframe\"\n",
    "assert \"latitude\" in df.columns, \"latitude column is missing\"\n",
    "assert \"longitude\" in df.columns, \"longitude column is missing\"\n",
    "assert \"class\" in df.columns, \"class column is missing\""
   ]
  },
  {
   "cell_type": "markdown",
   "metadata": {
    "deletable": false,
    "editable": false,
    "nbgrader": {
     "cell_type": "markdown",
     "checksum": "9ef5470f58caaaea609c2fee299c5b7f",
     "grade": false,
     "grade_id": "cell-6f7970ff67af4649",
     "locked": true,
     "schema_version": 3,
     "solution": false
    }
   },
   "source": [
    "Note that the `class` column specifies which pokemon it is. However, it only has the numerical id of the pokemon. For your convenience, we provide the dictionary `name_dict` to convert between ids and names (we'll do this soon)."
   ]
  },
  {
   "cell_type": "code",
   "execution_count": 206,
   "metadata": {
    "deletable": false,
    "editable": false,
    "nbgrader": {
     "cell_type": "code",
     "checksum": "7e1c295d53b9c78e248276d093849a02",
     "grade": false,
     "grade_id": "cell-50ff16afeaf933cf",
     "locked": true,
     "schema_version": 3,
     "solution": false
    }
   },
   "outputs": [],
   "source": [
    "from utils import name_dict"
   ]
  },
  {
   "cell_type": "code",
   "execution_count": 207,
   "metadata": {
    "deletable": false,
    "editable": false,
    "nbgrader": {
     "cell_type": "code",
     "checksum": "3bae8f433b0632b5da39f4d675f7f9db",
     "grade": false,
     "grade_id": "cell-1acfd7cca7bf754e",
     "locked": true,
     "schema_version": 3,
     "solution": false,
     "task": false
    }
   },
   "outputs": [
    {
     "name": "stdout",
     "output_type": "stream",
     "text": [
      "94\n",
      "Gengar\n"
     ]
    }
   ],
   "source": [
    "# example usage (you can index either by name or id)\n",
    "print(name_dict[\"Gengar\"])\n",
    "print(name_dict[94])"
   ]
  },
  {
   "cell_type": "code",
   "execution_count": 208,
   "metadata": {
    "deletable": false,
    "editable": false,
    "nbgrader": {
     "cell_type": "code",
     "checksum": "8c4b53d1aadb72239ba22773f6cdace6",
     "grade": false,
     "grade_id": "cell-1fd0d8b0c9800de4",
     "locked": true,
     "schema_version": 3,
     "solution": false,
     "task": false
    }
   },
   "outputs": [
    {
     "name": "stdout",
     "output_type": "stream",
     "text": [
      "    latitude   longitude  class    name\n",
      "0  20.525745  -97.460829     16  Pidgey\n",
      "1  20.523695  -97.461167    133   Eevee\n",
      "2  38.903590  -77.199780     16  Pidgey\n",
      "3  47.665903 -122.312561     13  Weedle\n",
      "4  47.666454 -122.311628    133   Eevee\n"
     ]
    }
   ],
   "source": [
    "# for convenience, let's add a new column to the dataframe with the name of the pokemon\n",
    "df[\"name\"] = df[\"class\"].apply(lambda x: name_dict[x])\n",
    "print(df.head())"
   ]
  },
  {
   "cell_type": "markdown",
   "metadata": {
    "deletable": false,
    "editable": false,
    "nbgrader": {
     "cell_type": "markdown",
     "checksum": "09025bb17628db2a36bb21a5b3b6f1c5",
     "grade": false,
     "grade_id": "cell-eaa874b93b3b727c",
     "locked": true,
     "schema_version": 3,
     "solution": false
    }
   },
   "source": [
    "We are only interested in three specific pokemon: Diglett, Seel, and Tauros."
   ]
  },
  {
   "cell_type": "markdown",
   "metadata": {
    "deletable": false,
    "editable": false,
    "nbgrader": {
     "cell_type": "markdown",
     "checksum": "ca357363a50da71ade1d068b235fbd63",
     "grade": false,
     "grade_id": "cell-7e0898a53c5649b0",
     "locked": true,
     "schema_version": 3,
     "solution": false
    }
   },
   "source": [
    "<table style=\"width:100%\">\n",
    "  <tr>\n",
    "    <th> <center>Diglett</center> </th>\n",
    "    <th> <center>Seel</center> </th> \n",
    "    <th> <center>Tauros</center> </th>\n",
    "  </tr>\n",
    "  <tr>\n",
    "    <td><img src=https://assets.pokemon.com/assets/cms2/img/pokedex/full/050_f2.png alt=Digglet></td>\n",
    "    <td><img src=https://pokemon.gamepedia.com/media/pokemon.gamepedia.com/thumb/f/f1/Seel.png/200px-Seel.png?version=2c32fbe0af2d0da707e5dbcb40472fbf></td>\n",
    "    <td><img src=https://www.pokemon.com/static-assets/content-assets/cms2/img/pokedex/full/128.png></td>\n",
    "  </tr>\n",
    "</table>\n",
    "\n"
   ]
  },
  {
   "cell_type": "markdown",
   "metadata": {
    "deletable": false,
    "editable": false,
    "nbgrader": {
     "cell_type": "markdown",
     "checksum": "0f67b745d8f97bcaf04b6674bab71e2d",
     "grade": false,
     "grade_id": "cell-d091927bf7d7938f",
     "locked": true,
     "schema_version": 3,
     "solution": false
    }
   },
   "source": [
    "Filter the dataset to contain only these three types of pokemon and save it in the DataFrame `filtered_df`."
   ]
  },
  {
   "cell_type": "code",
   "execution_count": 209,
   "metadata": {
    "deletable": false,
    "nbgrader": {
     "cell_type": "code",
     "checksum": "3101497237b105c936f9b72972e4e06f",
     "grade": false,
     "grade_id": "cell-7089f3397cbc1f4a",
     "locked": false,
     "schema_version": 3,
     "solution": true,
     "task": false
    }
   },
   "outputs": [
    {
     "name": "stdout",
     "output_type": "stream",
     "text": [
      "We have 2083 instances of Diglett, Seel, and Tauros in the dataset.\n"
     ]
    }
   ],
   "source": [
    "# YOUR CODE HERE\n",
    "filtered_df = df.query('name == \"Diglett\" or name == \"Seel\" or name == \"Tauros\"')\n",
    "print(\n",
    "    f\"We have {len(filtered_df)} instances of Diglett, Seel, and Tauros in the dataset.\"\n",
    ")"
   ]
  },
  {
   "cell_type": "code",
   "execution_count": 210,
   "metadata": {
    "deletable": false,
    "editable": false,
    "nbgrader": {
     "cell_type": "code",
     "checksum": "804e5464b130a64d22b06d0b882d0c89",
     "grade": true,
     "grade_id": "cell-c24e683b633a9f9b",
     "locked": true,
     "points": 1,
     "schema_version": 3,
     "solution": false,
     "task": false
    }
   },
   "outputs": [],
   "source": [
    "assert len(np.unique(filtered_df[\"class\"])) == 3, \"There should be 3 unique classes.\"\n",
    "assert filtered_df.shape == (\n",
    "    2083,\n",
    "    4,\n",
    "), \"The shape of the filtered dataframe is incorrect.\""
   ]
  },
  {
   "cell_type": "markdown",
   "metadata": {
    "deletable": false,
    "editable": false,
    "nbgrader": {
     "cell_type": "markdown",
     "checksum": "6b1f1246460c9e81025c5dd94d54e9e2",
     "grade": false,
     "grade_id": "cell-4e7ef21d67cb017e",
     "locked": true,
     "schema_version": 3,
     "solution": false,
     "task": false
    }
   },
   "source": [
    "In an earlier cell, you could see that the dataset has 208 features per pokemon sighting (`df.shape == (296021, 208)`). Why do we only use the `longitude` and `latitude` features and not all the features? "
   ]
  },
  {
   "cell_type": "markdown",
   "metadata": {
    "deletable": false,
    "nbgrader": {
     "cell_type": "markdown",
     "checksum": "345b05134d46ff03c9a71123906636f2",
     "grade": true,
     "grade_id": "cell-21cf8cbbffef4929",
     "locked": false,
     "points": 0,
     "schema_version": 3,
     "solution": true,
     "task": false
    }
   },
   "source": [
    "**Your answer:** Because we are interested where pokemons can appear"
   ]
  },
  {
   "cell_type": "markdown",
   "metadata": {
    "deletable": false,
    "editable": false,
    "nbgrader": {
     "cell_type": "markdown",
     "checksum": "2641774ea6d909844fb9d2e930763382",
     "grade": false,
     "grade_id": "cell-01b988bb1bfa1f92",
     "locked": true,
     "schema_version": 3,
     "solution": false
    }
   },
   "source": [
    "## 2. Visualization of the dataset"
   ]
  },
  {
   "cell_type": "markdown",
   "metadata": {
    "deletable": false,
    "editable": false,
    "nbgrader": {
     "cell_type": "markdown",
     "checksum": "437148ed483b9f34a3cd87aae3129933",
     "grade": false,
     "grade_id": "cell-5c7b8fdcd18575fe",
     "locked": true,
     "schema_version": 3,
     "solution": false
    }
   },
   "source": [
    "The second step consists of visualizing the dataset. This will help you understand the distribution of the features and get an idea of how hard the task will be.\n",
    "\n",
    "Plot a bar chart of the number of occurrences of each class."
   ]
  },
  {
   "cell_type": "code",
   "execution_count": 211,
   "metadata": {
    "deletable": false,
    "nbgrader": {
     "cell_type": "code",
     "checksum": "b9b6048c83c3f3f72c51e4baa47b141b",
     "grade": true,
     "grade_id": "cell-c1a9921488e42992",
     "locked": false,
     "points": 0,
     "schema_version": 3,
     "solution": true
    }
   },
   "outputs": [
    {
     "name": "stdout",
     "output_type": "stream",
     "text": [
      "occ: class\n",
      "50     721\n",
      "86     692\n",
      "128    670\n",
      "Name: count, dtype: int64\n"
     ]
    },
    {
     "data": {
      "image/png": "[encoded data removed]",
      "text/plain": [
       "<Figure size 640x480 with 1 Axes>"
      ]
     },
     "metadata": {},
     "output_type": "display_data"
    }
   ],
   "source": [
    "# YOUR CODE HERE\n",
    "fig, ax = plt.subplots()\n",
    "pokemons = ['Diglett', 'Seel', 'Tauros']\n",
    "occurences = filtered_df['class'].value_counts()\n",
    "\n",
    "bar_labels = ['Diglett', 'Seel', 'Tauros']\n",
    "bar_colors = ['tab:red', 'tab:blue', 'tab:orange']\n",
    "\n",
    "ax.bar(pokemons, occurences, label=bar_labels, color=bar_colors)\n",
    "\n",
    "ax.set_ylabel('pokemon occurences')\n",
    "ax.set_title('Number of occurences of each class')\n",
    "ax.legend(title='Pokemon class')\n",
    "\n",
    "print('occ:', occurences)\n",
    "plt.show()"
   ]
  },
  {
   "cell_type": "markdown",
   "metadata": {
    "deletable": false,
    "editable": false,
    "nbgrader": {
     "cell_type": "markdown",
     "checksum": "e4c3c67ecc7c5b85749d001b0a622061",
     "grade": false,
     "grade_id": "cell-c22d835bdc58fe68",
     "locked": true,
     "schema_version": 3,
     "solution": false
    }
   },
   "source": [
    "Is the dataset balanced? Why/why not? Why is this important?"
   ]
  },
  {
   "cell_type": "markdown",
   "metadata": {
    "deletable": false,
    "nbgrader": {
     "cell_type": "markdown",
     "checksum": "c918f9b5d190f5f83c8dbd622e59d062",
     "grade": true,
     "grade_id": "cell-3d060bda26842b5d",
     "locked": false,
     "points": 0,
     "schema_version": 3,
     "solution": true
    }
   },
   "source": [
    "\n",
    "**Your answer:** The dataset is not exactly balanced, since each class has different occurences. Balanced Datasets ensure that the model treats all classes equally, allowing it to learn features from all classes more effectively"
   ]
  },
  {
   "cell_type": "markdown",
   "metadata": {
    "deletable": false,
    "editable": false,
    "nbgrader": {
     "cell_type": "markdown",
     "checksum": "4382ce93389defee634b029f25edda16",
     "grade": false,
     "grade_id": "cell-931cbd9e3ec95da5",
     "locked": true,
     "schema_version": 3,
     "solution": false
    }
   },
   "source": [
    "Plot a scatter plot where the first dimension is longitude, the second is latitude, and each point is a Pokemon. Further, the color of each point should represent which Pokemon it is. Lastly, the marker at each point should be an `'x'`. Make sure to label each axis.\n",
    "\n",
    "Hints:\n",
    "\n",
    "- The `scatter` method from `matplotlib` accepts an argument called `c`.\n",
    "- The `scatter` method also accepts an argument called `marker`."
   ]
  },
  {
   "cell_type": "code",
   "execution_count": 212,
   "metadata": {
    "deletable": false,
    "nbgrader": {
     "cell_type": "code",
     "checksum": "f6f749d2605a9f0d0ae2dff5d584d414",
     "grade": true,
     "grade_id": "cell-1120bd5aa8abeae1",
     "locked": false,
     "points": 0,
     "schema_version": 3,
     "solution": true
    }
   },
   "outputs": [
    {
     "data": {
      "image/png": "[encoded data removed]",
      "text/plain": [
       "<Figure size 640x480 with 1 Axes>"
      ]
     },
     "metadata": {},
     "output_type": "display_data"
    }
   ],
   "source": [
    "# YOUR CODE HERE\n",
    "colors = {'Diglett': '#ff9999',\n",
    "          'Seel': '#99ccff',   \n",
    "          'Tauros': '#ffcc99'}\n",
    "for class_name, class_df_filtered in filtered_df.groupby('name'):\n",
    "    plt.scatter(class_df_filtered['longitude'], class_df_filtered['latitude'], c=colors[class_name], label=class_name, marker='x')\n",
    "plt.xlabel('Longitude')\n",
    "plt.ylabel('Latitude')\n",
    "plt.title('Scatter plot of Pokémon by Location')\n",
    "plt.legend(title='Pokémon Class')\n",
    "plt.show()"
   ]
  },
  {
   "cell_type": "markdown",
   "metadata": {
    "deletable": false,
    "editable": false,
    "nbgrader": {
     "cell_type": "markdown",
     "checksum": "4cad292133d28b4b0fe7f2245b0bc567",
     "grade": false,
     "grade_id": "cell-76f326a05bf22e09",
     "locked": true,
     "schema_version": 3,
     "solution": false
    }
   },
   "source": [
    "Is there any other visualization you think would be useful? If so, insert them here."
   ]
  },
  {
   "cell_type": "code",
   "execution_count": 213,
   "metadata": {
    "deletable": false,
    "nbgrader": {
     "cell_type": "code",
     "checksum": "ad81f10f7f24ca21197794fdcd7fb04c",
     "grade": true,
     "grade_id": "cell-86724bfd3955c5ed",
     "locked": false,
     "points": 0,
     "schema_version": 3,
     "solution": true
    }
   },
   "outputs": [],
   "source": [
    "# YOUR CODE HERE"
   ]
  },
  {
   "cell_type": "markdown",
   "metadata": {
    "deletable": false,
    "editable": false,
    "nbgrader": {
     "cell_type": "markdown",
     "checksum": "6140988fa08ca186bbe62a74e82ddddd",
     "grade": false,
     "grade_id": "cell-7af3ac7849dc5252",
     "locked": true,
     "schema_version": 3,
     "solution": false
    }
   },
   "source": [
    "How hard do you think the problem is? Which classes can/cannot be easily separated?\n"
   ]
  },
  {
   "cell_type": "markdown",
   "metadata": {
    "deletable": false,
    "nbgrader": {
     "cell_type": "markdown",
     "checksum": "6bb25f67d0cf2e55d60f2b63646ce9fe",
     "grade": true,
     "grade_id": "cell-62e50deb2cca74b2",
     "locked": false,
     "points": 0,
     "schema_version": 3,
     "solution": true
    }
   },
   "source": [
    "**Your answer:** From the scatter plot, it seems like there are clusters of Pokemon classes in different regions. Seel and Diglett appear to be the easiest to separate as them points cluster distinctly from the others. However, Diglett and Tauros have overlapping regions, particularly in the top-left area of the plot, making them harder to distinguish."
   ]
  },
  {
   "cell_type": "markdown",
   "metadata": {
    "deletable": false,
    "editable": false,
    "nbgrader": {
     "cell_type": "markdown",
     "checksum": "9e6bfdd82abab0b61a471c52bfc9dff3",
     "grade": false,
     "grade_id": "cell-3d322369934aa289",
     "locked": true,
     "schema_version": 3,
     "solution": false
    }
   },
   "source": [
    "Which accuracy do you expect to achieve?"
   ]
  },
  {
   "cell_type": "markdown",
   "metadata": {
    "deletable": false,
    "nbgrader": {
     "cell_type": "markdown",
     "checksum": "931b0e510dcc8867fb3efb7e50fe8a25",
     "grade": true,
     "grade_id": "cell-f2c255ad5dd7e5fc",
     "locked": false,
     "points": 0,
     "schema_version": 3,
     "solution": true
    }
   },
   "source": [
    "**Your answer:** Due to the clear separation between Diglett and Seel clusters, we can expect to achieve high general accuracy. However, the overlapping area with Tauros may slightly can reduce the specific class accuracy. A reasonable estimate would be around 70-80% accuracy"
   ]
  },
  {
   "cell_type": "markdown",
   "metadata": {
    "deletable": false,
    "editable": false,
    "nbgrader": {
     "cell_type": "markdown",
     "checksum": "d5510f4a800380ecc156cd9d2f3898e5",
     "grade": false,
     "grade_id": "cell-451e0813fca28b8b",
     "locked": true,
     "schema_version": 3,
     "solution": false
    }
   },
   "source": [
    "## 3. Preprocessing"
   ]
  },
  {
   "cell_type": "markdown",
   "metadata": {
    "deletable": false,
    "editable": false,
    "nbgrader": {
     "cell_type": "markdown",
     "checksum": "7a6c54a6e0bfe71ad1da3f834fbcb3d7",
     "grade": false,
     "grade_id": "cell-3eed8190495b60ac",
     "locked": true,
     "schema_version": 3,
     "solution": false
    }
   },
   "source": [
    "The third step consists of processing the data before training, such as dividing the dataset into training, validation, and test sets. Some tranformations can also be applied to the dataset in order to improve the performance of the network. We will use some PyTorch utilities to help us with this task.\n",
    "\n",
    "Start by creating the input and output vectors, `x` and `y`. The input should be latitude and longitude, and the output should be the class of the pokemon. Note that you cannot use the class names directly, as they are strings. You need to introduce some mapping to convert them to integers (0, 1, and 2) or one-hot vectors."
   ]
  },
  {
   "cell_type": "code",
   "execution_count": 246,
   "metadata": {
    "deletable": false,
    "nbgrader": {
     "cell_type": "code",
     "checksum": "a001f72e92feb0435ca66ca282c5eb6c",
     "grade": false,
     "grade_id": "cell-c61cb8065babf0c5",
     "locked": false,
     "schema_version": 3,
     "solution": true,
     "task": false
    }
   },
   "outputs": [
    {
     "name": "stdout",
     "output_type": "stream",
     "text": [
      "Shape of input data: (2083, 2)\n",
      "Shape of labels: (2083,)\n"
     ]
    }
   ],
   "source": [
    "# YOUR CODE HERE\n",
    "# Input vector\n",
    "# Use the latitude and longitude as input features\n",
    "x = filtered_df[['latitude', 'longitude']].to_numpy(dtype=\"float32\")\n",
    "\n",
    "#Output vector\n",
    "pokemon_mapping = {'Diglett': 0, 'Seel': 1, 'Tauros': 2}\n",
    "# Label encoding\n",
    "y = filtered_df['name'].apply(lambda name: pokemon_mapping[name]).to_numpy()\n",
    "\n",
    "print(f\"Shape of input data: {x.shape}\")\n",
    "print(f\"Shape of labels: {y.shape}\")"
   ]
  },
  {
   "cell_type": "code",
   "execution_count": 247,
   "metadata": {
    "deletable": false,
    "editable": false,
    "nbgrader": {
     "cell_type": "code",
     "checksum": "c29016eeb4001be249e61f5364c9c294",
     "grade": true,
     "grade_id": "cell-e3cfcf9955f6809c",
     "locked": true,
     "points": 1,
     "schema_version": 3,
     "solution": false,
     "task": false
    }
   },
   "outputs": [],
   "source": [
    "assert isinstance(x, np.ndarray), \"x should be a numpy array\"\n",
    "assert isinstance(y, np.ndarray), \"y should be a numpy array\"\n",
    "\n",
    "assert x.shape[0] == y.shape[0], \"x and y should have the same number of samples\"\n",
    "assert x.shape[-1] == 2, \"x should have 2 features\"\n",
    "assert x.dtype == np.float32, \"x should be of type float32\"\n",
    "if y.shape[-1] == 3:  # one-hot encoded\n",
    "    assert y.max() == 1, \"one-hot encoded y, at least one entry should be 1\"\n",
    "    assert y.min() == 0, \"one-hot encoded y, at least one entry should be 0\"\n",
    "    assert y.sum(axis=1).all() == 1\n",
    "else:  # label encoded\n",
    "    assert y.max() == 2, \"label encoded y, should have a max value of 2\"\n",
    "    assert y.min() == 0, \"label encoded y, should have a min value of 0\""
   ]
  },
  {
   "cell_type": "markdown",
   "metadata": {
    "deletable": false,
    "editable": false,
    "nbgrader": {
     "cell_type": "markdown",
     "checksum": "667ef8d517475a54aca21e510c96761d",
     "grade": false,
     "grade_id": "cell-566d2f340fa57d49",
     "locked": true,
     "schema_version": 3,
     "solution": false
    }
   },
   "source": [
    "Separate your data into training (55%), validation (25%) and test sets (20%) and save them as `dataset_train`, `dataset_val`, `dataset_test`. If you wish to apply any transformation to the dataset, do it here as well. \n",
    "\n",
    "Further, create a class, PokemonDataset, inheriting from PyTorch [`Dataset`](https://pytorch.org/docs/stable/data.html#torch.utils.data.Dataset) and use this for storing the data. In other words, `dataset_train`, `dataset_val`, `dataset_test` should have type PokemonDataset. You will need to implement a `__getitem__`, `__len__` and `__init__` method. Although perhaps a bit overkill for this assignment, it is a good practice for handling datasets in PyTorch.\n",
    "\n",
    "Last, instantiate a [`DataLoader`](https://pytorch.org/docs/stable/data.html#torch.utils.data.DataLoader) for each dataset, i.e., `loader_train`, `loader_val`, `loader_test`. This will fetch samples from the datasets and combine them into batches. Remember to select a suitable batch size."
   ]
  },
  {
   "cell_type": "code",
   "execution_count": 281,
   "metadata": {
    "deletable": false,
    "nbgrader": {
     "cell_type": "code",
     "checksum": "e2a4956e2e49a791cfcf70933886dacd",
     "grade": false,
     "grade_id": "cell-918e3bb4d74472bd",
     "locked": false,
     "schema_version": 3,
     "solution": true,
     "task": false
    }
   },
   "outputs": [
    {
     "name": "stdout",
     "output_type": "stream",
     "text": [
      "Training set size: 1145\n",
      "Validation set size: 521\n",
      "Test set size: 417\n"
     ]
    }
   ],
   "source": [
    "# YOUR CODE HERE\n",
    "# separate dataset into train-val and test set\n",
    "x_train_val, x_test, y_train_val, y_test = train_test_split(x, y, test_size=0.2, random_state=42)\n",
    "\n",
    "# separate into training and validation sets\n",
    "x_train, x_val, y_train, y_val = train_test_split (x_train_val, y_train_val, test_size=0.3125, random_state=42)\n",
    "\n",
    "print(f\"Training set size: {len(x_train)}\")\n",
    "print(f\"Validation set size: {len(x_val)}\")\n",
    "print(f\"Test set size: {len(x_test)}\")\n",
    "\n",
    "# Standardize the data\n",
    "scaler = StandardScaler()\n",
    "x_train_scaled = scaler.fit_transform(x_train)\n",
    "x_val_scaled = scaler.transform(x_val)\n",
    "x_test_scaled = scaler.transform(x_test)\n",
    "\n",
    "# Create our own Pokemon dataset\n",
    "class PokemonDataset(Dataset):\n",
    "    def __init__(self, x_data, y_data):\n",
    "        self.x_data = x_data\n",
    "        self.y_data = y_data\n",
    "        \n",
    "    def __len__(self):\n",
    "        return len(self.x_data)\n",
    "    \n",
    "    def __getitem__(self, idx):\n",
    "        sample = {'features': torch.tensor(self.x_data[idx], dtype=torch.float32),\n",
    "              'label': torch.tensor(self.y_data[idx], dtype=torch.long)}\n",
    "        return sample['features'], sample['label']\n",
    "\n",
    "# Create the datasets    \n",
    "dataset_train = PokemonDataset(x_train_scaled, y_train)\n",
    "dataset_val = PokemonDataset(x_val_scaled, y_val)\n",
    "dataset_test = PokemonDataset(x_test_scaled, y_test)\n",
    "\n",
    "# Batch size\n",
    "batch_size = 512\n",
    "\n",
    "# Dataloader creation (datasets loaded into DataLoader)\n",
    "loader_train = DataLoader(dataset_train, batch_size=batch_size, shuffle=True)\n",
    "loader_val = DataLoader(dataset_val, batch_size=batch_size, shuffle=False)\n",
    "loader_test = DataLoader(dataset_test, batch_size=batch_size, shuffle=False)\n"
   ]
  },
  {
   "cell_type": "code",
   "execution_count": 282,
   "metadata": {
    "deletable": false,
    "editable": false,
    "nbgrader": {
     "cell_type": "code",
     "checksum": "679946ba2a8db7542fb0a009ebdec14b",
     "grade": true,
     "grade_id": "cell-26a6a53ab59cb075",
     "locked": true,
     "points": 1,
     "schema_version": 3,
     "solution": false,
     "task": false
    }
   },
   "outputs": [],
   "source": [
    "assert isinstance(\n",
    "    dataset_train, PokemonDataset\n",
    "), \"dataset_train should be an instance of PokemonDataset\"\n",
    "assert isinstance(\n",
    "    dataset_val, PokemonDataset\n",
    "), \"dataset_val should be an instance of PokemonDataset\"\n",
    "assert isinstance(\n",
    "    dataset_test, PokemonDataset\n",
    "), \"dataset_test should be an instance of PokemonDataset\"\n",
    "\n",
    "assert (\n",
    "    abs(len(dataset_train) / len(x) - 0.55) < 0.01\n",
    "), \"dataset_train has the wrong length, should be 55% of the data\"\n",
    "assert (\n",
    "    abs(len(dataset_val) / len(x) - 0.25) < 0.01\n",
    "), \"dataset_val has the wrong length, should be 25% of the data\"\n",
    "assert (\n",
    "    abs(len(dataset_test) / len(x) - 0.20) < 0.01\n",
    "), \"dataset_test has the wrong length, should be 20% of the data\"\n",
    "\n",
    "assert isinstance(\n",
    "    loader_train, DataLoader\n",
    "), \"loader_train should be an instance of DataLoader\"\n",
    "assert isinstance(\n",
    "    loader_val, DataLoader\n",
    "), \"loader_val should be an instance of DataLoader\"\n",
    "assert isinstance(\n",
    "    loader_test, DataLoader\n",
    "), \"loader_test should be an instance of DataLoader\"\n",
    "\n",
    "assert len(loader_train), \"loader_train should have a length\"\n",
    "assert len(loader_val), \"loader_val should have a length\"\n",
    "assert len(loader_test), \"loader_test should have a length\""
   ]
  },
  {
   "cell_type": "markdown",
   "metadata": {
    "deletable": false,
    "editable": false,
    "nbgrader": {
     "cell_type": "markdown",
     "checksum": "c9b5ffa094240411cb43919a003ba914",
     "grade": false,
     "grade_id": "cell-b9088197f0ab661c",
     "locked": true,
     "schema_version": 3,
     "solution": false
    }
   },
   "source": [
    "\n",
    "## 4. Training"
   ]
  },
  {
   "cell_type": "markdown",
   "metadata": {
    "deletable": false,
    "editable": false,
    "nbgrader": {
     "cell_type": "markdown",
     "checksum": "6c5d33400a0aa71b9c81a01181b7cb3b",
     "grade": false,
     "grade_id": "cell-1c4e4c6b7186c418",
     "locked": true,
     "schema_version": 3,
     "solution": false
    }
   },
   "source": [
    "The fourth step is where you will choose the architecture of your network (number of hidden layers, activation functions, etc.), optimizer, loss function and then train the network. \n",
    "\n",
    "Start by implementing a training loop, and a helper function to calculate the accuracy. The training loop should calculate the loss and accuracy for both the training and validation set and print it with some regular interval (each epoch, or every few epochs, for instance). It can also be helpful to plot the loss and accuracy for both the training and validation set, either in the training loop, or after it has finished (i.e., you have to store the values during training and return them).\n",
    "\n",
    "We have prepared the `train_model` function with the arguments you need, but you have access to *args and **kwargs if you want to pass additional arguments to the function."
   ]
  },
  {
   "cell_type": "code",
   "execution_count": 290,
   "metadata": {
    "deletable": false,
    "nbgrader": {
     "cell_type": "code",
     "checksum": "651fa27aab4bd856b89ccdb51201cdf9",
     "grade": false,
     "grade_id": "cell-e1cb09a6dcbdb401",
     "locked": false,
     "schema_version": 3,
     "solution": true,
     "task": false
    }
   },
   "outputs": [],
   "source": [
    "from typing import Callable, Union\n",
    "\n",
    "import torch\n",
    "import torch.nn as nn\n",
    "import torch.utils\n",
    "\n",
    "\n",
    "def accuracy(y_hat: torch.Tensor, y: torch.Tensor) -> torch.Tensor:\n",
    "    \"\"\"\n",
    "    Compute the accuracy of the model.\n",
    "\n",
    "    Args:\n",
    "    y_hat: torch.Tensor: The model predictions (probability per class), shape: [batch_size, num_classes]\n",
    "    y: torch.Tensor: The true labels, shape: [batch_size]\n",
    "\n",
    "    Returns:\n",
    "    torch.Tensor: The accuracy of the model\n",
    "    \"\"\"\n",
    "    # YOUR CODE HERE\n",
    "    y_hat = y_hat.to(y.device)\n",
    "    # Compute predicted class for each sample in the batch \n",
    "    predicted_class = torch.argmax(y_hat, dim=1)\n",
    "\n",
    "    # Compare predicted classes with the true labels\n",
    "    correct_predictions = (predicted_class == y)\n",
    "    \n",
    "    # Transform the boolean correct_predictions in a float and compute the mean\n",
    "    acc = correct_predictions.float().mean()\n",
    "    return acc\n",
    "\n",
    "\n",
    "def train_model(\n",
    "    model: nn.Module,\n",
    "    optimizer: torch.optim,\n",
    "    loss_fn: Union[Callable, nn.Module],\n",
    "    num_epochs: int,\n",
    "    train_dataloader: torch.utils.data.DataLoader,\n",
    "    val_dataloader: torch.utils.data.DataLoader,\n",
    "    device: Union[str, torch.device],\n",
    "    *args,\n",
    "    **kwargs,\n",
    "):\n",
    "    \"\"\"\n",
    "    Train the model.\n",
    "\n",
    "    Args:\n",
    "    model: nn.Module: The neural network model\n",
    "    optimizer: torch.optim: The optimizer used to update the model parameters\n",
    "    loss_fn: Union[Callable, nn.Module]: The loss function used to compute the loss\n",
    "    num_epochs: int: The number of epochs to train the model\n",
    "    train_dataloader: torch.utils.data.DataLoader: The training dataloader\n",
    "    val_dataloader: torch.utils.data.DataLoader: The validation dataloader\n",
    "    device: Union[str, torch.device]: The device to run the training on\n",
    "    *args: Additional arguments to pass to the train function\n",
    "    **kwargs: Additional keyword arguments to pass to the train function\n",
    "\n",
    "    \"\"\"\n",
    "\n",
    "    # YOUR CODE HERE\n",
    "    # Set the model to the device\n",
    "    model.to(device)\n",
    "\n",
    "    train_losses = []\n",
    "    train_accuracies = []\n",
    "    val_losses = []\n",
    "    val_accuracies = []\n",
    "\n",
    "    # Iterate over the epochs\n",
    "    for epoch in range(num_epochs):\n",
    "        # Set the model to train mode\n",
    "        model.train()\n",
    "\n",
    "        # Initialize running loss and accuracy for the current epoch\n",
    "        running_loss = 0.0\n",
    "        running_accuracy = 0.0\n",
    "\n",
    "        \n",
    "        for batch in train_dataloader:\n",
    "            inputs, labels = batch\n",
    "            inputs = inputs.to(device)\n",
    "            labels = labels.to(device)\n",
    "\n",
    "            # Zero the parameter gradients, to avoid accumulation of gradients in the optimizer \n",
    "            optimizer.zero_grad()\n",
    "\n",
    "            # Compute forward pass (compute predictions)\n",
    "            y_hat = model(inputs)\n",
    "\n",
    "            # Compute loss\n",
    "            loss = loss_fn(y_hat, labels)\n",
    "\n",
    "            # Compute gradients\n",
    "            loss.backward()\n",
    "\n",
    "            # Update weights\n",
    "            optimizer.step()\n",
    "\n",
    "            running_loss += loss.item()\n",
    "\n",
    "            batch_accuracy = accuracy(y_hat, labels)\n",
    "            running_accuracy += batch_accuracy.item()\n",
    "\n",
    "        # Calculate average training loss and accuracy\n",
    "        avg_train_loss = running_loss / len(train_dataloader)\n",
    "        avg_train_accuracy = running_accuracy / len(train_dataloader)\n",
    "        train_losses.append(avg_train_loss)\n",
    "        train_accuracies.append(avg_train_accuracy)\n",
    "\n",
    "        # Set the model to evaluation mode\n",
    "        model.eval()\n",
    "        running_val_loss = 0.0\n",
    "        running_val_accuracy = 0.0\n",
    "\n",
    "        with torch.no_grad():\n",
    "            for batch in val_dataloader:\n",
    "                inputs, labels = batch\n",
    "                inputs = inputs.to(device)\n",
    "                labels = labels.to(device)\n",
    "\n",
    "                # Forward pass (compute predictions)\n",
    "                y_hat = model(inputs)\n",
    "\n",
    "                # Calculate validation loss\n",
    "                loss = loss_fn(y_hat, labels)\n",
    "                running_val_loss += loss.item()\n",
    "\n",
    "                # Calculate validation accuracy using your accuracy function\n",
    "                batch_accuracy = accuracy(y_hat, labels)\n",
    "                running_val_accuracy += batch_accuracy.item()\n",
    "\n",
    "        # Calculate average validation loss and accuracy\n",
    "        avg_val_loss = running_val_loss / len(val_dataloader)\n",
    "        avg_val_accuracy = running_val_accuracy / len(val_dataloader)\n",
    "        val_losses.append(avg_val_loss)\n",
    "        val_accuracies.append(avg_val_accuracy)\n",
    "\n",
    "        # Print metrics for the current epoch\n",
    "        print(f\"Epoch [{epoch+1}/{num_epochs}], \"\n",
    "              f\"Train Loss: {avg_train_loss:.4f}, Train Accuracy: {avg_train_accuracy*100:.2f}%, \"\n",
    "              f\"Val Loss: {avg_val_loss:.4f}, Val Accuracy: {avg_val_accuracy*100:.2f}%\")\n",
    "\n",
    "    # Return the losses and accuracies\n",
    "    return train_losses, val_losses, train_accuracies, val_accuracies\n",
    "\n"
   ]
  },
  {
   "cell_type": "markdown",
   "metadata": {
    "deletable": false,
    "editable": false,
    "nbgrader": {
     "cell_type": "markdown",
     "checksum": "f120e556ca9bee3969022ccd95c884d5",
     "grade": false,
     "grade_id": "cell-abd73fe36efa945d",
     "locked": true,
     "schema_version": 3,
     "solution": false,
     "task": false
    }
   },
   "source": [
    "Next, we'll test that your training loop is correct. A [common sanity check in deep learning](https://karpathy.github.io/2019/04/25/recipe/) is to overfit to a small dataset, like a single batch of data. This ensures that shapes and devices are correctly set, and the network can learn/memorize the training data, which is a good starting point before training on the full dataset."
   ]
  },
  {
   "cell_type": "code",
   "execution_count": 286,
   "metadata": {
    "deletable": false,
    "editable": false,
    "nbgrader": {
     "cell_type": "code",
     "checksum": "4f4c52b6973df138e3fbe8f0ce30b32d",
     "grade": true,
     "grade_id": "cell-be96e21b4495aa27",
     "locked": true,
     "points": 1,
     "schema_version": 3,
     "solution": false,
     "task": false
    }
   },
   "outputs": [
    {
     "name": "stdout",
     "output_type": "stream",
     "text": [
      "Testing training loop, CPU\n",
      "Epoch [1/100], Train Loss: 1.0964, Train Accuracy: 0.00%, Val Loss: 1.5079, Val Accuracy: 0.00%\n",
      "Epoch [2/100], Train Loss: 1.0758, Train Accuracy: 0.00%, Val Loss: 1.5108, Val Accuracy: 0.00%\n",
      "Epoch [3/100], Train Loss: 1.0556, Train Accuracy: 0.00%, Val Loss: 1.5137, Val Accuracy: 0.00%\n",
      "Epoch [4/100], Train Loss: 1.0358, Train Accuracy: 0.00%, Val Loss: 1.5166, Val Accuracy: 0.00%\n",
      "Epoch [5/100], Train Loss: 1.0165, Train Accuracy: 0.00%, Val Loss: 1.5194, Val Accuracy: 0.00%\n",
      "Epoch [6/100], Train Loss: 0.9975, Train Accuracy: 0.00%, Val Loss: 1.5222, Val Accuracy: 0.00%\n",
      "Epoch [7/100], Train Loss: 0.9790, Train Accuracy: 50.00%, Val Loss: 1.5250, Val Accuracy: 0.00%\n",
      "Epoch [8/100], Train Loss: 0.9609, Train Accuracy: 50.00%, Val Loss: 1.5278, Val Accuracy: 0.00%\n",
      "Epoch [9/100], Train Loss: 0.9432, Train Accuracy: 100.00%, Val Loss: 1.5306, Val Accuracy: 0.00%\n",
      "Epoch [10/100], Train Loss: 0.9259, Train Accuracy: 100.00%, Val Loss: 1.5333, Val Accuracy: 0.00%\n",
      "Epoch [11/100], Train Loss: 0.9090, Train Accuracy: 100.00%, Val Loss: 1.5360, Val Accuracy: 0.00%\n",
      "Epoch [12/100], Train Loss: 0.8925, Train Accuracy: 100.00%, Val Loss: 1.5387, Val Accuracy: 0.00%\n",
      "Epoch [13/100], Train Loss: 0.8763, Train Accuracy: 100.00%, Val Loss: 1.5414, Val Accuracy: 0.00%\n",
      "Epoch [14/100], Train Loss: 0.8605, Train Accuracy: 100.00%, Val Loss: 1.5440, Val Accuracy: 0.00%\n",
      "Epoch [15/100], Train Loss: 0.8451, Train Accuracy: 100.00%, Val Loss: 1.5466, Val Accuracy: 0.00%\n",
      "Epoch [16/100], Train Loss: 0.8300, Train Accuracy: 100.00%, Val Loss: 1.5492, Val Accuracy: 0.00%\n",
      "Epoch [17/100], Train Loss: 0.8153, Train Accuracy: 100.00%, Val Loss: 1.5518, Val Accuracy: 0.00%\n",
      "Epoch [18/100], Train Loss: 0.8009, Train Accuracy: 100.00%, Val Loss: 1.5543, Val Accuracy: 0.00%\n",
      "Epoch [19/100], Train Loss: 0.7868, Train Accuracy: 100.00%, Val Loss: 1.5569, Val Accuracy: 0.00%\n",
      "Epoch [20/100], Train Loss: 0.7731, Train Accuracy: 100.00%, Val Loss: 1.5594, Val Accuracy: 0.00%\n",
      "Epoch [21/100], Train Loss: 0.7597, Train Accuracy: 100.00%, Val Loss: 1.5619, Val Accuracy: 0.00%\n",
      "Epoch [22/100], Train Loss: 0.7465, Train Accuracy: 100.00%, Val Loss: 1.5643, Val Accuracy: 0.00%\n",
      "Epoch [23/100], Train Loss: 0.7337, Train Accuracy: 100.00%, Val Loss: 1.5668, Val Accuracy: 0.00%\n",
      "Epoch [24/100], Train Loss: 0.7212, Train Accuracy: 100.00%, Val Loss: 1.5692, Val Accuracy: 0.00%\n",
      "Epoch [25/100], Train Loss: 0.7090, Train Accuracy: 100.00%, Val Loss: 1.5716, Val Accuracy: 0.00%\n",
      "Epoch [26/100], Train Loss: 0.6971, Train Accuracy: 100.00%, Val Loss: 1.5739, Val Accuracy: 0.00%\n",
      "Epoch [27/100], Train Loss: 0.6855, Train Accuracy: 100.00%, Val Loss: 1.5763, Val Accuracy: 0.00%\n",
      "Epoch [28/100], Train Loss: 0.6741, Train Accuracy: 100.00%, Val Loss: 1.5786, Val Accuracy: 0.00%\n",
      "Epoch [29/100], Train Loss: 0.6630, Train Accuracy: 100.00%, Val Loss: 1.5809, Val Accuracy: 0.00%\n",
      "Epoch [30/100], Train Loss: 0.6521, Train Accuracy: 100.00%, Val Loss: 1.5832, Val Accuracy: 0.00%\n",
      "Epoch [31/100], Train Loss: 0.6415, Train Accuracy: 100.00%, Val Loss: 1.5855, Val Accuracy: 0.00%\n",
      "Epoch [32/100], Train Loss: 0.6312, Train Accuracy: 100.00%, Val Loss: 1.5877, Val Accuracy: 0.00%\n",
      "Epoch [33/100], Train Loss: 0.6210, Train Accuracy: 100.00%, Val Loss: 1.5900, Val Accuracy: 0.00%\n",
      "Epoch [34/100], Train Loss: 0.6112, Train Accuracy: 100.00%, Val Loss: 1.5922, Val Accuracy: 0.00%\n",
      "Epoch [35/100], Train Loss: 0.6015, Train Accuracy: 100.00%, Val Loss: 1.5943, Val Accuracy: 0.00%\n",
      "Epoch [36/100], Train Loss: 0.5921, Train Accuracy: 100.00%, Val Loss: 1.5965, Val Accuracy: 0.00%\n",
      "Epoch [37/100], Train Loss: 0.5828, Train Accuracy: 100.00%, Val Loss: 1.5986, Val Accuracy: 0.00%\n",
      "Epoch [38/100], Train Loss: 0.5738, Train Accuracy: 100.00%, Val Loss: 1.6008, Val Accuracy: 0.00%\n",
      "Epoch [39/100], Train Loss: 0.5650, Train Accuracy: 100.00%, Val Loss: 1.6029, Val Accuracy: 0.00%\n",
      "Epoch [40/100], Train Loss: 0.5564, Train Accuracy: 100.00%, Val Loss: 1.6049, Val Accuracy: 0.00%\n",
      "Epoch [41/100], Train Loss: 0.5480, Train Accuracy: 100.00%, Val Loss: 1.6070, Val Accuracy: 0.00%\n",
      "Epoch [42/100], Train Loss: 0.5398, Train Accuracy: 100.00%, Val Loss: 1.6091, Val Accuracy: 0.00%\n",
      "Epoch [43/100], Train Loss: 0.5318, Train Accuracy: 100.00%, Val Loss: 1.6111, Val Accuracy: 0.00%\n",
      "Epoch [44/100], Train Loss: 0.5239, Train Accuracy: 100.00%, Val Loss: 1.6131, Val Accuracy: 0.00%\n",
      "Epoch [45/100], Train Loss: 0.5163, Train Accuracy: 100.00%, Val Loss: 1.6151, Val Accuracy: 0.00%\n",
      "Epoch [46/100], Train Loss: 0.5088, Train Accuracy: 100.00%, Val Loss: 1.6170, Val Accuracy: 0.00%\n",
      "Epoch [47/100], Train Loss: 0.5014, Train Accuracy: 100.00%, Val Loss: 1.6190, Val Accuracy: 0.00%\n",
      "Epoch [48/100], Train Loss: 0.4943, Train Accuracy: 100.00%, Val Loss: 1.6209, Val Accuracy: 0.00%\n",
      "Epoch [49/100], Train Loss: 0.4873, Train Accuracy: 100.00%, Val Loss: 1.6228, Val Accuracy: 0.00%\n",
      "Epoch [50/100], Train Loss: 0.4804, Train Accuracy: 100.00%, Val Loss: 1.6247, Val Accuracy: 0.00%\n",
      "Epoch [51/100], Train Loss: 0.4737, Train Accuracy: 100.00%, Val Loss: 1.6266, Val Accuracy: 0.00%\n",
      "Epoch [52/100], Train Loss: 0.4671, Train Accuracy: 100.00%, Val Loss: 1.6285, Val Accuracy: 0.00%\n",
      "Epoch [53/100], Train Loss: 0.4607, Train Accuracy: 100.00%, Val Loss: 1.6303, Val Accuracy: 0.00%\n",
      "Epoch [54/100], Train Loss: 0.4544, Train Accuracy: 100.00%, Val Loss: 1.6322, Val Accuracy: 0.00%\n",
      "Epoch [55/100], Train Loss: 0.4483, Train Accuracy: 100.00%, Val Loss: 1.6340, Val Accuracy: 0.00%\n",
      "Epoch [56/100], Train Loss: 0.4423, Train Accuracy: 100.00%, Val Loss: 1.6358, Val Accuracy: 0.00%\n",
      "Epoch [57/100], Train Loss: 0.4364, Train Accuracy: 100.00%, Val Loss: 1.6375, Val Accuracy: 0.00%\n",
      "Epoch [58/100], Train Loss: 0.4306, Train Accuracy: 100.00%, Val Loss: 1.6393, Val Accuracy: 0.00%\n",
      "Epoch [59/100], Train Loss: 0.4250, Train Accuracy: 100.00%, Val Loss: 1.6411, Val Accuracy: 0.00%\n",
      "Epoch [60/100], Train Loss: 0.4194, Train Accuracy: 100.00%, Val Loss: 1.6428, Val Accuracy: 0.00%\n",
      "Epoch [61/100], Train Loss: 0.4140, Train Accuracy: 100.00%, Val Loss: 1.6445, Val Accuracy: 0.00%\n",
      "Epoch [62/100], Train Loss: 0.4087, Train Accuracy: 100.00%, Val Loss: 1.6462, Val Accuracy: 0.00%\n",
      "Epoch [63/100], Train Loss: 0.4035, Train Accuracy: 100.00%, Val Loss: 1.6479, Val Accuracy: 0.00%\n",
      "Epoch [64/100], Train Loss: 0.3985, Train Accuracy: 100.00%, Val Loss: 1.6496, Val Accuracy: 0.00%\n",
      "Epoch [65/100], Train Loss: 0.3935, Train Accuracy: 100.00%, Val Loss: 1.6512, Val Accuracy: 0.00%\n",
      "Epoch [66/100], Train Loss: 0.3886, Train Accuracy: 100.00%, Val Loss: 1.6529, Val Accuracy: 0.00%\n",
      "Epoch [67/100], Train Loss: 0.3838, Train Accuracy: 100.00%, Val Loss: 1.6545, Val Accuracy: 0.00%\n",
      "Epoch [68/100], Train Loss: 0.3792, Train Accuracy: 100.00%, Val Loss: 1.6561, Val Accuracy: 0.00%\n",
      "Epoch [69/100], Train Loss: 0.3746, Train Accuracy: 100.00%, Val Loss: 1.6577, Val Accuracy: 0.00%\n",
      "Epoch [70/100], Train Loss: 0.3701, Train Accuracy: 100.00%, Val Loss: 1.6593, Val Accuracy: 0.00%\n",
      "Epoch [71/100], Train Loss: 0.3657, Train Accuracy: 100.00%, Val Loss: 1.6609, Val Accuracy: 0.00%\n",
      "Epoch [72/100], Train Loss: 0.3613, Train Accuracy: 100.00%, Val Loss: 1.6625, Val Accuracy: 0.00%\n",
      "Epoch [73/100], Train Loss: 0.3571, Train Accuracy: 100.00%, Val Loss: 1.6640, Val Accuracy: 0.00%\n",
      "Epoch [74/100], Train Loss: 0.3529, Train Accuracy: 100.00%, Val Loss: 1.6655, Val Accuracy: 0.00%\n",
      "Epoch [75/100], Train Loss: 0.3489, Train Accuracy: 100.00%, Val Loss: 1.6671, Val Accuracy: 0.00%\n",
      "Epoch [76/100], Train Loss: 0.3449, Train Accuracy: 100.00%, Val Loss: 1.6686, Val Accuracy: 0.00%\n",
      "Epoch [77/100], Train Loss: 0.3410, Train Accuracy: 100.00%, Val Loss: 1.6701, Val Accuracy: 0.00%\n",
      "Epoch [78/100], Train Loss: 0.3371, Train Accuracy: 100.00%, Val Loss: 1.6716, Val Accuracy: 0.00%\n",
      "Epoch [79/100], Train Loss: 0.3333, Train Accuracy: 100.00%, Val Loss: 1.6730, Val Accuracy: 0.00%\n",
      "Epoch [80/100], Train Loss: 0.3296, Train Accuracy: 100.00%, Val Loss: 1.6745, Val Accuracy: 0.00%\n",
      "Epoch [81/100], Train Loss: 0.3260, Train Accuracy: 100.00%, Val Loss: 1.6759, Val Accuracy: 0.00%\n",
      "Epoch [82/100], Train Loss: 0.3224, Train Accuracy: 100.00%, Val Loss: 1.6774, Val Accuracy: 0.00%\n",
      "Epoch [83/100], Train Loss: 0.3189, Train Accuracy: 100.00%, Val Loss: 1.6788, Val Accuracy: 0.00%\n",
      "Epoch [84/100], Train Loss: 0.3155, Train Accuracy: 100.00%, Val Loss: 1.6802, Val Accuracy: 0.00%\n",
      "Epoch [85/100], Train Loss: 0.3121, Train Accuracy: 100.00%, Val Loss: 1.6816, Val Accuracy: 0.00%\n",
      "Epoch [86/100], Train Loss: 0.3088, Train Accuracy: 100.00%, Val Loss: 1.6830, Val Accuracy: 0.00%\n",
      "Epoch [87/100], Train Loss: 0.3056, Train Accuracy: 100.00%, Val Loss: 1.6844, Val Accuracy: 0.00%\n",
      "Epoch [88/100], Train Loss: 0.3024, Train Accuracy: 100.00%, Val Loss: 1.6858, Val Accuracy: 0.00%\n",
      "Epoch [89/100], Train Loss: 0.2993, Train Accuracy: 100.00%, Val Loss: 1.6872, Val Accuracy: 0.00%\n",
      "Epoch [90/100], Train Loss: 0.2962, Train Accuracy: 100.00%, Val Loss: 1.6885, Val Accuracy: 0.00%\n",
      "Epoch [91/100], Train Loss: 0.2931, Train Accuracy: 100.00%, Val Loss: 1.6898, Val Accuracy: 0.00%\n",
      "Epoch [92/100], Train Loss: 0.2902, Train Accuracy: 100.00%, Val Loss: 1.6912, Val Accuracy: 0.00%\n",
      "Epoch [93/100], Train Loss: 0.2873, Train Accuracy: 100.00%, Val Loss: 1.6925, Val Accuracy: 0.00%\n",
      "Epoch [94/100], Train Loss: 0.2844, Train Accuracy: 100.00%, Val Loss: 1.6938, Val Accuracy: 0.00%\n",
      "Epoch [95/100], Train Loss: 0.2816, Train Accuracy: 100.00%, Val Loss: 1.6951, Val Accuracy: 0.00%\n",
      "Epoch [96/100], Train Loss: 0.2788, Train Accuracy: 100.00%, Val Loss: 1.6964, Val Accuracy: 0.00%\n",
      "Epoch [97/100], Train Loss: 0.2761, Train Accuracy: 100.00%, Val Loss: 1.6977, Val Accuracy: 0.00%\n",
      "Epoch [98/100], Train Loss: 0.2734, Train Accuracy: 100.00%, Val Loss: 1.6990, Val Accuracy: 0.00%\n",
      "Epoch [99/100], Train Loss: 0.2707, Train Accuracy: 100.00%, Val Loss: 1.7002, Val Accuracy: 0.00%\n",
      "Epoch [100/100], Train Loss: 0.2682, Train Accuracy: 100.00%, Val Loss: 1.7015, Val Accuracy: 0.00%\n"
     ]
    }
   ],
   "source": [
    "def test_train_loop():\n",
    "    import torch.nn as nn\n",
    "    import torch.optim as optim\n",
    "    import torch.utils.data as data\n",
    "\n",
    "    # init simple model, optimizer, loss_fn, dataloaders\n",
    "    linear_model = nn.Linear(2, 3)\n",
    "    optimizer = optim.SGD(linear_model.parameters(), lr=0.01)\n",
    "    loss_fn = nn.CrossEntropyLoss()\n",
    "    testing_loader_train = data.DataLoader(\n",
    "        data.TensorDataset(torch.randn(2, 2), torch.randint(0, 3, (2,)))\n",
    "    )\n",
    "    testing_loader_val = data.DataLoader(\n",
    "        data.TensorDataset(torch.randn(2, 2), torch.randint(0, 3, (2,)))\n",
    "    )\n",
    "\n",
    "    # copy parameters to check for changes\n",
    "    params_before_training = list(linear_model.parameters())\n",
    "    params_before_training = [p.clone().to(\"cpu\") for p in params_before_training]\n",
    "\n",
    "    print(\"Testing training loop, CPU\")\n",
    "    train_model(\n",
    "        model=linear_model,\n",
    "        optimizer=optimizer,\n",
    "        loss_fn=loss_fn,\n",
    "        num_epochs=100,\n",
    "        train_dataloader=testing_loader_train,\n",
    "        val_dataloader=testing_loader_val,\n",
    "        device=\"cpu\",\n",
    "    )\n",
    "    if torch.cuda.is_available():\n",
    "        print(\"Testing training loop, CUDA\")\n",
    "        train_model(\n",
    "            model=linear_model,\n",
    "            optimizer=optimizer,\n",
    "            loss_fn=loss_fn,\n",
    "            num_epochs=100,\n",
    "            train_dataloader=testing_loader_train,\n",
    "            val_dataloader=testing_loader_val,\n",
    "            device=\"cuda\" if torch.cuda.is_available() else \"cpu\",\n",
    "        )\n",
    "\n",
    "    params_after_training = list(linear_model.parameters())\n",
    "    params_after_training = [p.clone().to(\"cpu\") for p in params_after_training]\n",
    "    for p_before, p_after in zip(params_before_training, params_after_training):\n",
    "        assert torch.any(\n",
    "            p_before != p_after\n",
    "        ), \"Model parameters did not change during training\"\n",
    "\n",
    "    # check that we could overfit a single example\n",
    "    (x, y) = next(iter(testing_loader_train))\n",
    "    x.to(\"cpu\")\n",
    "    y.to(\"cpu\")\n",
    "    linear_model.to(\"cpu\")\n",
    "    assert (\n",
    "        linear_model(x).argmax().item() == y.item()\n",
    "    ), \"Model could not overfit a single example\"\n",
    "\n",
    "\n",
    "def test_accuracy():\n",
    "    y_pred = torch.tensor([[0.1, 0.8, 0.1], [0.3, 0.4, 0.3], [0.1, 0.1, 0.8]])\n",
    "    y_true = torch.tensor([1, 0, 2])\n",
    "    acc = accuracy(y_pred, y_true)\n",
    "    assert isinstance(acc, torch.Tensor), \"Accuracy should be a torch.Tensor\"\n",
    "    assert torch.isclose(acc, torch.tensor(2 / 3)), f\"Accuracy is {acc}, expected 2/3\"\n",
    "\n",
    "\n",
    "try:\n",
    "    test_train_loop()\n",
    "except Exception as e:\n",
    "    print(e)\n",
    "    assert False, \"Training test failed, see error above\"\n",
    "\n",
    "test_accuracy()"
   ]
  },
  {
   "cell_type": "markdown",
   "metadata": {
    "deletable": false,
    "editable": false,
    "nbgrader": {
     "cell_type": "markdown",
     "checksum": "bd84899c109e58d0664fc4fab26425a2",
     "grade": false,
     "grade_id": "cell-a13a4a8eef1c582f",
     "locked": true,
     "schema_version": 3,
     "solution": false,
     "task": false
    }
   },
   "source": [
    "Now, create a neural network using PyTorch. You can use any architecture you want. Save the model in the variable `model`."
   ]
  },
  {
   "cell_type": "code",
   "execution_count": 287,
   "metadata": {
    "deletable": false,
    "nbgrader": {
     "cell_type": "code",
     "checksum": "ccbab415641442556c01ed5667f4ea77",
     "grade": false,
     "grade_id": "cell-dff32f0d1dd91a72",
     "locked": false,
     "schema_version": 3,
     "solution": true,
     "task": false
    }
   },
   "outputs": [
    {
     "name": "stdout",
     "output_type": "stream",
     "text": [
      "NeuralNetwork(\n",
      "  (fc1): Linear(in_features=2, out_features=128, bias=True)\n",
      "  (fc2): Linear(in_features=128, out_features=64, bias=True)\n",
      "  (fc3): Linear(in_features=64, out_features=32, bias=True)\n",
      "  (fc4): Linear(in_features=32, out_features=3, bias=True)\n",
      ")\n"
     ]
    }
   ],
   "source": [
    "# A neural network model with 4 fully connected layers and batch normalization after each layer \n",
    "class NeuralNetwork(nn.Module):\n",
    "    # Initialization of the layers in the model\n",
    "    def __init__(self, input_size, num_classes):\n",
    "        super(NeuralNetwork, self).__init__()\n",
    "        self.fc1 = nn.Linear(input_size, 128)    \n",
    "        self.fc2 = nn.Linear(128, 64)\n",
    "        self.fc3 = nn.Linear(64, 32)\n",
    "        self.fc4 = nn.Linear(32, num_classes)\n",
    "    \n",
    "    # Forward pass\n",
    "    def forward(self, x):\n",
    "        x = torch.relu(self.fc1(x))\n",
    "        # x = nn.BatchNorm1d(128)(x)\n",
    "        x = torch.relu(self.fc2(x))\n",
    "        # x = nn.BatchNorm1d(64)(x)\n",
    "        x = torch.relu(self.fc3(x))\n",
    "        # x = nn.BatchNorm1d(32)(x) \n",
    "        x = torch.softmax(self.fc4(x), dim=1)\n",
    "        return x\n",
    "    \n",
    "# Initialize the model (input_size=2 for longitude and latitude, num_classes=3 for the 3 pokemon classes)\n",
    "model = NeuralNetwork(input_size=2, num_classes=3)\n",
    "\n",
    "# Move the model to the GPU if available\n",
    "device = torch.device(\"cuda\" if torch.cuda.is_available() else \"cpu\")\n",
    "model.to(device)\n",
    "\n",
    "print(model)"
   ]
  },
  {
   "cell_type": "code",
   "execution_count": 288,
   "metadata": {
    "deletable": false,
    "editable": false,
    "nbgrader": {
     "cell_type": "code",
     "checksum": "8d10331a48b8b11d2d2056d610b13b7f",
     "grade": true,
     "grade_id": "cell-a3f55091f5cbbdfe",
     "locked": true,
     "points": 1,
     "schema_version": 3,
     "solution": false,
     "task": false
    }
   },
   "outputs": [],
   "source": [
    "assert isinstance(model, nn.Module)\n",
    "\n",
    "\n",
    "# check that we can run input of shape (batch_size, 2) through the model, with batch_size=16\n",
    "def test_model_output_shape(model):\n",
    "    is_model_on_cuda = next(model.parameters()).is_cuda\n",
    "    device = torch.device(\"cuda\" if is_model_on_cuda else \"cpu\")\n",
    "    assert (\n",
    "        len(model(torch.randn(16, 2, device=device))) == 16\n",
    "    ), \"The model should not change the batch size\"\n",
    "\n",
    "\n",
    "test_model_output_shape(model)"
   ]
  },
  {
   "cell_type": "markdown",
   "metadata": {
    "deletable": false,
    "editable": false,
    "nbgrader": {
     "cell_type": "markdown",
     "checksum": "de0dda92011c512396593caba091db79",
     "grade": false,
     "grade_id": "cell-d91e1230c6b9225d",
     "locked": true,
     "schema_version": 3,
     "solution": false
    }
   },
   "source": [
    "Train the network. \n",
    "\n",
    "For you to pass this assignment, you must obtain an accuracy on the test set greater than 60%. You can use the validation set as a proxy during development, but remember that they can differ slightly. We use the test set, as this better represents the performance of the model on new, unseen data (which is the ultimate goal).\n",
    "\n",
    "To reach the level of performance, it may be necessary to search for a good architecture by trying several different ones. Last, if you want a challenge, try getting an accuracy greater than 75% (our reference solution achieves ~78%).\n",
    "\n",
    "Again, it might be useful to plot the loss and accuracy (for training and validation) during training."
   ]
  },
  {
   "cell_type": "code",
   "execution_count": 289,
   "metadata": {
    "deletable": false,
    "nbgrader": {
     "cell_type": "code",
     "checksum": "335efaf08cc5e4593fe97659a126cd84",
     "grade": false,
     "grade_id": "cell-711ca3d58ad725b4",
     "locked": false,
     "schema_version": 3,
     "solution": true,
     "task": false
    }
   },
   "outputs": [
    {
     "name": "stdout",
     "output_type": "stream",
     "text": [
      "Epoch [1/100], Train Loss: 1.0965, Train Accuracy: 31.16%, Val Loss: 1.0952, Val Accuracy: 23.52%\n",
      "Epoch [2/100], Train Loss: 1.0858, Train Accuracy: 41.39%, Val Loss: 1.0881, Val Accuracy: 42.55%\n",
      "Epoch [3/100], Train Loss: 1.0760, Train Accuracy: 52.27%, Val Loss: 1.0831, Val Accuracy: 42.94%\n",
      "Epoch [4/100], Train Loss: 1.0589, Train Accuracy: 54.02%, Val Loss: 1.0785, Val Accuracy: 43.03%\n",
      "Epoch [5/100], Train Loss: 1.0438, Train Accuracy: 55.91%, Val Loss: 1.0751, Val Accuracy: 43.13%\n",
      "Epoch [6/100], Train Loss: 1.0391, Train Accuracy: 53.60%, Val Loss: 1.0722, Val Accuracy: 43.62%\n",
      "Epoch [7/100], Train Loss: 1.0278, Train Accuracy: 52.58%, Val Loss: 1.0698, Val Accuracy: 44.30%\n",
      "Epoch [8/100], Train Loss: 1.0060, Train Accuracy: 56.03%, Val Loss: 1.0676, Val Accuracy: 44.99%\n",
      "Epoch [9/100], Train Loss: 0.9956, Train Accuracy: 57.65%, Val Loss: 1.0650, Val Accuracy: 45.57%\n",
      "Epoch [10/100], Train Loss: 0.9838, Train Accuracy: 59.03%, Val Loss: 1.0612, Val Accuracy: 46.35%\n",
      "Epoch [11/100], Train Loss: 0.9692, Train Accuracy: 63.51%, Val Loss: 1.0558, Val Accuracy: 46.84%\n",
      "Epoch [12/100], Train Loss: 0.9824, Train Accuracy: 61.88%, Val Loss: 1.0486, Val Accuracy: 47.53%\n",
      "Epoch [13/100], Train Loss: 0.9578, Train Accuracy: 66.00%, Val Loss: 1.0397, Val Accuracy: 47.23%\n",
      "Epoch [14/100], Train Loss: 0.9436, Train Accuracy: 66.36%, Val Loss: 1.0293, Val Accuracy: 47.14%\n",
      "Epoch [15/100], Train Loss: 0.9372, Train Accuracy: 66.28%, Val Loss: 1.0166, Val Accuracy: 52.50%\n",
      "Epoch [16/100], Train Loss: 0.9333, Train Accuracy: 62.77%, Val Loss: 1.0018, Val Accuracy: 51.91%\n",
      "Epoch [17/100], Train Loss: 0.9159, Train Accuracy: 66.81%, Val Loss: 0.9889, Val Accuracy: 52.59%\n",
      "Epoch [18/100], Train Loss: 0.9212, Train Accuracy: 62.71%, Val Loss: 0.9790, Val Accuracy: 51.42%\n",
      "Epoch [19/100], Train Loss: 0.9100, Train Accuracy: 63.53%, Val Loss: 0.9711, Val Accuracy: 57.17%\n",
      "Epoch [20/100], Train Loss: 0.9103, Train Accuracy: 63.83%, Val Loss: 0.9640, Val Accuracy: 57.86%\n",
      "Epoch [21/100], Train Loss: 0.8903, Train Accuracy: 65.22%, Val Loss: 0.9586, Val Accuracy: 57.95%\n",
      "Epoch [22/100], Train Loss: 0.9060, Train Accuracy: 62.69%, Val Loss: 0.9570, Val Accuracy: 57.86%\n",
      "Epoch [23/100], Train Loss: 0.8922, Train Accuracy: 63.42%, Val Loss: 0.9589, Val Accuracy: 52.98%\n",
      "Epoch [24/100], Train Loss: 0.8850, Train Accuracy: 68.11%, Val Loss: 0.9571, Val Accuracy: 59.22%\n",
      "Epoch [25/100], Train Loss: 0.8872, Train Accuracy: 65.78%, Val Loss: 0.9508, Val Accuracy: 52.59%\n",
      "Epoch [26/100], Train Loss: 0.8759, Train Accuracy: 65.87%, Val Loss: 0.9458, Val Accuracy: 58.25%\n",
      "Epoch [27/100], Train Loss: 0.8792, Train Accuracy: 63.96%, Val Loss: 0.9426, Val Accuracy: 58.34%\n",
      "Epoch [28/100], Train Loss: 0.8654, Train Accuracy: 66.30%, Val Loss: 0.9399, Val Accuracy: 52.98%\n",
      "Epoch [29/100], Train Loss: 0.8689, Train Accuracy: 66.16%, Val Loss: 0.9389, Val Accuracy: 53.08%\n",
      "Epoch [30/100], Train Loss: 0.8694, Train Accuracy: 66.57%, Val Loss: 0.9336, Val Accuracy: 53.37%\n",
      "Epoch [31/100], Train Loss: 0.8627, Train Accuracy: 67.61%, Val Loss: 0.9279, Val Accuracy: 59.13%\n",
      "Epoch [32/100], Train Loss: 0.8610, Train Accuracy: 67.32%, Val Loss: 0.9248, Val Accuracy: 59.22%\n",
      "Epoch [33/100], Train Loss: 0.8668, Train Accuracy: 66.00%, Val Loss: 0.9240, Val Accuracy: 59.32%\n",
      "Epoch [34/100], Train Loss: 0.8579, Train Accuracy: 66.70%, Val Loss: 0.9198, Val Accuracy: 59.32%\n",
      "Epoch [35/100], Train Loss: 0.8557, Train Accuracy: 68.44%, Val Loss: 0.9196, Val Accuracy: 67.22%\n",
      "Epoch [36/100], Train Loss: 0.8493, Train Accuracy: 71.28%, Val Loss: 0.9254, Val Accuracy: 60.59%\n",
      "Epoch [37/100], Train Loss: 0.8680, Train Accuracy: 68.12%, Val Loss: 0.9237, Val Accuracy: 60.69%\n",
      "Epoch [38/100], Train Loss: 0.8504, Train Accuracy: 70.73%, Val Loss: 0.9153, Val Accuracy: 67.42%\n",
      "Epoch [39/100], Train Loss: 0.8573, Train Accuracy: 71.27%, Val Loss: 0.9104, Val Accuracy: 68.20%\n",
      "Epoch [40/100], Train Loss: 0.8343, Train Accuracy: 74.46%, Val Loss: 0.9149, Val Accuracy: 67.12%\n",
      "Epoch [41/100], Train Loss: 0.8329, Train Accuracy: 73.15%, Val Loss: 0.9209, Val Accuracy: 61.27%\n",
      "Epoch [42/100], Train Loss: 0.8541, Train Accuracy: 70.41%, Val Loss: 0.9159, Val Accuracy: 61.37%\n",
      "Epoch [43/100], Train Loss: 0.8480, Train Accuracy: 71.19%, Val Loss: 0.9082, Val Accuracy: 67.61%\n",
      "Epoch [44/100], Train Loss: 0.8440, Train Accuracy: 72.81%, Val Loss: 0.9054, Val Accuracy: 68.20%\n",
      "Epoch [45/100], Train Loss: 0.8342, Train Accuracy: 73.85%, Val Loss: 0.9074, Val Accuracy: 67.90%\n",
      "Epoch [46/100], Train Loss: 0.8391, Train Accuracy: 72.34%, Val Loss: 0.9103, Val Accuracy: 67.22%\n",
      "Epoch [47/100], Train Loss: 0.8175, Train Accuracy: 73.99%, Val Loss: 0.9056, Val Accuracy: 68.00%\n",
      "Epoch [48/100], Train Loss: 0.8403, Train Accuracy: 72.78%, Val Loss: 0.8987, Val Accuracy: 68.20%\n",
      "Epoch [49/100], Train Loss: 0.8365, Train Accuracy: 73.20%, Val Loss: 0.9015, Val Accuracy: 68.29%\n",
      "Epoch [50/100], Train Loss: 0.8430, Train Accuracy: 72.08%, Val Loss: 0.9097, Val Accuracy: 61.86%\n",
      "Epoch [51/100], Train Loss: 0.8191, Train Accuracy: 73.97%, Val Loss: 0.9094, Val Accuracy: 61.86%\n",
      "Epoch [52/100], Train Loss: 0.8252, Train Accuracy: 73.38%, Val Loss: 0.9018, Val Accuracy: 68.20%\n",
      "Epoch [53/100], Train Loss: 0.8217, Train Accuracy: 74.19%, Val Loss: 0.8973, Val Accuracy: 68.20%\n",
      "Epoch [54/100], Train Loss: 0.8471, Train Accuracy: 71.52%, Val Loss: 0.8991, Val Accuracy: 68.20%\n",
      "Epoch [55/100], Train Loss: 0.8265, Train Accuracy: 73.35%, Val Loss: 0.9054, Val Accuracy: 62.15%\n",
      "Epoch [56/100], Train Loss: 0.8168, Train Accuracy: 73.65%, Val Loss: 0.9038, Val Accuracy: 67.81%\n",
      "Epoch [57/100], Train Loss: 0.8306, Train Accuracy: 73.07%, Val Loss: 0.8952, Val Accuracy: 68.20%\n",
      "Epoch [58/100], Train Loss: 0.8236, Train Accuracy: 73.77%, Val Loss: 0.8898, Val Accuracy: 68.20%\n",
      "Epoch [59/100], Train Loss: 0.8098, Train Accuracy: 75.24%, Val Loss: 0.8919, Val Accuracy: 68.20%\n",
      "Epoch [60/100], Train Loss: 0.8178, Train Accuracy: 74.19%, Val Loss: 0.8954, Val Accuracy: 68.29%\n",
      "Epoch [61/100], Train Loss: 0.8333, Train Accuracy: 72.42%, Val Loss: 0.8970, Val Accuracy: 68.20%\n",
      "Epoch [62/100], Train Loss: 0.8193, Train Accuracy: 74.04%, Val Loss: 0.8927, Val Accuracy: 68.39%\n",
      "Epoch [63/100], Train Loss: 0.8031, Train Accuracy: 75.86%, Val Loss: 0.8906, Val Accuracy: 68.39%\n",
      "Epoch [64/100], Train Loss: 0.8301, Train Accuracy: 72.63%, Val Loss: 0.8888, Val Accuracy: 68.49%\n",
      "Epoch [65/100], Train Loss: 0.8267, Train Accuracy: 72.71%, Val Loss: 0.8889, Val Accuracy: 68.49%\n",
      "Epoch [66/100], Train Loss: 0.8208, Train Accuracy: 73.69%, Val Loss: 0.8914, Val Accuracy: 68.49%\n",
      "Epoch [67/100], Train Loss: 0.8177, Train Accuracy: 73.83%, Val Loss: 0.8886, Val Accuracy: 68.39%\n",
      "Epoch [68/100], Train Loss: 0.8212, Train Accuracy: 73.62%, Val Loss: 0.8856, Val Accuracy: 68.29%\n",
      "Epoch [69/100], Train Loss: 0.8326, Train Accuracy: 72.42%, Val Loss: 0.8854, Val Accuracy: 68.29%\n",
      "Epoch [70/100], Train Loss: 0.8267, Train Accuracy: 72.78%, Val Loss: 0.8886, Val Accuracy: 68.20%\n",
      "Epoch [71/100], Train Loss: 0.8092, Train Accuracy: 74.67%, Val Loss: 0.8900, Val Accuracy: 68.20%\n",
      "Epoch [72/100], Train Loss: 0.8199, Train Accuracy: 73.41%, Val Loss: 0.8884, Val Accuracy: 68.20%\n",
      "Epoch [73/100], Train Loss: 0.8188, Train Accuracy: 73.62%, Val Loss: 0.8892, Val Accuracy: 68.20%\n",
      "Epoch [74/100], Train Loss: 0.8143, Train Accuracy: 73.83%, Val Loss: 0.8904, Val Accuracy: 68.20%\n",
      "Epoch [75/100], Train Loss: 0.7986, Train Accuracy: 75.73%, Val Loss: 0.8911, Val Accuracy: 68.20%\n",
      "Epoch [76/100], Train Loss: 0.8190, Train Accuracy: 73.83%, Val Loss: 0.8863, Val Accuracy: 68.20%\n",
      "Epoch [77/100], Train Loss: 0.8225, Train Accuracy: 72.99%, Val Loss: 0.8822, Val Accuracy: 68.20%\n",
      "Epoch [78/100], Train Loss: 0.8160, Train Accuracy: 73.83%, Val Loss: 0.8843, Val Accuracy: 68.20%\n",
      "Epoch [79/100], Train Loss: 0.8121, Train Accuracy: 74.25%, Val Loss: 0.8868, Val Accuracy: 68.39%\n",
      "Epoch [80/100], Train Loss: 0.8079, Train Accuracy: 74.53%, Val Loss: 0.8839, Val Accuracy: 68.20%\n",
      "Epoch [81/100], Train Loss: 0.8254, Train Accuracy: 72.85%, Val Loss: 0.8862, Val Accuracy: 68.49%\n",
      "Epoch [82/100], Train Loss: 0.8189, Train Accuracy: 73.88%, Val Loss: 0.8902, Val Accuracy: 68.49%\n",
      "Epoch [83/100], Train Loss: 0.8257, Train Accuracy: 72.83%, Val Loss: 0.8873, Val Accuracy: 68.49%\n",
      "Epoch [84/100], Train Loss: 0.8147, Train Accuracy: 74.09%, Val Loss: 0.8822, Val Accuracy: 68.39%\n",
      "Epoch [85/100], Train Loss: 0.8033, Train Accuracy: 75.14%, Val Loss: 0.8808, Val Accuracy: 68.39%\n",
      "Epoch [86/100], Train Loss: 0.8405, Train Accuracy: 71.36%, Val Loss: 0.8842, Val Accuracy: 68.39%\n",
      "Epoch [87/100], Train Loss: 0.8068, Train Accuracy: 74.72%, Val Loss: 0.8890, Val Accuracy: 68.39%\n",
      "Epoch [88/100], Train Loss: 0.8207, Train Accuracy: 73.32%, Val Loss: 0.8850, Val Accuracy: 68.39%\n",
      "Epoch [89/100], Train Loss: 0.8019, Train Accuracy: 75.35%, Val Loss: 0.8825, Val Accuracy: 68.39%\n",
      "Epoch [90/100], Train Loss: 0.8171, Train Accuracy: 73.61%, Val Loss: 0.8820, Val Accuracy: 68.39%\n",
      "Epoch [91/100], Train Loss: 0.8162, Train Accuracy: 73.67%, Val Loss: 0.8851, Val Accuracy: 68.39%\n",
      "Epoch [92/100], Train Loss: 0.8292, Train Accuracy: 72.47%, Val Loss: 0.8858, Val Accuracy: 68.29%\n",
      "Epoch [93/100], Train Loss: 0.8160, Train Accuracy: 73.88%, Val Loss: 0.8798, Val Accuracy: 68.59%\n",
      "Epoch [94/100], Train Loss: 0.8062, Train Accuracy: 74.72%, Val Loss: 0.8755, Val Accuracy: 68.59%\n",
      "Epoch [95/100], Train Loss: 0.8070, Train Accuracy: 74.72%, Val Loss: 0.8760, Val Accuracy: 68.59%\n",
      "Epoch [96/100], Train Loss: 0.8201, Train Accuracy: 73.46%, Val Loss: 0.8795, Val Accuracy: 68.68%\n",
      "Epoch [97/100], Train Loss: 0.8263, Train Accuracy: 72.62%, Val Loss: 0.8859, Val Accuracy: 68.59%\n",
      "Epoch [98/100], Train Loss: 0.8054, Train Accuracy: 74.93%, Val Loss: 0.8843, Val Accuracy: 68.68%\n",
      "Epoch [99/100], Train Loss: 0.8292, Train Accuracy: 72.13%, Val Loss: 0.8764, Val Accuracy: 68.68%\n",
      "Epoch [100/100], Train Loss: 0.7993, Train Accuracy: 75.35%, Val Loss: 0.8747, Val Accuracy: 68.68%\n"
     ]
    }
   ],
   "source": [
    "epochs = 100\n",
    "learning_rate = 1e-3\n",
    "\n",
    "# Define the loss function and optimizer\n",
    "loss_fn = nn.CrossEntropyLoss()\n",
    "optimizer = torch.optim.Adam(model.parameters(), lr=learning_rate)\n",
    "\n",
    "# Train the model\n",
    "train_losses, val_losses, train_accuracies, val_accuracies = train_model(\n",
    "    model=model,\n",
    "    optimizer=optimizer,\n",
    "    loss_fn=loss_fn,\n",
    "    num_epochs=epochs,\n",
    "    train_dataloader=loader_train,\n",
    "    val_dataloader=loader_val,\n",
    "    device=device,\n",
    ")\n"
   ]
  },
  {
   "cell_type": "markdown",
   "metadata": {
    "deletable": false,
    "editable": false,
    "nbgrader": {
     "cell_type": "markdown",
     "checksum": "0ed7706ede3cdfcebbe0b86290eed0b0",
     "grade": false,
     "grade_id": "cell-f0963d119d02b778",
     "locked": true,
     "schema_version": 3,
     "solution": false,
     "task": false
    }
   },
   "source": [
    "Let's have a look at what we have learned! Create a function that visualizes the decision regions of the network. Overlap it with the points corresponding to the training data and validations data, such as in Section 2, by using the scatter plot function. The training and validation points should have different markers and/or colors. Last, call the function to visualize the decision regions of your network.\n",
    "\n",
    "Hint: A simple way to show the decision region is to generate a lot of points within a predefined range of longitude and latitude and apply your network to it. However, feel free to explore other ways."
   ]
  },
  {
   "cell_type": "code",
   "execution_count": 255,
   "metadata": {
    "deletable": false,
    "nbgrader": {
     "cell_type": "code",
     "checksum": "7aa9ff47eb2e3bba211130138b992462",
     "grade": false,
     "grade_id": "cell-38b52ac21b7b7100",
     "locked": false,
     "schema_version": 3,
     "solution": true,
     "task": false
    }
   },
   "outputs": [
    {
     "data": {
      "image/png": "[encoded data removed]",
      "text/plain": [
       "<Figure size 1000x600 with 1 Axes>"
      ]
     },
     "metadata": {},
     "output_type": "display_data"
    }
   ],
   "source": [
    "def plot_decision_region(model: nn.Module, x_train, y_train, x_val, y_val):\n",
    "    \"\"\"\n",
    "    Plot the decision region of the model.\n",
    "\n",
    "    Args:\n",
    "    model: nn.Module: The trained model\n",
    "    x_train: The training features, use whatever representation you prefer (e.g. numpy array, torch.Tensor, dataset, dataloader)\n",
    "    y_train: The training labels, use whatever representation you prefer (e.g. numpy array, torch.Tensor, dataset, dataloader)\n",
    "    x_val: The validation features, use whatever representation you prefer (e.g. numpy array, torch.Tensor, dataset, dataloader)\n",
    "    y_val: The validation labels, use whatever representation you prefer (e.g. numpy array, torch.Tensor, dataset, dataloader)\n",
    "    \"\"\"\n",
    "    # YOUR CODE HERE\n",
    "    # Determine the range for the grid\n",
    "    x_min, x_max = x_train[:, 1].min() - 1, x_train[:, 1].max() + 1\n",
    "    y_min, y_max = x_train[:, 0].min() - 1, x_train[:, 0].max() + 1\n",
    "    \n",
    "    # Create a grid of points\n",
    "    xx, yy = np.meshgrid(np.linspace(x_min, x_max, 200),\n",
    "                         np.linspace(y_min, y_max, 200))\n",
    "    \n",
    "    # Flatten the grid to pass through the model\n",
    "    grid_points = np.c_[xx.ravel(), yy.ravel()]\n",
    "    \n",
    "    # Use the model to predict on the grid points\n",
    "    model.eval()\n",
    "    with torch.no_grad():\n",
    "        predictions = model(torch.tensor(grid_points, dtype=torch.float32))\n",
    "        predicted_classes = torch.argmax(predictions, dim=1).numpy()\n",
    "    \n",
    "    # Reshape the predictions to match the grid shape\n",
    "    predicted_classes = predicted_classes.reshape(xx.shape)\n",
    "    \n",
    "    cmap_light = ListedColormap(['#FFAAAA', '#AAFFAA', '#AAAAFF'])\n",
    "    cmap_bold = ListedColormap(['#FF0000', '#00FF00', '#0000FF'])\n",
    "\n",
    "    # Plot the decision regions\n",
    "    plt.figure(figsize=(10, 6))\n",
    "    plt.contourf(xx, yy, predicted_classes, alpha=0.3, cmap=cmap_light)\n",
    "    \n",
    "    # Overlay the training and validation data points\n",
    "    plt.scatter(x_train[:, 1], x_train[:, 0], c=y_train, cmap=cmap_bold, edgecolor='k', marker='o', label='Train Data')\n",
    "    plt.scatter(x_val[:, 1], x_val[:, 0], c=y_val, cmap=cmap_bold, edgecolor='k', marker='s', label='Validation Data')\n",
    "    \n",
    "    # Mapping of classes to names\n",
    "    pokemon_mapping = {0: 'Diglett', 1: 'Seel', 2: 'Tauros'}\n",
    "    \n",
    "    # Add custom legend for decision boundaries\n",
    "    boundary_colors = ['#FFAAAA', '#AAFFAA', '#AAAAFF']\n",
    "    boundary_patches = [mpatches.Patch(color=boundary_colors[i], label=f'{pokemon_mapping[i]}') for i in range(len(boundary_colors))]\n",
    "    \n",
    "    # Add labels, legend, and title\n",
    "    plt.xlabel('Longitude')\n",
    "    plt.ylabel('Latitude')\n",
    "    plt.legend(handles=boundary_patches + [plt.Line2D([0], [0], marker='o', color='w', markerfacecolor='black', markersize=10, label='Train Data'),\n",
    "                                           plt.Line2D([0], [0], marker='s', color='w', markerfacecolor='black', markersize=10, label='Validation Data')])\n",
    "    plt.title('Decision Regions with Training and Validation Data')\n",
    "    plt.show()\n",
    "\n",
    "# Call the function\n",
    "plot_decision_region(model, x_train, y_train, x_val, y_val)\n",
    "    "
   ]
  },
  {
   "cell_type": "markdown",
   "metadata": {
    "deletable": false,
    "editable": false,
    "nbgrader": {
     "cell_type": "markdown",
     "checksum": "b5fa85ea2a29fda505102ade681a780c",
     "grade": false,
     "grade_id": "cell-5bd22b55c4aecfa8",
     "locked": true,
     "schema_version": 3,
     "solution": false,
     "task": false
    }
   },
   "source": [
    "Do the learned decision regions look like you would expect? Can they be improved? In what sense, and how would that change your model? Please comment on your results. "
   ]
  },
  {
   "cell_type": "markdown",
   "metadata": {
    "deletable": false,
    "nbgrader": {
     "cell_type": "markdown",
     "checksum": "0e3a5bdcf2012e5e6a94fa67f3cf2e5e",
     "grade": true,
     "grade_id": "cell-d611e347ddec2871",
     "locked": false,
     "points": 0,
     "schema_version": 3,
     "solution": true,
     "task": false
    }
   },
   "source": [
    "\n",
    "**Your answer:** (fill in here)"
   ]
  },
  {
   "cell_type": "markdown",
   "metadata": {
    "deletable": false,
    "editable": false,
    "nbgrader": {
     "cell_type": "markdown",
     "checksum": "2d786c397dbdc99f25ccb68813feed32",
     "grade": false,
     "grade_id": "cell-383ffa6dc45f3da3",
     "locked": true,
     "schema_version": 3,
     "solution": false,
     "task": false
    }
   },
   "source": [
    "### 4.1. Model capacity and generalization\n",
    "\n",
    "Now we have all the neccessary tools to do a small experiment on model capacity and implications on generalization.\n",
    "\n",
    "Begin by defining a neural network `tiny_model` with a single linear layer and appropriate activation function. Then, train the network until convergence (should be fast)."
   ]
  },
  {
   "cell_type": "code",
   "execution_count": 256,
   "metadata": {
    "deletable": false,
    "nbgrader": {
     "cell_type": "code",
     "checksum": "23267595ed16c0c4b6d550280a68b430",
     "grade": false,
     "grade_id": "cell-00c94550168dad32",
     "locked": false,
     "schema_version": 3,
     "solution": true,
     "task": false
    }
   },
   "outputs": [
    {
     "data": {
      "text/plain": [
       "tiny_model(\n",
       "  (fc1): Linear(in_features=2, out_features=3, bias=True)\n",
       ")"
      ]
     },
     "execution_count": 256,
     "metadata": {},
     "output_type": "execute_result"
    }
   ],
   "source": [
    "# YOUR CODE HERE\n",
    "class tiny_model(nn.Module):\n",
    "    def __init__(self, input_size, num_classes):\n",
    "        super(tiny_model, self).__init__()\n",
    "        self.fc1 = nn.Linear(input_size, num_classes)\n",
    "\n",
    "    def forward(self, x):\n",
    "        x = torch.softmax(self.fc1(x), dim=1)\n",
    "        return x\n",
    "\n",
    "tiny_model = tiny_model(input_size=2, num_classes=3)\n",
    "device = torch.device(\"cuda\" if torch.cuda.is_available() else \"cpu\")\n",
    "tiny_model.to(device)"
   ]
  },
  {
   "cell_type": "code",
   "execution_count": 257,
   "metadata": {
    "deletable": false,
    "editable": false,
    "nbgrader": {
     "cell_type": "code",
     "checksum": "947da7271bc82b1962e4a2f151e38cc7",
     "grade": true,
     "grade_id": "cell-5177de76d9ba3b95",
     "locked": true,
     "points": 0,
     "schema_version": 3,
     "solution": false,
     "task": false
    }
   },
   "outputs": [],
   "source": [
    "assert isinstance(tiny_model, nn.Module), \"tiny_model should be a torch.nn.Module\"\n",
    "test_model_output_shape(tiny_model)"
   ]
  },
  {
   "cell_type": "markdown",
   "metadata": {
    "deletable": false,
    "editable": false,
    "nbgrader": {
     "cell_type": "markdown",
     "checksum": "5210c12d044cbd33369d11ff806d3713",
     "grade": false,
     "grade_id": "cell-08c57975b0623508",
     "locked": true,
     "schema_version": 3,
     "solution": false,
     "task": false
    }
   },
   "source": [
    "Now, draw the decision regions of the network as you did in the previous section. Before running the code, think about what you expect to see. What will the regions look like? How will they differ from the previous ones?"
   ]
  },
  {
   "cell_type": "code",
   "execution_count": 258,
   "metadata": {
    "deletable": false,
    "nbgrader": {
     "cell_type": "code",
     "checksum": "f3a85fa9cff45032547dc23821abf17a",
     "grade": false,
     "grade_id": "cell-54d26c4853bef495",
     "locked": false,
     "schema_version": 3,
     "solution": true,
     "task": false
    }
   },
   "outputs": [
    {
     "name": "stdout",
     "output_type": "stream",
     "text": [
      "Epoch [1/100], Train Loss: 1.0495, Train Accuracy: 29.74%, Val Loss: 1.0239, Val Accuracy: 40.86%\n",
      "Epoch [2/100], Train Loss: 1.0576, Train Accuracy: 27.28%, Val Loss: 1.0235, Val Accuracy: 40.86%\n",
      "Epoch [3/100], Train Loss: 1.0520, Train Accuracy: 28.82%, Val Loss: 1.0232, Val Accuracy: 41.25%\n",
      "Epoch [4/100], Train Loss: 1.0488, Train Accuracy: 30.17%, Val Loss: 1.0228, Val Accuracy: 41.25%\n",
      "Epoch [5/100], Train Loss: 1.0515, Train Accuracy: 29.17%, Val Loss: 1.0225, Val Accuracy: 46.81%\n",
      "Epoch [6/100], Train Loss: 1.0528, Train Accuracy: 29.07%, Val Loss: 1.0221, Val Accuracy: 47.10%\n",
      "Epoch [7/100], Train Loss: 1.0489, Train Accuracy: 28.73%, Val Loss: 1.0218, Val Accuracy: 47.20%\n",
      "Epoch [8/100], Train Loss: 1.0480, Train Accuracy: 28.62%, Val Loss: 1.0215, Val Accuracy: 47.69%\n",
      "Epoch [9/100], Train Loss: 1.0462, Train Accuracy: 31.34%, Val Loss: 1.0212, Val Accuracy: 48.08%\n",
      "Epoch [10/100], Train Loss: 1.0481, Train Accuracy: 29.43%, Val Loss: 1.0209, Val Accuracy: 48.08%\n",
      "Epoch [11/100], Train Loss: 1.0448, Train Accuracy: 32.57%, Val Loss: 1.0206, Val Accuracy: 48.57%\n",
      "Epoch [12/100], Train Loss: 1.0446, Train Accuracy: 31.06%, Val Loss: 1.0203, Val Accuracy: 49.25%\n",
      "Epoch [13/100], Train Loss: 1.0465, Train Accuracy: 32.50%, Val Loss: 1.0200, Val Accuracy: 49.54%\n",
      "Epoch [14/100], Train Loss: 1.0433, Train Accuracy: 34.00%, Val Loss: 1.0197, Val Accuracy: 49.45%\n",
      "Epoch [15/100], Train Loss: 1.0434, Train Accuracy: 32.91%, Val Loss: 1.0195, Val Accuracy: 49.93%\n",
      "Epoch [16/100], Train Loss: 1.0386, Train Accuracy: 35.24%, Val Loss: 1.0192, Val Accuracy: 50.42%\n",
      "Epoch [17/100], Train Loss: 1.0387, Train Accuracy: 35.57%, Val Loss: 1.0189, Val Accuracy: 50.52%\n",
      "Epoch [18/100], Train Loss: 1.0400, Train Accuracy: 35.93%, Val Loss: 1.0186, Val Accuracy: 45.84%\n",
      "Epoch [19/100], Train Loss: 1.0411, Train Accuracy: 36.36%, Val Loss: 1.0184, Val Accuracy: 45.84%\n",
      "Epoch [20/100], Train Loss: 1.0409, Train Accuracy: 38.21%, Val Loss: 1.0181, Val Accuracy: 45.84%\n",
      "Epoch [21/100], Train Loss: 1.0351, Train Accuracy: 38.42%, Val Loss: 1.0179, Val Accuracy: 45.45%\n",
      "Epoch [22/100], Train Loss: 1.0384, Train Accuracy: 35.29%, Val Loss: 1.0177, Val Accuracy: 45.36%\n",
      "Epoch [23/100], Train Loss: 1.0331, Train Accuracy: 37.40%, Val Loss: 1.0174, Val Accuracy: 45.06%\n",
      "Epoch [24/100], Train Loss: 1.0354, Train Accuracy: 37.49%, Val Loss: 1.0172, Val Accuracy: 39.51%\n",
      "Epoch [25/100], Train Loss: 1.0386, Train Accuracy: 36.80%, Val Loss: 1.0170, Val Accuracy: 39.41%\n",
      "Epoch [26/100], Train Loss: 1.0360, Train Accuracy: 37.83%, Val Loss: 1.0168, Val Accuracy: 39.61%\n",
      "Epoch [27/100], Train Loss: 1.0369, Train Accuracy: 35.87%, Val Loss: 1.0166, Val Accuracy: 40.58%\n",
      "Epoch [28/100], Train Loss: 1.0348, Train Accuracy: 37.09%, Val Loss: 1.0164, Val Accuracy: 40.48%\n",
      "Epoch [29/100], Train Loss: 1.0292, Train Accuracy: 39.73%, Val Loss: 1.0162, Val Accuracy: 41.75%\n",
      "Epoch [30/100], Train Loss: 1.0337, Train Accuracy: 41.49%, Val Loss: 1.0160, Val Accuracy: 42.14%\n",
      "Epoch [31/100], Train Loss: 1.0287, Train Accuracy: 40.18%, Val Loss: 1.0159, Val Accuracy: 42.14%\n",
      "Epoch [32/100], Train Loss: 1.0284, Train Accuracy: 41.78%, Val Loss: 1.0157, Val Accuracy: 42.05%\n",
      "Epoch [33/100], Train Loss: 1.0242, Train Accuracy: 42.98%, Val Loss: 1.0155, Val Accuracy: 42.73%\n",
      "Epoch [34/100], Train Loss: 1.0244, Train Accuracy: 42.95%, Val Loss: 1.0153, Val Accuracy: 42.83%\n",
      "Epoch [35/100], Train Loss: 1.0292, Train Accuracy: 42.04%, Val Loss: 1.0152, Val Accuracy: 42.83%\n",
      "Epoch [36/100], Train Loss: 1.0257, Train Accuracy: 42.82%, Val Loss: 1.0150, Val Accuracy: 42.73%\n",
      "Epoch [37/100], Train Loss: 1.0257, Train Accuracy: 41.57%, Val Loss: 1.0149, Val Accuracy: 42.73%\n",
      "Epoch [38/100], Train Loss: 1.0260, Train Accuracy: 42.20%, Val Loss: 1.0147, Val Accuracy: 42.83%\n",
      "Epoch [39/100], Train Loss: 1.0263, Train Accuracy: 41.56%, Val Loss: 1.0146, Val Accuracy: 42.73%\n",
      "Epoch [40/100], Train Loss: 1.0222, Train Accuracy: 41.70%, Val Loss: 1.0145, Val Accuracy: 42.63%\n",
      "Epoch [41/100], Train Loss: 1.0239, Train Accuracy: 41.30%, Val Loss: 1.0144, Val Accuracy: 42.73%\n",
      "Epoch [42/100], Train Loss: 1.0244, Train Accuracy: 42.06%, Val Loss: 1.0142, Val Accuracy: 42.73%\n",
      "Epoch [43/100], Train Loss: 1.0180, Train Accuracy: 42.68%, Val Loss: 1.0141, Val Accuracy: 43.32%\n",
      "Epoch [44/100], Train Loss: 1.0181, Train Accuracy: 44.90%, Val Loss: 1.0140, Val Accuracy: 43.32%\n",
      "Epoch [45/100], Train Loss: 1.0209, Train Accuracy: 43.70%, Val Loss: 1.0139, Val Accuracy: 43.32%\n",
      "Epoch [46/100], Train Loss: 1.0178, Train Accuracy: 44.27%, Val Loss: 1.0138, Val Accuracy: 43.51%\n",
      "Epoch [47/100], Train Loss: 1.0211, Train Accuracy: 42.86%, Val Loss: 1.0137, Val Accuracy: 43.51%\n",
      "Epoch [48/100], Train Loss: 1.0178, Train Accuracy: 42.86%, Val Loss: 1.0136, Val Accuracy: 43.51%\n",
      "Epoch [49/100], Train Loss: 1.0213, Train Accuracy: 42.02%, Val Loss: 1.0136, Val Accuracy: 43.61%\n",
      "Epoch [50/100], Train Loss: 1.0157, Train Accuracy: 42.72%, Val Loss: 1.0135, Val Accuracy: 43.61%\n",
      "Epoch [51/100], Train Loss: 1.0165, Train Accuracy: 45.30%, Val Loss: 1.0134, Val Accuracy: 43.61%\n",
      "Epoch [52/100], Train Loss: 1.0213, Train Accuracy: 43.83%, Val Loss: 1.0134, Val Accuracy: 43.61%\n",
      "Epoch [53/100], Train Loss: 1.0166, Train Accuracy: 43.83%, Val Loss: 1.0133, Val Accuracy: 43.61%\n",
      "Epoch [54/100], Train Loss: 1.0197, Train Accuracy: 43.33%, Val Loss: 1.0133, Val Accuracy: 49.95%\n",
      "Epoch [55/100], Train Loss: 1.0129, Train Accuracy: 46.07%, Val Loss: 1.0132, Val Accuracy: 50.04%\n",
      "Epoch [56/100], Train Loss: 1.0168, Train Accuracy: 45.57%, Val Loss: 1.0132, Val Accuracy: 50.14%\n",
      "Epoch [57/100], Train Loss: 1.0190, Train Accuracy: 43.86%, Val Loss: 1.0132, Val Accuracy: 50.34%\n",
      "Epoch [58/100], Train Loss: 1.0152, Train Accuracy: 46.16%, Val Loss: 1.0131, Val Accuracy: 50.43%\n",
      "Epoch [59/100], Train Loss: 1.0116, Train Accuracy: 45.80%, Val Loss: 1.0131, Val Accuracy: 50.63%\n",
      "Epoch [60/100], Train Loss: 1.0138, Train Accuracy: 46.27%, Val Loss: 1.0131, Val Accuracy: 50.92%\n",
      "Epoch [61/100], Train Loss: 1.0117, Train Accuracy: 48.38%, Val Loss: 1.0131, Val Accuracy: 51.02%\n",
      "Epoch [62/100], Train Loss: 1.0092, Train Accuracy: 49.24%, Val Loss: 1.0131, Val Accuracy: 51.31%\n",
      "Epoch [63/100], Train Loss: 1.0126, Train Accuracy: 49.41%, Val Loss: 1.0131, Val Accuracy: 51.70%\n",
      "Epoch [64/100], Train Loss: 1.0086, Train Accuracy: 49.80%, Val Loss: 1.0131, Val Accuracy: 52.19%\n",
      "Epoch [65/100], Train Loss: 1.0080, Train Accuracy: 51.06%, Val Loss: 1.0131, Val Accuracy: 52.29%\n",
      "Epoch [66/100], Train Loss: 1.0065, Train Accuracy: 52.12%, Val Loss: 1.0131, Val Accuracy: 52.29%\n",
      "Epoch [67/100], Train Loss: 1.0103, Train Accuracy: 52.54%, Val Loss: 1.0131, Val Accuracy: 52.29%\n",
      "Epoch [68/100], Train Loss: 1.0122, Train Accuracy: 50.29%, Val Loss: 1.0132, Val Accuracy: 52.29%\n",
      "Epoch [69/100], Train Loss: 1.0074, Train Accuracy: 51.13%, Val Loss: 1.0132, Val Accuracy: 52.29%\n",
      "Epoch [70/100], Train Loss: 1.0041, Train Accuracy: 51.34%, Val Loss: 1.0132, Val Accuracy: 52.29%\n",
      "Epoch [71/100], Train Loss: 1.0048, Train Accuracy: 50.92%, Val Loss: 1.0132, Val Accuracy: 52.29%\n",
      "Epoch [72/100], Train Loss: 1.0070, Train Accuracy: 51.13%, Val Loss: 1.0133, Val Accuracy: 52.29%\n",
      "Epoch [73/100], Train Loss: 1.0020, Train Accuracy: 51.13%, Val Loss: 1.0133, Val Accuracy: 52.29%\n",
      "Epoch [74/100], Train Loss: 1.0045, Train Accuracy: 52.81%, Val Loss: 1.0133, Val Accuracy: 52.29%\n",
      "Epoch [75/100], Train Loss: 1.0023, Train Accuracy: 51.34%, Val Loss: 1.0134, Val Accuracy: 52.29%\n",
      "Epoch [76/100], Train Loss: 1.0083, Train Accuracy: 49.66%, Val Loss: 1.0134, Val Accuracy: 52.29%\n",
      "Epoch [77/100], Train Loss: 1.0020, Train Accuracy: 53.02%, Val Loss: 1.0134, Val Accuracy: 52.29%\n",
      "Epoch [78/100], Train Loss: 1.0038, Train Accuracy: 50.92%, Val Loss: 1.0135, Val Accuracy: 52.29%\n",
      "Epoch [79/100], Train Loss: 1.0049, Train Accuracy: 49.45%, Val Loss: 1.0135, Val Accuracy: 52.29%\n",
      "Epoch [80/100], Train Loss: 1.0038, Train Accuracy: 50.56%, Val Loss: 1.0136, Val Accuracy: 52.68%\n",
      "Epoch [81/100], Train Loss: 1.0026, Train Accuracy: 52.04%, Val Loss: 1.0137, Val Accuracy: 52.68%\n",
      "Epoch [82/100], Train Loss: 1.0012, Train Accuracy: 52.25%, Val Loss: 1.0137, Val Accuracy: 52.68%\n",
      "Epoch [83/100], Train Loss: 1.0043, Train Accuracy: 49.45%, Val Loss: 1.0138, Val Accuracy: 52.48%\n",
      "Epoch [84/100], Train Loss: 1.0009, Train Accuracy: 53.25%, Val Loss: 1.0138, Val Accuracy: 52.39%\n",
      "Epoch [85/100], Train Loss: 1.0068, Train Accuracy: 48.34%, Val Loss: 1.0139, Val Accuracy: 52.39%\n",
      "Epoch [86/100], Train Loss: 1.0037, Train Accuracy: 49.61%, Val Loss: 1.0140, Val Accuracy: 52.39%\n",
      "Epoch [87/100], Train Loss: 0.9977, Train Accuracy: 51.50%, Val Loss: 1.0140, Val Accuracy: 52.39%\n",
      "Epoch [88/100], Train Loss: 0.9957, Train Accuracy: 50.03%, Val Loss: 1.0141, Val Accuracy: 52.39%\n",
      "Epoch [89/100], Train Loss: 1.0006, Train Accuracy: 49.82%, Val Loss: 1.0142, Val Accuracy: 52.39%\n",
      "Epoch [90/100], Train Loss: 0.9980, Train Accuracy: 50.87%, Val Loss: 1.0142, Val Accuracy: 52.39%\n",
      "Epoch [91/100], Train Loss: 1.0028, Train Accuracy: 50.45%, Val Loss: 1.0143, Val Accuracy: 52.39%\n",
      "Epoch [92/100], Train Loss: 0.9969, Train Accuracy: 51.29%, Val Loss: 1.0143, Val Accuracy: 46.83%\n",
      "Epoch [93/100], Train Loss: 0.9974, Train Accuracy: 49.69%, Val Loss: 1.0144, Val Accuracy: 46.83%\n",
      "Epoch [94/100], Train Loss: 0.9904, Train Accuracy: 52.42%, Val Loss: 1.0144, Val Accuracy: 46.73%\n",
      "Epoch [95/100], Train Loss: 0.9968, Train Accuracy: 52.21%, Val Loss: 1.0145, Val Accuracy: 46.64%\n",
      "Epoch [96/100], Train Loss: 0.9945, Train Accuracy: 49.83%, Val Loss: 1.0146, Val Accuracy: 46.64%\n",
      "Epoch [97/100], Train Loss: 0.9960, Train Accuracy: 50.04%, Val Loss: 1.0146, Val Accuracy: 46.64%\n",
      "Epoch [98/100], Train Loss: 0.9931, Train Accuracy: 51.30%, Val Loss: 1.0147, Val Accuracy: 46.64%\n",
      "Epoch [99/100], Train Loss: 0.9940, Train Accuracy: 52.15%, Val Loss: 1.0148, Val Accuracy: 46.64%\n",
      "Epoch [100/100], Train Loss: 0.9985, Train Accuracy: 49.41%, Val Loss: 1.0149, Val Accuracy: 46.64%\n"
     ]
    },
    {
     "data": {
      "image/png": "[encoded data removed]",
      "text/plain": [
       "<Figure size 1000x600 with 1 Axes>"
      ]
     },
     "metadata": {},
     "output_type": "display_data"
    }
   ],
   "source": [
    "# YOUR CODE HERE\n",
    "# Define the loss function and optimizer\n",
    "\n",
    "# Train the model\n",
    "epochs = 100\n",
    "learning_rate = 1e-3\n",
    "loss_fn = nn.CrossEntropyLoss()\n",
    "optimizer = torch.optim.Adam(tiny_model.parameters(), lr=learning_rate)\n",
    "\n",
    "train_losses, val_losses, train_accuracies, val_accuracies = train_model(\n",
    "    model=tiny_model,\n",
    "    optimizer=optimizer,\n",
    "    loss_fn=loss_fn,\n",
    "    num_epochs=epochs,\n",
    "    train_dataloader=loader_train,\n",
    "    val_dataloader=loader_val,\n",
    "    device=device,\n",
    ")\n",
    "\n",
    "plot_decision_region(tiny_model, x_train, y_train, x_val, y_val)"
   ]
  },
  {
   "cell_type": "markdown",
   "metadata": {
    "deletable": false,
    "editable": false,
    "nbgrader": {
     "cell_type": "markdown",
     "checksum": "f7dd25b5a822f76d673abd2c19d04214",
     "grade": false,
     "grade_id": "cell-60ac824096c93c40",
     "locked": true,
     "schema_version": 3,
     "solution": false,
     "task": false
    }
   },
   "source": [
    "Are the decision regions any different? Why/why not? What does this tell you about the model capacity and generalization?"
   ]
  },
  {
   "cell_type": "markdown",
   "metadata": {
    "deletable": false,
    "nbgrader": {
     "cell_type": "markdown",
     "checksum": "3fab04c63006230a270e8d4cb6de097c",
     "grade": true,
     "grade_id": "cell-366b5ee2a98cf990",
     "locked": false,
     "points": 0,
     "schema_version": 3,
     "solution": true,
     "task": false
    }
   },
   "source": [
    "**Your answer:** (fill in here)"
   ]
  },
  {
   "cell_type": "markdown",
   "metadata": {
    "deletable": false,
    "editable": false,
    "nbgrader": {
     "cell_type": "markdown",
     "checksum": "6e3581287819f1a7727aeed0aae5e3e8",
     "grade": false,
     "grade_id": "cell-9b64a4381757316b",
     "locked": true,
     "schema_version": 3,
     "solution": false,
     "task": false
    }
   },
   "source": [
    "Next, create a neural network `large_model` with many layers and/or hidden units. Try to maximize the training accuracy (0.7-0.8). Getting these models to converge might be a bit tricky, so you might have to adjust the learning rate, the optimizer, etc. Also, might be easier to have a wide model (large number of hidden units, say 1024 per layer) than a deep model (more than 4 layers).\n",
    "\n",
    "Feel free to experiment, but if you get stuck, our model is a MLP with an input layer, 4 hidden layers with 1024 units each, and an output layer. We used the ReLU activation function between each layer and a softmax for the output layer. We used the Adam optimizer with a learning rate of 0.003 and a batch size of 512. We trained for at least a few hundred epochs. Also, normalizing the input can be helpful (zero mean and unit variance)."
   ]
  },
  {
   "cell_type": "code",
   "execution_count": 297,
   "metadata": {
    "deletable": false,
    "nbgrader": {
     "cell_type": "code",
     "checksum": "9f70d4de2747cd6ef9d0d501495dcb1a",
     "grade": false,
     "grade_id": "cell-9abb82db6e8413d1",
     "locked": false,
     "schema_version": 3,
     "solution": true,
     "task": false
    }
   },
   "outputs": [
    {
     "data": {
      "text/plain": [
       "large_model_nn(\n",
       "  (fc1): Linear(in_features=2, out_features=1024, bias=True)\n",
       "  (fc2): Linear(in_features=1024, out_features=1024, bias=True)\n",
       "  (fc3): Linear(in_features=1024, out_features=1024, bias=True)\n",
       "  (fc4): Linear(in_features=1024, out_features=512, bias=True)\n",
       "  (fc5): Linear(in_features=512, out_features=3, bias=True)\n",
       ")"
      ]
     },
     "execution_count": 297,
     "metadata": {},
     "output_type": "execute_result"
    }
   ],
   "source": [
    "# YOUR CODE HERE\n",
    "class large_model_nn(nn.Module):\n",
    "    def __init__(self, input_size, num_classes):\n",
    "            super(large_model_nn, self).__init__()\n",
    "            self.fc1 = nn.Linear(input_size, 1024)\n",
    "            self.fc2 = nn.Linear(1024, 1024)  \n",
    "            self.fc3 = nn.Linear(1024, 1024)\n",
    "            self.fc4 = nn.Linear(1024, 512)\n",
    "            self.fc5 = nn.Linear(512, num_classes)\n",
    "\n",
    "    def forward(self, x):\n",
    "        # Define the forward pass\n",
    "        x = torch.relu(self.fc1(x))\n",
    "        x = torch.relu(self.fc2(x))\n",
    "        x = torch.relu(self.fc3(x))\n",
    "        x = torch.relu(self.fc4(x))\n",
    "        x = torch.softmax(self.fc5(x), dim=1)\n",
    "        return x\n",
    "    \n",
    "large_model = large_model_nn(input_size=2, num_classes=3)\n",
    "device = torch.device(\"cuda\" if torch.cuda.is_available() else \"cpu\")\n",
    "large_model.to(device)  \n"
   ]
  },
  {
   "cell_type": "code",
   "execution_count": 298,
   "metadata": {
    "deletable": false,
    "editable": false,
    "nbgrader": {
     "cell_type": "code",
     "checksum": "380a2b65c2bb0730aa6cb147e7c4e74f",
     "grade": true,
     "grade_id": "cell-098f92715968886f",
     "locked": true,
     "points": 1,
     "schema_version": 3,
     "solution": false,
     "task": false
    }
   },
   "outputs": [],
   "source": [
    "assert isinstance(large_model, nn.Module), \"large_model should be a torch.nn.Module\"\n",
    "test_model_output_shape(large_model)"
   ]
  },
  {
   "cell_type": "markdown",
   "metadata": {
    "deletable": false,
    "editable": false,
    "nbgrader": {
     "cell_type": "markdown",
     "checksum": "f52e36900e80e083dbc6ba73f0d000d5",
     "grade": false,
     "grade_id": "cell-ea77af681fd56aaf",
     "locked": true,
     "schema_version": 3,
     "solution": false,
     "task": false
    }
   },
   "source": [
    "Again, draw the decision regions of the network. What do you expect to see now? How will the regions differ from the previous ones?"
   ]
  },
  {
   "cell_type": "code",
   "execution_count": 299,
   "metadata": {
    "deletable": false,
    "nbgrader": {
     "cell_type": "code",
     "checksum": "88522dc56161b5b0ec1e47709327f81e",
     "grade": false,
     "grade_id": "cell-2386af80723e8770",
     "locked": false,
     "schema_version": 3,
     "solution": true,
     "task": false
    }
   },
   "outputs": [
    {
     "name": "stdout",
     "output_type": "stream",
     "text": [
      "Epoch [1/200], Train Loss: 1.0678, Train Accuracy: 40.83%, Val Loss: 1.1000, Val Accuracy: 42.64%\n",
      "Epoch [2/200], Train Loss: 0.9545, Train Accuracy: 57.26%, Val Loss: 1.0734, Val Accuracy: 47.61%\n",
      "Epoch [3/200], Train Loss: 0.9949, Train Accuracy: 54.05%, Val Loss: 0.9958, Val Accuracy: 51.23%\n",
      "Epoch [4/200], Train Loss: 0.9064, Train Accuracy: 63.40%, Val Loss: 1.0321, Val Accuracy: 51.81%\n",
      "Epoch [5/200], Train Loss: 0.9109, Train Accuracy: 63.85%, Val Loss: 0.9924, Val Accuracy: 58.54%\n",
      "Epoch [6/200], Train Loss: 0.8831, Train Accuracy: 66.73%, Val Loss: 1.0172, Val Accuracy: 52.89%\n",
      "Epoch [7/200], Train Loss: 0.8942, Train Accuracy: 65.60%, Val Loss: 0.9545, Val Accuracy: 59.61%\n",
      "Epoch [8/200], Train Loss: 0.8780, Train Accuracy: 66.41%, Val Loss: 0.9589, Val Accuracy: 59.22%\n",
      "Epoch [9/200], Train Loss: 0.8639, Train Accuracy: 68.56%, Val Loss: 0.9656, Val Accuracy: 58.44%\n",
      "Epoch [10/200], Train Loss: 0.8682, Train Accuracy: 67.93%, Val Loss: 0.9196, Val Accuracy: 60.10%\n",
      "Epoch [11/200], Train Loss: 0.8422, Train Accuracy: 70.88%, Val Loss: 0.9520, Val Accuracy: 59.91%\n",
      "Epoch [12/200], Train Loss: 0.8804, Train Accuracy: 66.85%, Val Loss: 0.9003, Val Accuracy: 66.83%\n",
      "Epoch [13/200], Train Loss: 0.8436, Train Accuracy: 70.88%, Val Loss: 0.9844, Val Accuracy: 53.37%\n",
      "Epoch [14/200], Train Loss: 0.8536, Train Accuracy: 68.98%, Val Loss: 0.9900, Val Accuracy: 52.89%\n",
      "Epoch [15/200], Train Loss: 0.8885, Train Accuracy: 66.40%, Val Loss: 0.9410, Val Accuracy: 61.18%\n",
      "Epoch [16/200], Train Loss: 0.8363, Train Accuracy: 71.43%, Val Loss: 0.8741, Val Accuracy: 67.71%\n",
      "Epoch [17/200], Train Loss: 0.8616, Train Accuracy: 68.82%, Val Loss: 0.8833, Val Accuracy: 66.54%\n",
      "Epoch [18/200], Train Loss: 0.8463, Train Accuracy: 70.52%, Val Loss: 0.8790, Val Accuracy: 67.22%\n",
      "Epoch [19/200], Train Loss: 0.8327, Train Accuracy: 71.87%, Val Loss: 0.8779, Val Accuracy: 67.61%\n",
      "Epoch [20/200], Train Loss: 0.8425, Train Accuracy: 70.59%, Val Loss: 0.9421, Val Accuracy: 61.76%\n",
      "Epoch [21/200], Train Loss: 0.8428, Train Accuracy: 70.65%, Val Loss: 0.9397, Val Accuracy: 61.86%\n",
      "Epoch [22/200], Train Loss: 0.8376, Train Accuracy: 71.47%, Val Loss: 0.9907, Val Accuracy: 55.91%\n",
      "Epoch [23/200], Train Loss: 0.8449, Train Accuracy: 70.39%, Val Loss: 0.9891, Val Accuracy: 56.11%\n",
      "Epoch [24/200], Train Loss: 0.8395, Train Accuracy: 71.05%, Val Loss: 0.9378, Val Accuracy: 61.86%\n",
      "Epoch [25/200], Train Loss: 0.8466, Train Accuracy: 70.42%, Val Loss: 0.9257, Val Accuracy: 62.64%\n",
      "Epoch [26/200], Train Loss: 0.8267, Train Accuracy: 72.48%, Val Loss: 0.9260, Val Accuracy: 62.54%\n",
      "Epoch [27/200], Train Loss: 0.8519, Train Accuracy: 69.94%, Val Loss: 0.9281, Val Accuracy: 62.25%\n",
      "Epoch [28/200], Train Loss: 0.8488, Train Accuracy: 70.13%, Val Loss: 0.9319, Val Accuracy: 61.96%\n",
      "Epoch [29/200], Train Loss: 0.8329, Train Accuracy: 71.85%, Val Loss: 0.8744, Val Accuracy: 67.71%\n",
      "Epoch [30/200], Train Loss: 0.8390, Train Accuracy: 71.11%, Val Loss: 0.8738, Val Accuracy: 67.71%\n",
      "Epoch [31/200], Train Loss: 0.8365, Train Accuracy: 71.33%, Val Loss: 0.8706, Val Accuracy: 68.10%\n",
      "Epoch [32/200], Train Loss: 0.8943, Train Accuracy: 65.67%, Val Loss: 0.8685, Val Accuracy: 68.29%\n",
      "Epoch [33/200], Train Loss: 0.8448, Train Accuracy: 70.78%, Val Loss: 0.9464, Val Accuracy: 60.49%\n",
      "Epoch [34/200], Train Loss: 0.8434, Train Accuracy: 70.66%, Val Loss: 0.9967, Val Accuracy: 55.43%\n",
      "Epoch [35/200], Train Loss: 0.8697, Train Accuracy: 68.09%, Val Loss: 1.0118, Val Accuracy: 53.96%\n",
      "Epoch [36/200], Train Loss: 0.8539, Train Accuracy: 69.69%, Val Loss: 1.0749, Val Accuracy: 46.94%\n",
      "Epoch [37/200], Train Loss: 0.8886, Train Accuracy: 65.71%, Val Loss: 0.9537, Val Accuracy: 59.52%\n",
      "Epoch [38/200], Train Loss: 0.8739, Train Accuracy: 67.68%, Val Loss: 0.9487, Val Accuracy: 60.20%\n",
      "Epoch [39/200], Train Loss: 0.8613, Train Accuracy: 68.97%, Val Loss: 0.9440, Val Accuracy: 60.59%\n",
      "Epoch [40/200], Train Loss: 0.8467, Train Accuracy: 70.42%, Val Loss: 0.9300, Val Accuracy: 62.15%\n",
      "Epoch [41/200], Train Loss: 0.8509, Train Accuracy: 69.97%, Val Loss: 0.9353, Val Accuracy: 61.66%\n",
      "Epoch [42/200], Train Loss: 0.8565, Train Accuracy: 69.49%, Val Loss: 0.9275, Val Accuracy: 62.35%\n",
      "Epoch [43/200], Train Loss: 0.8378, Train Accuracy: 71.36%, Val Loss: 0.9300, Val Accuracy: 62.15%\n",
      "Epoch [44/200], Train Loss: 0.8471, Train Accuracy: 70.44%, Val Loss: 0.9328, Val Accuracy: 61.86%\n",
      "Epoch [45/200], Train Loss: 0.8618, Train Accuracy: 68.96%, Val Loss: 0.9328, Val Accuracy: 61.86%\n",
      "Epoch [46/200], Train Loss: 0.8554, Train Accuracy: 69.59%, Val Loss: 0.9328, Val Accuracy: 61.86%\n",
      "Epoch [47/200], Train Loss: 0.8423, Train Accuracy: 70.92%, Val Loss: 0.9328, Val Accuracy: 61.86%\n",
      "Epoch [48/200], Train Loss: 0.8485, Train Accuracy: 70.29%, Val Loss: 0.9328, Val Accuracy: 61.86%\n",
      "Epoch [49/200], Train Loss: 0.8418, Train Accuracy: 70.92%, Val Loss: 0.9302, Val Accuracy: 62.15%\n",
      "Epoch [50/200], Train Loss: 0.8512, Train Accuracy: 69.99%, Val Loss: 0.9903, Val Accuracy: 55.43%\n",
      "Epoch [51/200], Train Loss: 0.8534, Train Accuracy: 69.42%, Val Loss: 0.9328, Val Accuracy: 61.86%\n",
      "Epoch [52/200], Train Loss: 0.8589, Train Accuracy: 69.10%, Val Loss: 0.9436, Val Accuracy: 60.79%\n",
      "Epoch [53/200], Train Loss: 0.8555, Train Accuracy: 69.59%, Val Loss: 0.9523, Val Accuracy: 59.91%\n",
      "Epoch [54/200], Train Loss: 0.8625, Train Accuracy: 68.94%, Val Loss: 1.0149, Val Accuracy: 53.67%\n",
      "Epoch [55/200], Train Loss: 0.8748, Train Accuracy: 67.64%, Val Loss: 0.9592, Val Accuracy: 59.22%\n",
      "Epoch [56/200], Train Loss: 0.8762, Train Accuracy: 67.53%, Val Loss: 0.9613, Val Accuracy: 59.03%\n",
      "Epoch [57/200], Train Loss: 0.8772, Train Accuracy: 67.35%, Val Loss: 0.9554, Val Accuracy: 59.61%\n",
      "Epoch [58/200], Train Loss: 0.8713, Train Accuracy: 67.85%, Val Loss: 0.9514, Val Accuracy: 60.00%\n",
      "Epoch [59/200], Train Loss: 0.8656, Train Accuracy: 68.58%, Val Loss: 0.9504, Val Accuracy: 60.10%\n",
      "Epoch [60/200], Train Loss: 0.8755, Train Accuracy: 67.60%, Val Loss: 0.9446, Val Accuracy: 60.69%\n",
      "Epoch [61/200], Train Loss: 0.8814, Train Accuracy: 67.00%, Val Loss: 0.9444, Val Accuracy: 60.69%\n",
      "Epoch [62/200], Train Loss: 0.8667, Train Accuracy: 68.47%, Val Loss: 0.9446, Val Accuracy: 60.69%\n",
      "Epoch [63/200], Train Loss: 0.8502, Train Accuracy: 70.14%, Val Loss: 0.9937, Val Accuracy: 55.72%\n",
      "Epoch [64/200], Train Loss: 0.8449, Train Accuracy: 70.65%, Val Loss: 0.9945, Val Accuracy: 55.72%\n",
      "Epoch [65/200], Train Loss: 0.8596, Train Accuracy: 69.14%, Val Loss: 0.9940, Val Accuracy: 55.72%\n",
      "Epoch [66/200], Train Loss: 0.8588, Train Accuracy: 69.24%, Val Loss: 0.9328, Val Accuracy: 61.86%\n",
      "Epoch [67/200], Train Loss: 0.8757, Train Accuracy: 67.49%, Val Loss: 0.9328, Val Accuracy: 61.86%\n",
      "Epoch [68/200], Train Loss: 0.8464, Train Accuracy: 70.50%, Val Loss: 0.9497, Val Accuracy: 61.47%\n",
      "Epoch [69/200], Train Loss: 0.8555, Train Accuracy: 69.53%, Val Loss: 0.9927, Val Accuracy: 55.82%\n",
      "Epoch [70/200], Train Loss: 0.8466, Train Accuracy: 70.50%, Val Loss: 0.9924, Val Accuracy: 55.91%\n",
      "Epoch [71/200], Train Loss: 0.8538, Train Accuracy: 69.72%, Val Loss: 0.9346, Val Accuracy: 61.76%\n",
      "Epoch [72/200], Train Loss: 0.8471, Train Accuracy: 70.50%, Val Loss: 0.9338, Val Accuracy: 61.76%\n",
      "Epoch [73/200], Train Loss: 0.8422, Train Accuracy: 70.92%, Val Loss: 0.9857, Val Accuracy: 56.01%\n",
      "Epoch [74/200], Train Loss: 0.8527, Train Accuracy: 69.95%, Val Loss: 0.9329, Val Accuracy: 61.86%\n",
      "Epoch [75/200], Train Loss: 0.8556, Train Accuracy: 69.59%, Val Loss: 0.9328, Val Accuracy: 61.86%\n",
      "Epoch [76/200], Train Loss: 0.8553, Train Accuracy: 69.59%, Val Loss: 0.9338, Val Accuracy: 61.66%\n",
      "Epoch [77/200], Train Loss: 0.8622, Train Accuracy: 68.96%, Val Loss: 0.9328, Val Accuracy: 61.86%\n",
      "Epoch [78/200], Train Loss: 0.8527, Train Accuracy: 69.87%, Val Loss: 0.9328, Val Accuracy: 61.86%\n",
      "Epoch [79/200], Train Loss: 0.8506, Train Accuracy: 70.08%, Val Loss: 0.9305, Val Accuracy: 61.96%\n",
      "Epoch [80/200], Train Loss: 0.8427, Train Accuracy: 70.84%, Val Loss: 0.9377, Val Accuracy: 61.37%\n",
      "Epoch [81/200], Train Loss: 0.8646, Train Accuracy: 68.57%, Val Loss: 0.9367, Val Accuracy: 61.47%\n",
      "Epoch [82/200], Train Loss: 0.8539, Train Accuracy: 69.74%, Val Loss: 0.9309, Val Accuracy: 62.06%\n",
      "Epoch [83/200], Train Loss: 0.8644, Train Accuracy: 68.67%, Val Loss: 0.9717, Val Accuracy: 55.03%\n",
      "Epoch [84/200], Train Loss: 0.8488, Train Accuracy: 70.13%, Val Loss: 0.9298, Val Accuracy: 62.15%\n",
      "Epoch [85/200], Train Loss: 0.8733, Train Accuracy: 67.85%, Val Loss: 0.9948, Val Accuracy: 55.62%\n",
      "Epoch [86/200], Train Loss: 0.8625, Train Accuracy: 68.90%, Val Loss: 0.9951, Val Accuracy: 55.62%\n",
      "Epoch [87/200], Train Loss: 0.8674, Train Accuracy: 68.41%, Val Loss: 0.9954, Val Accuracy: 55.62%\n",
      "Epoch [88/200], Train Loss: 0.8429, Train Accuracy: 70.91%, Val Loss: 0.9347, Val Accuracy: 61.66%\n",
      "Epoch [89/200], Train Loss: 0.8465, Train Accuracy: 70.49%, Val Loss: 0.9309, Val Accuracy: 62.06%\n",
      "Epoch [90/200], Train Loss: 0.8514, Train Accuracy: 70.00%, Val Loss: 0.9310, Val Accuracy: 62.06%\n",
      "Epoch [91/200], Train Loss: 0.8372, Train Accuracy: 71.47%, Val Loss: 0.9308, Val Accuracy: 62.06%\n",
      "Epoch [92/200], Train Loss: 0.8514, Train Accuracy: 70.00%, Val Loss: 0.9299, Val Accuracy: 62.15%\n",
      "Epoch [93/200], Train Loss: 0.8508, Train Accuracy: 70.07%, Val Loss: 0.9299, Val Accuracy: 62.15%\n",
      "Epoch [94/200], Train Loss: 0.8606, Train Accuracy: 69.08%, Val Loss: 0.9299, Val Accuracy: 62.15%\n",
      "Epoch [95/200], Train Loss: 0.8480, Train Accuracy: 70.34%, Val Loss: 0.9299, Val Accuracy: 62.15%\n",
      "Epoch [96/200], Train Loss: 0.8733, Train Accuracy: 67.82%, Val Loss: 0.9299, Val Accuracy: 62.15%\n",
      "Epoch [97/200], Train Loss: 0.8649, Train Accuracy: 68.66%, Val Loss: 0.9299, Val Accuracy: 62.15%\n",
      "Epoch [98/200], Train Loss: 0.8501, Train Accuracy: 70.13%, Val Loss: 0.9299, Val Accuracy: 62.15%\n",
      "Epoch [99/200], Train Loss: 0.8522, Train Accuracy: 69.92%, Val Loss: 0.9299, Val Accuracy: 62.15%\n",
      "Epoch [100/200], Train Loss: 0.8291, Train Accuracy: 72.23%, Val Loss: 0.9299, Val Accuracy: 62.15%\n",
      "Epoch [101/200], Train Loss: 0.8396, Train Accuracy: 71.18%, Val Loss: 0.9299, Val Accuracy: 62.15%\n",
      "Epoch [102/200], Train Loss: 0.8333, Train Accuracy: 71.81%, Val Loss: 0.9299, Val Accuracy: 62.15%\n",
      "Epoch [103/200], Train Loss: 0.8333, Train Accuracy: 71.81%, Val Loss: 0.9299, Val Accuracy: 62.15%\n",
      "Epoch [104/200], Train Loss: 0.8375, Train Accuracy: 71.39%, Val Loss: 0.9299, Val Accuracy: 62.15%\n",
      "Epoch [105/200], Train Loss: 0.8375, Train Accuracy: 71.39%, Val Loss: 0.9299, Val Accuracy: 62.15%\n",
      "Epoch [106/200], Train Loss: 0.8291, Train Accuracy: 72.23%, Val Loss: 0.9299, Val Accuracy: 62.15%\n",
      "Epoch [107/200], Train Loss: 0.8375, Train Accuracy: 71.39%, Val Loss: 0.9299, Val Accuracy: 62.15%\n",
      "Epoch [108/200], Train Loss: 0.8249, Train Accuracy: 72.66%, Val Loss: 0.9299, Val Accuracy: 62.15%\n",
      "Epoch [109/200], Train Loss: 0.8165, Train Accuracy: 73.50%, Val Loss: 0.9299, Val Accuracy: 62.15%\n",
      "Epoch [110/200], Train Loss: 0.8564, Train Accuracy: 69.50%, Val Loss: 0.9299, Val Accuracy: 62.15%\n",
      "Epoch [111/200], Train Loss: 0.8417, Train Accuracy: 70.97%, Val Loss: 0.9299, Val Accuracy: 62.15%\n",
      "Epoch [112/200], Train Loss: 0.8522, Train Accuracy: 69.92%, Val Loss: 0.9299, Val Accuracy: 62.15%\n",
      "Epoch [113/200], Train Loss: 0.8522, Train Accuracy: 69.92%, Val Loss: 0.9299, Val Accuracy: 62.15%\n",
      "Epoch [114/200], Train Loss: 0.8670, Train Accuracy: 68.45%, Val Loss: 0.9299, Val Accuracy: 62.15%\n",
      "Epoch [115/200], Train Loss: 0.8375, Train Accuracy: 71.39%, Val Loss: 0.9299, Val Accuracy: 62.15%\n",
      "Epoch [116/200], Train Loss: 0.8501, Train Accuracy: 70.13%, Val Loss: 0.9299, Val Accuracy: 62.15%\n",
      "Epoch [117/200], Train Loss: 0.8291, Train Accuracy: 72.23%, Val Loss: 0.9299, Val Accuracy: 62.15%\n",
      "Epoch [118/200], Train Loss: 0.8586, Train Accuracy: 69.29%, Val Loss: 0.9299, Val Accuracy: 62.15%\n",
      "Epoch [119/200], Train Loss: 0.8607, Train Accuracy: 69.08%, Val Loss: 0.9299, Val Accuracy: 62.15%\n",
      "Epoch [120/200], Train Loss: 0.8564, Train Accuracy: 69.50%, Val Loss: 0.9299, Val Accuracy: 62.15%\n",
      "Epoch [121/200], Train Loss: 0.8543, Train Accuracy: 69.71%, Val Loss: 0.9299, Val Accuracy: 62.15%\n",
      "Epoch [122/200], Train Loss: 0.8480, Train Accuracy: 70.34%, Val Loss: 0.9299, Val Accuracy: 62.15%\n",
      "Epoch [123/200], Train Loss: 0.8586, Train Accuracy: 69.29%, Val Loss: 0.9299, Val Accuracy: 62.15%\n",
      "Epoch [124/200], Train Loss: 0.8417, Train Accuracy: 70.97%, Val Loss: 0.9299, Val Accuracy: 62.15%\n",
      "Epoch [125/200], Train Loss: 0.8375, Train Accuracy: 71.39%, Val Loss: 0.9299, Val Accuracy: 62.15%\n",
      "Epoch [126/200], Train Loss: 0.8249, Train Accuracy: 72.66%, Val Loss: 0.9299, Val Accuracy: 62.15%\n",
      "Epoch [127/200], Train Loss: 0.8312, Train Accuracy: 72.02%, Val Loss: 0.9299, Val Accuracy: 62.15%\n",
      "Epoch [128/200], Train Loss: 0.8396, Train Accuracy: 71.18%, Val Loss: 0.9299, Val Accuracy: 62.15%\n",
      "Epoch [129/200], Train Loss: 0.8417, Train Accuracy: 70.97%, Val Loss: 0.9299, Val Accuracy: 62.15%\n",
      "Epoch [130/200], Train Loss: 0.8249, Train Accuracy: 72.66%, Val Loss: 0.9299, Val Accuracy: 62.15%\n",
      "Epoch [131/200], Train Loss: 0.8522, Train Accuracy: 69.92%, Val Loss: 0.9299, Val Accuracy: 62.15%\n",
      "Epoch [132/200], Train Loss: 0.8522, Train Accuracy: 69.92%, Val Loss: 0.9299, Val Accuracy: 62.15%\n",
      "Epoch [133/200], Train Loss: 0.8607, Train Accuracy: 69.08%, Val Loss: 0.9299, Val Accuracy: 62.15%\n",
      "Epoch [134/200], Train Loss: 0.8543, Train Accuracy: 69.71%, Val Loss: 0.9299, Val Accuracy: 62.15%\n",
      "Epoch [135/200], Train Loss: 0.8649, Train Accuracy: 68.66%, Val Loss: 0.9299, Val Accuracy: 62.15%\n",
      "Epoch [136/200], Train Loss: 0.8333, Train Accuracy: 71.81%, Val Loss: 0.9299, Val Accuracy: 62.15%\n",
      "Epoch [137/200], Train Loss: 0.8480, Train Accuracy: 70.34%, Val Loss: 0.9299, Val Accuracy: 62.15%\n",
      "Epoch [138/200], Train Loss: 0.8207, Train Accuracy: 73.08%, Val Loss: 0.9299, Val Accuracy: 62.15%\n",
      "Epoch [139/200], Train Loss: 0.8417, Train Accuracy: 70.97%, Val Loss: 0.9299, Val Accuracy: 62.15%\n",
      "Epoch [140/200], Train Loss: 0.8417, Train Accuracy: 70.97%, Val Loss: 0.9299, Val Accuracy: 62.15%\n",
      "Epoch [141/200], Train Loss: 0.8333, Train Accuracy: 71.81%, Val Loss: 0.9299, Val Accuracy: 62.15%\n",
      "Epoch [142/200], Train Loss: 0.8417, Train Accuracy: 70.97%, Val Loss: 0.9299, Val Accuracy: 62.15%\n",
      "Epoch [143/200], Train Loss: 0.8501, Train Accuracy: 70.13%, Val Loss: 0.9299, Val Accuracy: 62.15%\n",
      "Epoch [144/200], Train Loss: 0.8522, Train Accuracy: 69.92%, Val Loss: 0.9299, Val Accuracy: 62.15%\n",
      "Epoch [145/200], Train Loss: 0.8543, Train Accuracy: 69.71%, Val Loss: 0.9299, Val Accuracy: 62.15%\n",
      "Epoch [146/200], Train Loss: 0.8438, Train Accuracy: 70.76%, Val Loss: 0.9299, Val Accuracy: 62.15%\n",
      "Epoch [147/200], Train Loss: 0.8438, Train Accuracy: 70.76%, Val Loss: 0.9299, Val Accuracy: 62.15%\n",
      "Epoch [148/200], Train Loss: 0.8354, Train Accuracy: 71.60%, Val Loss: 0.9299, Val Accuracy: 62.15%\n",
      "Epoch [149/200], Train Loss: 0.8501, Train Accuracy: 70.13%, Val Loss: 0.9299, Val Accuracy: 62.15%\n",
      "Epoch [150/200], Train Loss: 0.8522, Train Accuracy: 69.92%, Val Loss: 0.9299, Val Accuracy: 62.15%\n",
      "Epoch [151/200], Train Loss: 0.8607, Train Accuracy: 69.08%, Val Loss: 0.9299, Val Accuracy: 62.15%\n",
      "Epoch [152/200], Train Loss: 0.8649, Train Accuracy: 68.66%, Val Loss: 0.9299, Val Accuracy: 62.15%\n",
      "Epoch [153/200], Train Loss: 0.8543, Train Accuracy: 69.71%, Val Loss: 0.9299, Val Accuracy: 62.15%\n",
      "Epoch [154/200], Train Loss: 0.8291, Train Accuracy: 72.23%, Val Loss: 0.9299, Val Accuracy: 62.15%\n",
      "Epoch [155/200], Train Loss: 0.8375, Train Accuracy: 71.39%, Val Loss: 0.9299, Val Accuracy: 62.15%\n",
      "Epoch [156/200], Train Loss: 0.8586, Train Accuracy: 69.29%, Val Loss: 0.9299, Val Accuracy: 62.15%\n",
      "Epoch [157/200], Train Loss: 0.8354, Train Accuracy: 71.60%, Val Loss: 0.9299, Val Accuracy: 62.15%\n",
      "Epoch [158/200], Train Loss: 0.8291, Train Accuracy: 72.23%, Val Loss: 0.9299, Val Accuracy: 62.15%\n",
      "Epoch [159/200], Train Loss: 0.8249, Train Accuracy: 72.66%, Val Loss: 0.9299, Val Accuracy: 62.15%\n",
      "Epoch [160/200], Train Loss: 0.8480, Train Accuracy: 70.34%, Val Loss: 0.9299, Val Accuracy: 62.15%\n",
      "Epoch [161/200], Train Loss: 0.8459, Train Accuracy: 70.55%, Val Loss: 0.9299, Val Accuracy: 62.15%\n",
      "Epoch [162/200], Train Loss: 0.8417, Train Accuracy: 70.97%, Val Loss: 0.9299, Val Accuracy: 62.15%\n",
      "Epoch [163/200], Train Loss: 0.8438, Train Accuracy: 70.76%, Val Loss: 0.9299, Val Accuracy: 62.15%\n",
      "Epoch [164/200], Train Loss: 0.8270, Train Accuracy: 72.44%, Val Loss: 0.9299, Val Accuracy: 62.15%\n",
      "Epoch [165/200], Train Loss: 0.8522, Train Accuracy: 69.92%, Val Loss: 0.9299, Val Accuracy: 62.15%\n",
      "Epoch [166/200], Train Loss: 0.8312, Train Accuracy: 72.02%, Val Loss: 0.9299, Val Accuracy: 62.15%\n",
      "Epoch [167/200], Train Loss: 0.8522, Train Accuracy: 69.92%, Val Loss: 0.9299, Val Accuracy: 62.15%\n",
      "Epoch [168/200], Train Loss: 0.8417, Train Accuracy: 70.97%, Val Loss: 0.9299, Val Accuracy: 62.15%\n",
      "Epoch [169/200], Train Loss: 0.8438, Train Accuracy: 70.76%, Val Loss: 0.9299, Val Accuracy: 62.15%\n",
      "Epoch [170/200], Train Loss: 0.8396, Train Accuracy: 71.18%, Val Loss: 0.9299, Val Accuracy: 62.15%\n",
      "Epoch [171/200], Train Loss: 0.8501, Train Accuracy: 70.13%, Val Loss: 0.9299, Val Accuracy: 62.15%\n",
      "Epoch [172/200], Train Loss: 0.8417, Train Accuracy: 70.97%, Val Loss: 0.9299, Val Accuracy: 62.15%\n",
      "Epoch [173/200], Train Loss: 0.8270, Train Accuracy: 72.44%, Val Loss: 0.9299, Val Accuracy: 62.15%\n",
      "Epoch [174/200], Train Loss: 0.8438, Train Accuracy: 70.76%, Val Loss: 0.9299, Val Accuracy: 62.15%\n",
      "Epoch [175/200], Train Loss: 0.8375, Train Accuracy: 71.39%, Val Loss: 0.9299, Val Accuracy: 62.15%\n",
      "Epoch [176/200], Train Loss: 0.8607, Train Accuracy: 69.08%, Val Loss: 0.9299, Val Accuracy: 62.15%\n",
      "Epoch [177/200], Train Loss: 0.8354, Train Accuracy: 71.60%, Val Loss: 0.9299, Val Accuracy: 62.15%\n",
      "Epoch [178/200], Train Loss: 0.8396, Train Accuracy: 71.18%, Val Loss: 0.9299, Val Accuracy: 62.15%\n",
      "Epoch [179/200], Train Loss: 0.8438, Train Accuracy: 70.76%, Val Loss: 0.9299, Val Accuracy: 62.15%\n",
      "Epoch [180/200], Train Loss: 0.8291, Train Accuracy: 72.23%, Val Loss: 0.9299, Val Accuracy: 62.15%\n",
      "Epoch [181/200], Train Loss: 0.8375, Train Accuracy: 71.39%, Val Loss: 0.9299, Val Accuracy: 62.15%\n",
      "Epoch [182/200], Train Loss: 0.8375, Train Accuracy: 71.39%, Val Loss: 0.9299, Val Accuracy: 62.15%\n",
      "Epoch [183/200], Train Loss: 0.8396, Train Accuracy: 71.18%, Val Loss: 0.9299, Val Accuracy: 62.15%\n",
      "Epoch [184/200], Train Loss: 0.8438, Train Accuracy: 70.76%, Val Loss: 0.9299, Val Accuracy: 62.15%\n",
      "Epoch [185/200], Train Loss: 0.8564, Train Accuracy: 69.50%, Val Loss: 0.9299, Val Accuracy: 62.15%\n",
      "Epoch [186/200], Train Loss: 0.8375, Train Accuracy: 71.39%, Val Loss: 0.9299, Val Accuracy: 62.15%\n",
      "Epoch [187/200], Train Loss: 0.8396, Train Accuracy: 71.18%, Val Loss: 0.9299, Val Accuracy: 62.15%\n",
      "Epoch [188/200], Train Loss: 0.8501, Train Accuracy: 70.13%, Val Loss: 0.9299, Val Accuracy: 62.15%\n",
      "Epoch [189/200], Train Loss: 0.8417, Train Accuracy: 70.97%, Val Loss: 0.9299, Val Accuracy: 62.15%\n",
      "Epoch [190/200], Train Loss: 0.8670, Train Accuracy: 68.45%, Val Loss: 0.9299, Val Accuracy: 62.15%\n",
      "Epoch [191/200], Train Loss: 0.8670, Train Accuracy: 68.45%, Val Loss: 0.9299, Val Accuracy: 62.15%\n",
      "Epoch [192/200], Train Loss: 0.8459, Train Accuracy: 70.55%, Val Loss: 0.9299, Val Accuracy: 62.15%\n",
      "Epoch [193/200], Train Loss: 0.8165, Train Accuracy: 73.50%, Val Loss: 0.9299, Val Accuracy: 62.15%\n",
      "Epoch [194/200], Train Loss: 0.8564, Train Accuracy: 69.50%, Val Loss: 0.9299, Val Accuracy: 62.15%\n",
      "Epoch [195/200], Train Loss: 0.8417, Train Accuracy: 70.97%, Val Loss: 0.9299, Val Accuracy: 62.15%\n",
      "Epoch [196/200], Train Loss: 0.8459, Train Accuracy: 70.55%, Val Loss: 0.9299, Val Accuracy: 62.15%\n",
      "Epoch [197/200], Train Loss: 0.8375, Train Accuracy: 71.39%, Val Loss: 0.9299, Val Accuracy: 62.15%\n",
      "Epoch [198/200], Train Loss: 0.8459, Train Accuracy: 70.55%, Val Loss: 0.9299, Val Accuracy: 62.15%\n",
      "Epoch [199/200], Train Loss: 0.8586, Train Accuracy: 69.29%, Val Loss: 0.9299, Val Accuracy: 62.15%\n",
      "Epoch [200/200], Train Loss: 0.8333, Train Accuracy: 71.81%, Val Loss: 0.9299, Val Accuracy: 62.15%\n"
     ]
    },
    {
     "data": {
      "image/png": "[encoded data removed]",
      "text/plain": [
       "<Figure size 1700x600 with 2 Axes>"
      ]
     },
     "metadata": {},
     "output_type": "display_data"
    },
    {
     "data": {
      "image/png": "[encoded data removed]",
      "text/plain": [
       "<Figure size 1000x600 with 1 Axes>"
      ]
     },
     "metadata": {},
     "output_type": "display_data"
    }
   ],
   "source": [
    "# YOUR CODE HERE\n",
    "# Train the model\n",
    "epochs = 200\n",
    "learning_rate = 0.003\n",
    "loss_fn = nn.CrossEntropyLoss()\n",
    "optimizer = torch.optim.Adam(large_model.parameters(), lr=learning_rate)\n",
    "train_losses, val_losses, train_accuracies, val_accuracies = train_model(\n",
    "    model=large_model,\n",
    "    optimizer=optimizer,\n",
    "    loss_fn=loss_fn,\n",
    "    num_epochs=epochs,\n",
    "    train_dataloader=loader_train,\n",
    "    val_dataloader=loader_val,\n",
    "    device=device,\n",
    ")\n",
    "\n",
    "def plot_results(train_losses, val_losses, train_accs, val_accs):\n",
    "  epochs = range(1, len(train_losses) + 1)\n",
    "  \n",
    "  plt.figure(figsize=(17, 6))\n",
    "  \n",
    "  # Plotting Loss\n",
    "  plt.subplot(1, 2, 1)\n",
    "  plt.plot(epochs, train_losses, label='Training Loss')\n",
    "  plt.plot(epochs, val_losses, label='Validation Loss')\n",
    "  plt.xlabel('Epochs')\n",
    "  plt.ylabel('Loss')\n",
    "  plt.title('Training and Validation Loss')\n",
    "  plt.legend()\n",
    "  \n",
    "  # Plotting Accuracy\n",
    "  plt.subplot(1, 2, 2)\n",
    "  plt.plot(epochs, train_accs, label='Training Accuracy')\n",
    "  plt.plot(epochs, val_accs, label='Validation Accuracy')\n",
    "  plt.xlabel('Epochs')\n",
    "  plt.ylabel('Accuracy')\n",
    "  plt.title('Training and Validation Accuracy')\n",
    "  plt.legend()\n",
    "  \n",
    "  # plt.tight_layout()\n",
    "  plt.show()\n",
    "\n",
    "plot_results(train_losses, val_losses, train_accuracies, val_accuracies)\n",
    "plot_decision_region(large_model, x_train, y_train, x_val, y_val)\n"
   ]
  },
  {
   "cell_type": "markdown",
   "metadata": {
    "deletable": false,
    "editable": false,
    "nbgrader": {
     "cell_type": "markdown",
     "checksum": "9ef3d89592ae3e4b31d52cf243fb0d22",
     "grade": false,
     "grade_id": "cell-7ad8cc34d293f12f",
     "locked": true,
     "schema_version": 3,
     "solution": false,
     "task": false
    }
   },
   "source": [
    "How do the decision regions differ between the tiny, large and the network you trained? Can you explain why this happens? Relate your answer to the concepts you learned in the first lectures."
   ]
  },
  {
   "cell_type": "markdown",
   "metadata": {
    "deletable": false,
    "nbgrader": {
     "cell_type": "markdown",
     "checksum": "e61e4bd20e11dece795ed80558fa0c6f",
     "grade": true,
     "grade_id": "cell-b2b3d4743f149248",
     "locked": false,
     "points": 0,
     "schema_version": 3,
     "solution": true,
     "task": false
    }
   },
   "source": [
    "**Your answer:** (fill in here)"
   ]
  },
  {
   "cell_type": "markdown",
   "metadata": {
    "deletable": false,
    "editable": false,
    "nbgrader": {
     "cell_type": "markdown",
     "checksum": "08f25d921ab7040f778a202f5a69b1a7",
     "grade": false,
     "grade_id": "cell-effc356fff18a4b5",
     "locked": true,
     "schema_version": 3,
     "solution": false
    }
   },
   "source": [
    "## 5. Evaluation"
   ]
  },
  {
   "cell_type": "markdown",
   "metadata": {
    "deletable": false,
    "editable": false,
    "nbgrader": {
     "cell_type": "markdown",
     "checksum": "1b8c71783af4d4c94ae59eb356856591",
     "grade": false,
     "grade_id": "cell-b2bbee2adf94b7d3",
     "locked": true,
     "schema_version": 3,
     "solution": false
    }
   },
   "source": [
    "Back to your original model. Once you achieved at least 60% accuracy in the validation set with your main model, we are done with its training. Now we'll evaluate the performance of your classifier on the test set."
   ]
  },
  {
   "cell_type": "markdown",
   "metadata": {
    "deletable": false,
    "editable": false,
    "nbgrader": {
     "cell_type": "markdown",
     "checksum": "79420c8cb4af750ed05be42a2c4d528b",
     "grade": false,
     "grade_id": "cell-3f4ab762e2890554",
     "locked": true,
     "schema_version": 3,
     "solution": false
    }
   },
   "source": [
    "Compute the accuracy on the test set."
   ]
  },
  {
   "cell_type": "code",
   "execution_count": 230,
   "metadata": {
    "deletable": false,
    "nbgrader": {
     "cell_type": "code",
     "checksum": "a28be10f6e90e487934989e8ef58b193",
     "grade": false,
     "grade_id": "cell-64d1008aafb3e518",
     "locked": false,
     "schema_version": 3,
     "solution": true,
     "task": false
    }
   },
   "outputs": [
    {
     "name": "stdout",
     "output_type": "stream",
     "text": [
      "Test accuracy: 0.000.\n"
     ]
    }
   ],
   "source": [
    "main_model_test_accuracy = 0\n",
    "# YOUR CODE HERE\n",
    "print(f\"Test accuracy: {main_model_test_accuracy:.3f}.\")"
   ]
  },
  {
   "cell_type": "code",
   "execution_count": 231,
   "metadata": {
    "deletable": false,
    "editable": false,
    "nbgrader": {
     "cell_type": "code",
     "checksum": "3523a57a836d53349b06e311c4085fd5",
     "grade": true,
     "grade_id": "cell-8290e0d3e722c85f",
     "locked": true,
     "points": 1,
     "schema_version": 3,
     "solution": false,
     "task": false
    }
   },
   "outputs": [
    {
     "ename": "AssertionError",
     "evalue": "",
     "output_type": "error",
     "traceback": [
      "\u001b[0;31m---------------------------------------------------------------------------\u001b[0m",
      "\u001b[0;31mAssertionError\u001b[0m                            Traceback (most recent call last)",
      "Cell \u001b[0;32mIn[231], line 1\u001b[0m\n\u001b[0;32m----> 1\u001b[0m \u001b[38;5;28;01massert\u001b[39;00m main_model_test_accuracy \u001b[38;5;241m>\u001b[39m \u001b[38;5;241m0.6\u001b[39m\n",
      "\u001b[0;31mAssertionError\u001b[0m: "
     ]
    }
   ],
   "source": [
    "assert main_model_test_accuracy > 0.6"
   ]
  },
  {
   "cell_type": "markdown",
   "metadata": {
    "deletable": false,
    "editable": false,
    "nbgrader": {
     "cell_type": "markdown",
     "checksum": "4437b0233832d6897896b322856771a3",
     "grade": false,
     "grade_id": "cell-75bfc44531d04fb0",
     "locked": true,
     "schema_version": 3,
     "solution": false,
     "task": false
    }
   },
   "source": [
    "Most likely, you'll get a different (slightly worse) accuracy than the one you got on the validation set. Why is this? Also, why do we need both a test and validation set?"
   ]
  },
  {
   "cell_type": "markdown",
   "metadata": {
    "deletable": false,
    "nbgrader": {
     "cell_type": "markdown",
     "checksum": "c0737ad696946a7d4383701faa264867",
     "grade": true,
     "grade_id": "cell-249cc96508c4de0b",
     "locked": false,
     "points": 0,
     "schema_version": 3,
     "solution": true,
     "task": false
    }
   },
   "source": [
    "**Your answer:** (fill in here)"
   ]
  },
  {
   "cell_type": "markdown",
   "metadata": {
    "deletable": false,
    "editable": false,
    "nbgrader": {
     "cell_type": "markdown",
     "checksum": "c68e1c93373146e59048b2f847e15e6f",
     "grade": false,
     "grade_id": "cell-8232dd159f8d4887",
     "locked": true,
     "schema_version": 3,
     "solution": false
    }
   },
   "source": [
    "Next, compute the confusion matrix of your predictions on the test set and save it as `conf_mat`."
   ]
  },
  {
   "cell_type": "code",
   "execution_count": null,
   "metadata": {
    "deletable": false,
    "nbgrader": {
     "cell_type": "code",
     "checksum": "97c533c440746fc0b1f79274a2ceee25",
     "grade": false,
     "grade_id": "cell-9475a5163acc3249",
     "locked": false,
     "schema_version": 3,
     "solution": true,
     "task": false
    }
   },
   "outputs": [],
   "source": [
    "# YOUR CODE HERE\n",
    "print(conf_mat)"
   ]
  },
  {
   "cell_type": "code",
   "execution_count": null,
   "metadata": {
    "deletable": false,
    "editable": false,
    "nbgrader": {
     "cell_type": "code",
     "checksum": "5546a1442dec7b94a0696ee69a270bc6",
     "grade": true,
     "grade_id": "cell-d016323f6263c643",
     "locked": true,
     "points": 1,
     "schema_version": 3,
     "solution": false,
     "task": false
    }
   },
   "outputs": [],
   "source": [
    "assert isinstance(conf_mat, np.ndarray) or isinstance(\n",
    "    conf_mat, torch.Tensor\n",
    "), \"conf_mat should be a numpy array or torch.Tensor\"\n",
    "assert conf_mat.shape == (3, 3), \"conf_mat should have shape (3, 3), i.e. 3 classes\"\n",
    "assert np.sum(conf_mat) == len(\n",
    "    dataset_test\n",
    "), \"conf_mat should sum up to the number of test samples\""
   ]
  },
  {
   "cell_type": "markdown",
   "metadata": {
    "deletable": false,
    "editable": false,
    "nbgrader": {
     "cell_type": "markdown",
     "checksum": "742f3a87c97efede0dc19953c1db108b",
     "grade": false,
     "grade_id": "cell-a5e9c635fcf0e14d",
     "locked": true,
     "schema_version": 3,
     "solution": false
    }
   },
   "source": [
    "What can you conclude from the computed accuracy and confusion matrix?"
   ]
  },
  {
   "cell_type": "markdown",
   "metadata": {
    "deletable": false,
    "nbgrader": {
     "cell_type": "markdown",
     "checksum": "59b0c3fb373653839818423f7129f074",
     "grade": true,
     "grade_id": "cell-b93435335accba07",
     "locked": false,
     "points": 0,
     "schema_version": 3,
     "solution": true
    }
   },
   "source": [
    "**Your answer:** (fill in here)"
   ]
  },
  {
   "cell_type": "markdown",
   "metadata": {
    "deletable": false,
    "editable": false,
    "nbgrader": {
     "cell_type": "markdown",
     "checksum": "99a1266a62880be4cf1f724ed704ddb2",
     "grade": false,
     "grade_id": "cell-b731aebed710ae07",
     "locked": true,
     "schema_version": 3,
     "solution": false
    }
   },
   "source": [
    "## 6. Exploration"
   ]
  },
  {
   "cell_type": "markdown",
   "metadata": {
    "deletable": false,
    "editable": false,
    "nbgrader": {
     "cell_type": "markdown",
     "checksum": "ca3f2bc4e6ee91e121425e12e58b589d",
     "grade": false,
     "grade_id": "cell-79904bd828487a07",
     "locked": true,
     "schema_version": 3,
     "solution": false
    }
   },
   "source": [
    "You have now trained and evaluated a neural network for this particular classification task. Can you provide a brief explanation as to how you could use it to decide where to travel, if you're interested in capturing the aforementioned Pokemons?"
   ]
  },
  {
   "cell_type": "markdown",
   "metadata": {
    "deletable": false,
    "nbgrader": {
     "cell_type": "markdown",
     "checksum": "a8aeac76ab83248b3e84126f1200e50f",
     "grade": true,
     "grade_id": "cell-79ac9ff2b09a41b5",
     "locked": false,
     "points": 0,
     "schema_version": 3,
     "solution": true
    }
   },
   "source": [
    "**Your answer:** (fill in here)"
   ]
  },
  {
   "cell_type": "markdown",
   "metadata": {
    "deletable": false,
    "editable": false,
    "nbgrader": {
     "cell_type": "markdown",
     "checksum": "90283187bfd4f2f6aaf11df18a8e88ba",
     "grade": false,
     "grade_id": "cell-8041a4537430ba53",
     "locked": true,
     "schema_version": 3,
     "solution": false
    }
   },
   "source": [
    "Is (are) there any other feature(s) from the original dataset (e.g. hour of the day, pressure, wind speed, population density, etc.) which you think would be valuable to add as an input feature to your classifier to improve its performance? "
   ]
  },
  {
   "cell_type": "markdown",
   "metadata": {
    "deletable": false,
    "nbgrader": {
     "cell_type": "markdown",
     "checksum": "92bfb21c07460ec7bf06f56c3acee803",
     "grade": true,
     "grade_id": "cell-c2def6009a95f2a6",
     "locked": false,
     "points": 0,
     "schema_version": 3,
     "solution": true
    }
   },
   "source": [
    "**Your answer:** (fill in here)"
   ]
  },
  {
   "cell_type": "markdown",
   "metadata": {
    "deletable": false,
    "editable": false,
    "nbgrader": {
     "cell_type": "markdown",
     "checksum": "4e0eb26832febb3a136740004988db6b",
     "grade": false,
     "grade_id": "cell-e9f21e8b0fe33751",
     "locked": true,
     "schema_version": 3,
     "solution": false
    }
   },
   "source": [
    "To investigate your hypothesis, plot a histogram of the selected feature(s) for each one of the pokemons we're interested in. For example, if you think pressure and population density are valuable for prediction, plot 6 histograms. 3 of them will be the pressure histograms for each class ('Diglett', 'Seel' and 'Tauros'), and the other 3 will be the population density for each class."
   ]
  },
  {
   "cell_type": "code",
   "execution_count": null,
   "metadata": {
    "deletable": false,
    "nbgrader": {
     "cell_type": "code",
     "checksum": "6701fb6bd1284791b9c065777eaaebae",
     "grade": true,
     "grade_id": "cell-b18deaa33c46ec92",
     "locked": false,
     "points": 0,
     "schema_version": 3,
     "solution": true
    }
   },
   "outputs": [],
   "source": [
    "# YOUR CODE HERE"
   ]
  },
  {
   "cell_type": "markdown",
   "metadata": {
    "deletable": false,
    "editable": false,
    "nbgrader": {
     "cell_type": "markdown",
     "checksum": "6845805e5d221d5a320d0630b3fa0257",
     "grade": false,
     "grade_id": "cell-f51c8bdfaf2e03f4",
     "locked": true,
     "schema_version": 3,
     "solution": false
    }
   },
   "source": [
    "What does/do this/these histogram(s) show you? Could it be beneficial to add this/these new feature(s) as input? Explain why/why not."
   ]
  },
  {
   "cell_type": "markdown",
   "metadata": {
    "deletable": false,
    "nbgrader": {
     "cell_type": "markdown",
     "checksum": "c4810811a9300a653185a38c62a0f73c",
     "grade": true,
     "grade_id": "cell-f9522e4fa9c010be",
     "locked": false,
     "points": 0,
     "schema_version": 3,
     "solution": true
    }
   },
   "source": [
    "**Your answer:** (fill in here)"
   ]
  },
  {
   "cell_type": "markdown",
   "metadata": {
    "deletable": false,
    "editable": false,
    "nbgrader": {
     "cell_type": "markdown",
     "checksum": "dbf51d6ca2c3eed999d1e41aa1cec7de",
     "grade": false,
     "grade_id": "cell-284bf5af1750b1b5",
     "locked": true,
     "schema_version": 3,
     "solution": false,
     "task": false
    }
   },
   "source": [
    "The purpose was this assignment was mostly to make you design a network for classification, using this Pokemon dataset as use case. However, if you want to find those three particular Pokemons, most likely using a network for classification is not the best approach. An alternative would be to perform localization by using regression instead. **Can you state some pros and cons of approach this as a regression problem instead of a classification problem?** (We do not expect very detailed answers, you will pass the assignment as long as you make a reasonable attempt at explaining the pros and cons.)"
   ]
  },
  {
   "cell_type": "markdown",
   "metadata": {
    "deletable": false,
    "nbgrader": {
     "cell_type": "markdown",
     "checksum": "dd2cd90f071d43e463aea1a3f0852c49",
     "grade": true,
     "grade_id": "cell-bd241242621ae646",
     "locked": false,
     "points": 0,
     "schema_version": 3,
     "solution": true,
     "task": false
    }
   },
   "source": [
    "**Your answer:** (fill in here)"
   ]
  },
  {
   "cell_type": "markdown",
   "metadata": {
    "deletable": false,
    "editable": false,
    "nbgrader": {
     "cell_type": "markdown",
     "checksum": "c457c6ffe7696ea8b13215805bb2fa2c",
     "grade": false,
     "grade_id": "cell-fccdd48334c7c70c",
     "locked": true,
     "schema_version": 3,
     "solution": false
    }
   },
   "source": [
    "## 7. (optional)"
   ]
  },
  {
   "cell_type": "markdown",
   "metadata": {
    "deletable": false,
    "editable": false,
    "nbgrader": {
     "cell_type": "markdown",
     "checksum": "efe34b502ca4d51a53e7b32992411f97",
     "grade": false,
     "grade_id": "cell-3e8a75d10f4fb404",
     "locked": true,
     "schema_version": 3,
     "solution": false
    }
   },
   "source": [
    "Assuming you found useful new features in the last part of this assignment, train a new classifier that uses these featues as well. Did the accuracy on the validation set improve? What's the highest accuracy you can achieve?"
   ]
  },
  {
   "cell_type": "code",
   "execution_count": null,
   "metadata": {
    "deletable": false,
    "nbgrader": {
     "cell_type": "code",
     "checksum": "d483a1678e8725ea9ba41ce15bb78a64",
     "grade": true,
     "grade_id": "cell-c4a9ddfda9cd7a08",
     "locked": false,
     "points": 0,
     "schema_version": 3,
     "solution": true
    }
   },
   "outputs": [],
   "source": [
    "# YOUR CODE HERE"
   ]
  }
 ],
 "metadata": {
  "kernelspec": {
   "display_name": "Python 3 (ipykernel)",
   "language": "python",
   "name": "python3"
  },
  "language_info": {
   "codemirror_mode": {
    "name": "ipython",
    "version": 3
   },
   "file_extension": ".py",
   "mimetype": "text/x-python",
   "name": "python",
   "nbconvert_exporter": "python",
   "pygments_lexer": "ipython3",
   "version": "3.11.9"
  },
  "vscode": {
   "interpreter": {
    "hash": "39c912f2fd3fdf7d106cc51aff015157ada41dad8144becd8bcb717d81c78182"
   }
  }
 },
 "nbformat": 4,
 "nbformat_minor": 4
}
